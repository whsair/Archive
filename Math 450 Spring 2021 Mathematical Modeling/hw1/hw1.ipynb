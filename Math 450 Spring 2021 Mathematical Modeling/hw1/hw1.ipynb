{
 "cells": [
  {
   "cell_type": "markdown",
   "metadata": {},
   "source": [
    "# Math 450 Homework 1"
   ]
  },
  {
   "cell_type": "markdown",
   "metadata": {},
   "source": [
    "## Hongshuo Wang"
   ]
  },
  {
   "cell_type": "markdown",
   "metadata": {},
   "source": [
    "## 1. What summary statistic about a set of people is most useful in determining each of the following?\n"
   ]
  },
  {
   "cell_type": "markdown",
   "metadata": {},
   "source": [
    "### a. Height of a door"
   ]
  },
  {
   "cell_type": "markdown",
   "metadata": {},
   "source": [
    "range of the height of in the set people (set door's height = maximal height of people)\n",
    "\n",
    "or\n",
    "\n",
    "mean of the height of people in the set (set door's height = mean of height of people)"
   ]
  },
  {
   "cell_type": "markdown",
   "metadata": {},
   "source": [
    "### b. Maximum capacity of a ferry"
   ]
  },
  {
   "cell_type": "markdown",
   "metadata": {},
   "source": [
    "size of people & range of weight of people\n",
    "\n",
    "Maximum capacity = size of people in the set x the maximum weight of people in the set"
   ]
  },
  {
   "cell_type": "markdown",
   "metadata": {},
   "source": [
    "### c. Width of a cellphone"
   ]
  },
  {
   "cell_type": "markdown",
   "metadata": {},
   "source": [
    "mean of people's hand size in the set (set width of a cellphone = mean of people's hand size)"
   ]
  },
  {
   "cell_type": "markdown",
   "metadata": {},
   "source": [
    "### d. Width between seat rows on an airplane"
   ]
  },
  {
   "cell_type": "markdown",
   "metadata": {},
   "source": [
    "mean of leg length or height of people in the set (set width between seat rows = mean of leg length of people)"
   ]
  },
  {
   "cell_type": "markdown",
   "metadata": {},
   "source": [
    "## 2. How would the survey design change if Mason and Dixon used 20’ secants instead of 10’ secants?\n"
   ]
  },
  {
   "cell_type": "code",
   "execution_count": 1,
   "metadata": {},
   "outputs": [],
   "source": [
    "from numpy import *"
   ]
  },
  {
   "cell_type": "code",
   "execution_count": 2,
   "metadata": {},
   "outputs": [
    {
     "name": "stdout",
     "output_type": "stream",
     "text": [
      "C = 90.0, b = 0.16666666666666666, c = 50.2785 (in degree)\n"
     ]
    }
   ],
   "source": [
    "C = 90.0\n",
    "b = 10.0/60.0\n",
    "c = 90.0 - (39 + 43.0/60.0 + 17.4/3600.0)\n",
    "print(f'C = {C}, b = {b}, c = {c} (in degree)')"
   ]
  },
  {
   "cell_type": "code",
   "execution_count": 3,
   "metadata": {},
   "outputs": [
    {
     "name": "stdout",
     "output_type": "stream",
     "text": [
      "a = 50.278298595252885 degree\n",
      "A = 89.86152446124436 degree\n"
     ]
    }
   ],
   "source": [
    "a = arccos(cos(deg2rad(c))/cos(deg2rad(b)))\n",
    "A = arccos(tan(deg2rad(b))/tan(deg2rad(c)))\n",
    "print(f\"a = {rad2deg(a)} degree\") \n",
    "print(f\"A = {rad2deg(A)} degree\") "
   ]
  },
  {
   "cell_type": "code",
   "execution_count": 4,
   "metadata": {
    "scrolled": false
   },
   "outputs": [
    {
     "name": "stdout",
     "output_type": "stream",
     "text": [
      "To draw 40th parallel, walk 20', then 0.13847553875564245 degree norht of dead west, walk 20', etc\n"
     ]
    }
   ],
   "source": [
    "print(f\"To draw 40th parallel, walk 20', then {90 - rad2deg(A)} degree north of dead west, walk 20', etc\")"
   ]
  },
  {
   "cell_type": "code",
   "execution_count": 5,
   "metadata": {
    "scrolled": true
   },
   "outputs": [
    {
     "name": "stdout",
     "output_type": "stream",
     "text": [
      "20' = 36.593736650147775 km\n"
     ]
    }
   ],
   "source": [
    "r = 6.29e6\n",
    "l = deg2rad(20/60)*r\n",
    "print(f\"20' = {l/1000.0} km\")"
   ]
  },
  {
   "cell_type": "code",
   "execution_count": 6,
   "metadata": {},
   "outputs": [
    {
     "name": "stdout",
     "output_type": "stream",
     "text": [
      "The error between the arc and the parallel by subtracting the long leg from our hypotenuseoutput_error: \n",
      " 22.110456828199794 m\n"
     ]
    }
   ],
   "source": [
    "\n",
    "error = c-rad2deg(a)\n",
    "output_error = (error)*(2*pi/360)*r\n",
    "print(f\"The error between the arc and the parallel by subtracting the long leg from our hypotenuseoutput_error: \\n {output_error} m\")"
   ]
  },
  {
   "cell_type": "markdown",
   "metadata": {},
   "source": [
    "## 3. Suppose you measured the altitudes of the sun as 60 degrees 1 minute in London and 59 degrees 33 minutes in York. Then you measured the distance from York to London as 367,196 feet (about 112 kilometers). What was his estimate for the radius of the earth (in kilometers)?"
   ]
  },
  {
   "cell_type": "markdown",
   "metadata": {},
   "source": [
    "<img src=\"hw1.3.jpg\" alt=\"Drawing\" style=\"width: 1000px;\"/>"
   ]
  },
  {
   "cell_type": "code",
   "execution_count": 12,
   "metadata": {
    "scrolled": true
   },
   "outputs": [
    {
     "name": "stdout",
     "output_type": "stream",
     "text": [
      "The altitudes of the sun in London: a = 60.016666666666666 degree\n",
      "The altitudes of the sun in York: b = 59.55 degree\n",
      "The distance from York to London: d = 111.92270178005364 km\n"
     ]
    }
   ],
   "source": [
    "a = 60.0 + 1/60.0\n",
    "b = 59.0 + 33/60.0\n",
    "d = 367196/3280.8\n",
    "print(f\"The altitudes of the sun in London: a = {a} degree\\nThe altitudes of the sun in York: b = {b} degree\\nThe distance from York to London: d = {d} km\")"
   ]
  },
  {
   "cell_type": "code",
   "execution_count": 17,
   "metadata": {},
   "outputs": [
    {
     "name": "stdout",
     "output_type": "stream",
     "text": [
      "degree = 0.46666666666666856\n",
      "function: radius = arc/degree\n",
      "The radius of the earth: 13741.496665067987 km\n"
     ]
    }
   ],
   "source": [
    "arc = deg2rad(abs(180-(180-b+a)))\n",
    "r = d/arc\n",
    "print(f\"degree = {abs(180-(180-b+a))}\")\n",
    "print(\"function: radius = arc/degree\")\n",
    "print(f\"The radius of the earth: {r} km\")"
   ]
  },
  {
   "cell_type": "markdown",
   "metadata": {},
   "source": [
    "## 4. Imagine that in our cycloid problem, we could extend the position of the mark beyond the rim of the wheel. Numerically plot (i.e., write a little program to plot) the path when R = 1 and r = 1.5 for 3 revolutions."
   ]
  },
  {
   "cell_type": "code",
   "execution_count": 9,
   "metadata": {},
   "outputs": [
    {
     "name": "stdout",
     "output_type": "stream",
     "text": [
      "R = 1 and r = 1.5 for 3 revolutions \n"
     ]
    }
   ],
   "source": [
    "R = 1\n",
    "r = 1.5\n",
    "t = linspace(0,6*pi,2000)\n",
    "print(f\"R = 1 and r = 1.5 for 3 revolutions \")"
   ]
  },
  {
   "cell_type": "code",
   "execution_count": 10,
   "metadata": {},
   "outputs": [
    {
     "data": {
      "image/png": "[encoded data removed]",
      "text/plain": [
       "<Figure size 432x288 with 1 Axes>"
      ]
     },
     "metadata": {
      "needs_background": "light"
     },
     "output_type": "display_data"
    }
   ],
   "source": [
    "from pylab import *\n",
    "\n",
    "def main():\n",
    "    @vectorize\n",
    "    def parametricCurve(t, r, R):\n",
    "        return ( R*t - r*sin(t), R - r*cos(t) )\n",
    "    x, y = parametricCurve(t,r,R)\n",
    "    plot(x,y,'b-')\n",
    "    ylim(-0.5,2.5)\n",
    "    show()\n",
    "\n",
    "main()"
   ]
  },
  {
   "cell_type": "markdown",
   "metadata": {},
   "source": [
    "## 5. Archimedes’ trammel is not the only way to construct an ellipse. Imagine two thumb tacks placed on cardboard a distance d apart. Take a string of length L, tie it in a loop, hang it over the thumb tacks, and draw the curve of the farthest the loop can reach. Show using coordinate geometry that this curve is also an ellipse, as long as as L > 2d."
   ]
  },
  {
   "cell_type": "markdown",
   "metadata": {},
   "source": [
    "<img src=\"hw1.5setup.png\" alt=\"Drawing\" style=\"width: 1000px;\"/>"
   ]
  },
  {
   "cell_type": "markdown",
   "metadata": {},
   "source": [
    "Using setup above and set the origin right between two thumb then the ordinate of thumb1 t1 and thumb1 t2 is (-d/2,0) and (d/2,0)"
   ]
  },
  {
   "cell_type": "markdown",
   "metadata": {},
   "source": [
    "$L = p + q \\\\\n",
    "t_{1}t_{2} = d \\\\\n",
    "p^2 = (d/2 + x)^2 + y^2 \\\\\n",
    "q^2 = (d/2 - x)^2 + y^2$"
   ]
  },
  {
   "cell_type": "markdown",
   "metadata": {},
   "source": [
    "The last two equations implies"
   ]
  },
  {
   "cell_type": "markdown",
   "metadata": {},
   "source": [
    "$\n",
    "p = \\sqrt{\\frac{d^2}{4} + dx + x^2 + y^2} \\\\\n",
    "q = \\sqrt{\\frac{d^2}{4} - dx + x^2 + y^2} \\\\\n",
    "L = \\sqrt{\\frac{d^2}{4} + dx + x^2 + y^2} + \\sqrt{\\frac{d^2}{4} - dx + x^2 + y^2} \\\\\n",
    "L - \\sqrt{\\frac{d^2}{4} + dx + x^2 + y^2} =  \\sqrt{\\frac{d^2}{4} - dx + x^2 + y^2} $"
   ]
  },
  {
   "cell_type": "markdown",
   "metadata": {},
   "source": [
    "Sqaure both side"
   ]
  },
  {
   "cell_type": "markdown",
   "metadata": {},
   "source": [
    "$\n",
    "L^2 - 2L\\sqrt{\\frac{d^2}{4} + dx + x^2 + y^2} + 2dx = 0 \\\\\n",
    "L^2 +2dx = 2L\\sqrt{\\frac{d^2}{4} + dx + x^2 + y^2} $"
   ]
  },
  {
   "cell_type": "markdown",
   "metadata": {},
   "source": [
    "Square both side again"
   ]
  },
  {
   "cell_type": "markdown",
   "metadata": {},
   "source": [
    "$\n",
    "(L^2 +2dx)^2 = 4L^2(\\frac{d^2}{4} + dx + x^2 + y^2) \\\\\n",
    "L^4 + 4d^2x^2 = L^2d^2 + 4L^2x^2 + 4L^2y^2 \\\\\n",
    "x^2(4L^2 - 4d^2) + y^2(4L^2) = L^2(L^2 - d^2)\n",
    "$ "
   ]
  },
  {
   "cell_type": "markdown",
   "metadata": {},
   "source": [
    "Result:"
   ]
  },
  {
   "cell_type": "markdown",
   "metadata": {},
   "source": [
    "$\n",
    "\\frac{x^2}{\\frac{L^2}{4}}  + \\frac{y^2}{\\frac{(L^2 - d^2)}{4}} = 1\n",
    "$"
   ]
  },
  {
   "cell_type": "markdown",
   "metadata": {},
   "source": [
    "$\\frac{(L^2 - d^2)}{4} > 0 \\\\\n",
    "\\frac{L^2}{4} > 0 $\n",
    "\n",
    "since L > 2d > 0\n",
    "\n",
    "Thus, this curve is an ellipse."
   ]
  },
  {
   "cell_type": "markdown",
   "metadata": {},
   "source": [
    "## 6. A linkage consists of a handle turning in a circle around a pivot point, and a slider connected to the handle by a connecting rod of fixed length. The handle pivot point is the origin and the slider is initially to the right of the origin, and moves allong the x-axis. A pen is passed through a point on the connecting rod between the slider and the handle. Find an equation for the curve drawn by the pen, depending only on the physical constants of the mechanism"
   ]
  },
  {
   "cell_type": "markdown",
   "metadata": {},
   "source": [
    "<img src=\"hw1.6.jpg\" alt=\"Drawing\" style=\"width: 1000px;\"/>"
   ]
  },
  {
   "cell_type": "markdown",
   "metadata": {},
   "source": [
    "### a. How many physical constants are needed to define this mechanism?"
   ]
  },
  {
   "cell_type": "markdown",
   "metadata": {},
   "source": [
    "There exists two physical constants: r, s and p\n",
    "\n",
    "r is the length of handle\n",
    "\n",
    "s is the length of rod\n",
    "\n",
    "p is the distance between pen and slider\n",
    "\n"
   ]
  },
  {
   "cell_type": "markdown",
   "metadata": {},
   "source": [
    "### b. How many variables are specify the position of the linkage?"
   ]
  },
  {
   "cell_type": "markdown",
   "metadata": {},
   "source": [
    "Three variables: x, y, and q \n",
    "\n",
    "x, y are the pen's location on the rod\n",
    "\n",
    "q is the location of slider on x-axis"
   ]
  },
  {
   "cell_type": "markdown",
   "metadata": {},
   "source": [
    "### c. Find a set of equations sufficient to specify the curve drawn by the pen."
   ]
  },
  {
   "cell_type": "markdown",
   "metadata": {},
   "source": [
    "$ s^2 = (q - r\\cos\\theta)^2 + (r\\sin\\theta)^2 \\\\ \\frac{d}{s} = \\frac{q - x}{q - r\\cos\\theta} \\\\ \\frac{d}{s} = \\frac{y}{r\\sin\\theta} $"
   ]
  },
  {
   "cell_type": "markdown",
   "metadata": {},
   "source": [
    "### d. Treating slider position as a free parameter, find a pair of parametric equations for the pen curve.\n"
   ]
  },
  {
   "cell_type": "markdown",
   "metadata": {},
   "source": [
    "By #1 equation,\n",
    "\n",
    "$ \\cos\\theta = \\frac{q^2 + r^2 -s^2}{2rq} \\\\ \\sin\\theta = \\sqrt{1 - (\\frac{q^2 + r^2 -s^2}{2rq})^2} \\\\ \\theta = \\arccos\\frac{q^2 + r^2 -s^2}{2rq}$\n",
    "\n",
    "By #2,3 equations,\n",
    "\n",
    "$ x = q - \\frac{d(q-r\\cos\\theta)}{s} \\\\ y = \\frac{dr\\sin\\theta}{s} $\n",
    "\n",
    "Combine everything together\n",
    "\n",
    "result:\n",
    "\n",
    "$ x = q - \\frac{d(q-r\\frac{q^2 + r^2 -s^2}{2rq})}{s} \\\\ y = \\frac{dr\\sin(\\arccos\\frac{q^2 + r^2 -s^2}{2rq})}{s} $"
   ]
  },
  {
   "cell_type": "markdown",
   "metadata": {},
   "source": [
    "### e. Plot the pen curve when the radius of the circle is 2, the length of the connecting rod is 1 percent longer, and the pen is located at the three middle quarter points of the connecting rod (so your picture has 3 curves).\n"
   ]
  },
  {
   "cell_type": "code",
   "execution_count": 98,
   "metadata": {
    "scrolled": false
   },
   "outputs": [
    {
     "name": "stderr",
     "output_type": "stream",
     "text": [
      "C:\\Users\\wangh_qx6\\anaconda3\\envs\\gec\\lib\\site-packages\\ipykernel_launcher.py:7: RuntimeWarning: invalid value encountered in arccos\n",
      "  import sys\n",
      "C:\\Users\\wangh_qx6\\anaconda3\\envs\\gec\\lib\\site-packages\\ipykernel_launcher.py:12: RuntimeWarning: invalid value encountered in sqrt\n",
      "  if sys.path[0] == '':\n",
      "C:\\Users\\wangh_qx6\\anaconda3\\envs\\gec\\lib\\site-packages\\ipykernel_launcher.py:13: RuntimeWarning: invalid value encountered in sqrt\n",
      "  del sys.path[0]\n",
      "C:\\Users\\wangh_qx6\\anaconda3\\envs\\gec\\lib\\site-packages\\ipykernel_launcher.py:7: RuntimeWarning: invalid value encountered in arccos\n",
      "  import sys\n",
      "C:\\Users\\wangh_qx6\\anaconda3\\envs\\gec\\lib\\site-packages\\ipykernel_launcher.py:12: RuntimeWarning: invalid value encountered in sqrt\n",
      "  if sys.path[0] == '':\n",
      "C:\\Users\\wangh_qx6\\anaconda3\\envs\\gec\\lib\\site-packages\\ipykernel_launcher.py:13: RuntimeWarning: invalid value encountered in sqrt\n",
      "  del sys.path[0]\n",
      "C:\\Users\\wangh_qx6\\anaconda3\\envs\\gec\\lib\\site-packages\\ipykernel_launcher.py:7: RuntimeWarning: invalid value encountered in arccos\n",
      "  import sys\n",
      "C:\\Users\\wangh_qx6\\anaconda3\\envs\\gec\\lib\\site-packages\\ipykernel_launcher.py:12: RuntimeWarning: invalid value encountered in sqrt\n",
      "  if sys.path[0] == '':\n",
      "C:\\Users\\wangh_qx6\\anaconda3\\envs\\gec\\lib\\site-packages\\ipykernel_launcher.py:13: RuntimeWarning: invalid value encountered in sqrt\n",
      "  del sys.path[0]\n"
     ]
    },
    {
     "data": {
      "image/png": "[encoded data removed]",
      "text/plain": [
       "<Figure size 432x288 with 1 Axes>"
      ]
     },
     "metadata": {
      "needs_background": "light"
     },
     "output_type": "display_data"
    }
   ],
   "source": [
    "from pylab import *\n",
    "\n",
    "def main():\n",
    "    @vectorize\n",
    "    def parametricCurve(q, s, r, d): \n",
    "        c = (q**2 + r**2 - s**2)/(2*r*q)\n",
    "        t = arccos(c)\n",
    "        \n",
    "        \n",
    "        x = q - d*(q - r*cos(t))/s\n",
    "        \n",
    "        y1 = d * r * sqrt(1 - c**2)/s\n",
    "        y2 = -d * r * sqrt(1 - c**2)/s\n",
    "        return (x,y1,y2)\n",
    "        \n",
    "    \n",
    "    q = linspace(0.005,4.02,100000)\n",
    "    s = 2.0 * 1.01\n",
    "    r = 2.0\n",
    "    d = [s*0.25,s*0.5,s*0.75]\n",
    "    \n",
    "    \n",
    "    \n",
    "    \n",
    "    for i in range(3):\n",
    "        x, y1,y2 = parametricCurve(q,s,r,d[i])\n",
    "        plot(x,y1,'b-')\n",
    "        plot(x,y2,'b-')\n",
    "    \n",
    "    ylim(-2.5,2.5)\n",
    "    show()\n",
    "\n",
    "main()"
   ]
  },
  {
   "cell_type": "markdown",
   "metadata": {},
   "source": [
    "Reference:\n",
    "\n",
    "1. https://gtribello.github.io/mathNET/assets/notebook-writing.html\n",
    "2. https://www.pinterest.com/pin/408138784966719300/\n",
    "3. https://github.com/davidsandberg/facenet/issues/692\n",
    "\n"
   ]
  }
 ],
 "metadata": {
  "kernelspec": {
   "display_name": "Python 3",
   "language": "python",
   "name": "python3"
  },
  "language_info": {
   "codemirror_mode": {
    "name": "ipython",
    "version": 3
   },
   "file_extension": ".py",
   "mimetype": "text/x-python",
   "name": "python",
   "nbconvert_exporter": "python",
   "pygments_lexer": "ipython3",
   "version": "3.7.8"
  }
 },
 "nbformat": 4,
 "nbformat_minor": 4
}
