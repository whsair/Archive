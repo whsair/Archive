{
 "cells": [
  {
   "cell_type": "markdown",
   "metadata": {},
   "source": [
    "# Math 450 Homework 3\n",
    "# Surveying & Differential equations modeling\n",
    "\n",
    "## Hongshuo Wang"
   ]
  },
  {
   "cell_type": "markdown",
   "metadata": {},
   "source": [
    "# Q1"
   ]
  },
  {
   "cell_type": "code",
   "execution_count": 1,
   "metadata": {},
   "outputs": [],
   "source": [
    "from numpy import *\n",
    "from scipy import linalg, random, integrate\n",
    "from matplotlib.pyplot import *"
   ]
  },
  {
   "cell_type": "markdown",
   "metadata": {},
   "source": [
    "1. Given that A(1,0), B(0,0), C(0,2), $\\angle 1$ = $\\angle APB$ and $\\angle 2$ = $\\angle BPC $, let $\\alpha  = \\angle PBA$ and z = Cp' where z + p'A = $\\sqrt{5}$\n"
   ]
  },
  {
   "cell_type": "markdown",
   "metadata": {},
   "source": [
    "<img src=\"hw3.1.jpg\" alt=\"Drawing\" style=\"width: 1000px;\"/>"
   ]
  },
  {
   "cell_type": "markdown",
   "metadata": {},
   "source": [
    "let t = PA and s = Cp"
   ]
  },
  {
   "cell_type": "markdown",
   "metadata": {},
   "source": [
    "$ s = \\frac{2sin(\\frac{\\pi}{2}-\\angle \\alpha)}{sin\\angle 2} = \\frac{2cos(\\alpha)}{sin\\angle2}\\\\ t = \\frac{sin( \\alpha)}{sin\\angle 1}$\n"
   ]
  },
  {
   "cell_type": "markdown",
   "metadata": {},
   "source": [
    "In triangle CAP\n",
    "\n",
    "$\\frac{s}{sin\\angle pi-\\alpha-A} = \\frac{z}{sin\\angle2}$\n",
    "\n",
    "$\\frac{\\sqrt{5}-z}{sin\\angle 1} = \\frac{t}{sin(\\alpha + A)}$"
   ]
  },
  {
   "cell_type": "markdown",
   "metadata": {},
   "source": [
    "plugging into t and equation"
   ]
  },
  {
   "cell_type": "markdown",
   "metadata": {},
   "source": [
    "$\\frac{2cos\\alpha}{sin\\angle 2} = \\frac{z sin(\\alpha + A)}{sin \\angle 2}$\n",
    "\n",
    "$\\frac{(\\sqrt{5}-z)sin(\\alpha+A)}{sin\\angle 1}=\\frac{\\alpha}{sin\\angle 1}$\n",
    "\n"
   ]
  },
  {
   "cell_type": "markdown",
   "metadata": {},
   "source": [
    "Simplifying equations, we will get:"
   ]
  },
  {
   "cell_type": "markdown",
   "metadata": {},
   "source": [
    "$2cos(\\alpha) = zcos(\\alpha + A)\\\\sin(\\alpha)=\\sqrt{5}-zsin(\\alpha+A)$"
   ]
  },
  {
   "cell_type": "markdown",
   "metadata": {},
   "source": [
    "Solve for nonlinear equation using scipy.optimze.fsolve"
   ]
  },
  {
   "cell_type": "code",
   "execution_count": 2,
   "metadata": {},
   "outputs": [
    {
     "data": {
      "text/plain": [
       "1.1071487177940904"
      ]
     },
     "execution_count": 2,
     "metadata": {},
     "output_type": "execute_result"
    }
   ],
   "source": [
    "A = arctan(2)\n",
    "A"
   ]
  },
  {
   "cell_type": "code",
   "execution_count": 3,
   "metadata": {},
   "outputs": [
    {
     "data": {
      "text/plain": [
       "1.5707963267948966"
      ]
     },
     "execution_count": 3,
     "metadata": {},
     "output_type": "execute_result"
    }
   ],
   "source": [
    "deg2rad(90)"
   ]
  },
  {
   "cell_type": "code",
   "execution_count": 4,
   "metadata": {},
   "outputs": [
    {
     "name": "stdout",
     "output_type": "stream",
     "text": [
      "0.46364761550988487 1.7888543761779347\n",
      "26.56505155002073\n"
     ]
    }
   ],
   "source": [
    "from scipy.optimize import fsolve\n",
    "from math import exp\n",
    "\n",
    "def equations(vars):\n",
    "    a, z = vars\n",
    "    eq1 = 2*cos(a) - z*sin(a+A)\n",
    "    eq2 = sin(a) - sqrt(5) + z*sin(A+a)\n",
    "    return [eq1, eq2]\n",
    "\n",
    "a, z =  fsolve(equations, (1, 1))\n",
    "\n",
    "print(a,z)\n",
    "print(rad2deg(a))"
   ]
  },
  {
   "cell_type": "code",
   "execution_count": 5,
   "metadata": {},
   "outputs": [],
   "source": [
    "angel_1 = 0.1798\n",
    "angel_2 = 0.3393"
   ]
  },
  {
   "cell_type": "code",
   "execution_count": 6,
   "metadata": {},
   "outputs": [
    {
     "name": "stdout",
     "output_type": "stream",
     "text": [
      "s = 5.374726011542789 \n",
      " t = 2.500735874800777 \n"
     ]
    }
   ],
   "source": [
    "s = (2*sin(pi/2.0-a))/(sin(0.3393))\n",
    "t = sin(a)/(sin(0.1798))\n",
    "print(f's = {s} \\n t = {t} ')"
   ]
  },
  {
   "cell_type": "code",
   "execution_count": 7,
   "metadata": {},
   "outputs": [
    {
     "name": "stdout",
     "output_type": "stream",
     "text": [
      "angel CAP = 1.1924483897661036\n",
      "angel pAg = 0.8419955460295991\n",
      "y = 1.865482916213744\n"
     ]
    }
   ],
   "source": [
    "angel_cap = s*sin(angel_1 + angel_2)/sqrt(5)\n",
    "angel_pAg = pi - angel_cap - A\n",
    "print(f'angel CAP = {angel_cap}')\n",
    "print(f'angel pAg = {angel_pAg}')\n",
    "y = (sin(angel_pAg) * t)/sin(pi/2)\n",
    "print(f'y = {y}')"
   ]
  },
  {
   "cell_type": "markdown",
   "metadata": {},
   "source": [
    "By the Pythagorean theorem,"
   ]
  },
  {
   "cell_type": "code",
   "execution_count": 8,
   "metadata": {},
   "outputs": [
    {
     "name": "stdout",
     "output_type": "stream",
     "text": [
      "2.6654288951592 1.865482916213744\n"
     ]
    }
   ],
   "source": [
    "\n",
    "\n",
    "def equations(vars):\n",
    "    x,Y = vars\n",
    "    eq1 = Y - y\n",
    "    eq2 = Y**2 + (x-1)**2 - t**2\n",
    "    return [eq1,eq2]\n",
    "x, Y =  fsolve(equations, (1,1))\n",
    "print(x,Y)"
   ]
  },
  {
   "cell_type": "code",
   "execution_count": 9,
   "metadata": {
    "scrolled": true
   },
   "outputs": [
    {
     "name": "stdout",
     "output_type": "stream",
     "text": [
      "P location: (2.6654,1.8655)\n"
     ]
    }
   ],
   "source": [
    "print(f'P location: ({around(x,4)},{around(y,4)})')"
   ]
  },
  {
   "cell_type": "markdown",
   "metadata": {},
   "source": [
    "# Q2"
   ]
  },
  {
   "cell_type": "markdown",
   "metadata": {},
   "source": [
    "## a"
   ]
  },
  {
   "cell_type": "markdown",
   "metadata": {},
   "source": [
    "Given that,\n",
    "$z(\\delta,\\epsilon) = (r-\\delta)e^{(\\theta-\\epsilon)\\pi i/180}$\n"
   ]
  },
  {
   "cell_type": "markdown",
   "metadata": {},
   "source": [
    "$e^{ti} = 1+ti-\\frac{t^{2}}{2!}-i\\frac{t^{3}}{3!}+\\frac{t^{4}}{4!}+i\\frac{t^{5}}{5!}+...=[1-\\frac{t^{2}}{2!}+\\frac{t^{4}}{4!}+...] + [ti-i\\frac{t^{3}}{3!}+i\\frac{t^{5}}{5!}+...]$"
   ]
  },
  {
   "cell_type": "markdown",
   "metadata": {},
   "source": [
    "Since $\\epsilon \\& \\delta$ are small their high order terms we can neglect that in our approximation, the final result will be\n",
    "$e^{-ti} = 1 + ti$"
   ]
  },
  {
   "cell_type": "markdown",
   "metadata": {},
   "source": [
    "plugging into $ t = (-\\epsilon)i\\pi /180$"
   ]
  },
  {
   "cell_type": "markdown",
   "metadata": {},
   "source": [
    "$z(\\delta,\\epsilon) = (r-\\delta)(1 - \\frac{i\\epsilon \\pi}{180})e^{(\\theta)\\pi i/180}$"
   ]
  },
  {
   "cell_type": "markdown",
   "metadata": {},
   "source": [
    "$z(\\delta,\\epsilon) = (r - r\\frac{i\\epsilon \\pi}{180}- \\delta + \\epsilon\\frac{i\\epsilon \\pi}{180})e^{(\\theta)\\pi i/180}$\n"
   ]
  },
  {
   "cell_type": "markdown",
   "metadata": {},
   "source": [
    "Again neglecting $\\epsilon \\& \\delta$ high order terms"
   ]
  },
  {
   "cell_type": "markdown",
   "metadata": {},
   "source": [
    "$z(\\delta,\\epsilon) = (r - r\\frac{i\\epsilon \\pi}{180}- \\delta )e^{(\\theta)\\pi i/180}$"
   ]
  },
  {
   "cell_type": "markdown",
   "metadata": {},
   "source": [
    "## b"
   ]
  },
  {
   "cell_type": "markdown",
   "metadata": {},
   "source": [
    "Given that:\n",
    "\n",
    "1. N 53 E 5 perches\n",
    "2. S 76 E 4 perches\n",
    "3. directly W 4 perches \n"
   ]
  },
  {
   "cell_type": "markdown",
   "metadata": {},
   "source": [
    "Translate to poler coordinate"
   ]
  },
  {
   "cell_type": "markdown",
   "metadata": {},
   "source": [
    "$\\theta_{1} = 53 deg, r1 = 5\\\\ \\theta_{2} = -76 deg, r2 = 4\\\\ \\theta_{3} = 180 deg, r3 = 4$"
   ]
  },
  {
   "cell_type": "markdown",
   "metadata": {},
   "source": [
    "plugging into #a equation"
   ]
  },
  {
   "cell_type": "code",
   "execution_count": 10,
   "metadata": {},
   "outputs": [
    {
     "name": "stdout",
     "output_type": "stream",
     "text": [
      "For (r1, t1), real part = [ 3.0091 -0.6018  0.0697], imag part = [ 3.9932 -0.7986 -0.0525]\n"
     ]
    }
   ],
   "source": [
    "# first term: constant, second term: delta, and last term: epsilon\n",
    "def output_terms(t, r):\n",
    "    t1 = cos(pi*t/180.0)\n",
    "    t2 = sin(pi*t/180.0)\n",
    "    t3 = (r*pi)/180.0\n",
    "    real_part = [r*t1, -t1, t3*t2]\n",
    "    imag_part = [r*t2, -t2, -t3*t1]\n",
    "    return np.around([real_part, imag_part],4)\n",
    "\n",
    "real_part1, imag_part1 = output_terms(53, 5)\n",
    "real_part2, imag_part2 = output_terms(-76, 4)\n",
    "real_part3, imag_part3 = output_terms(180, 4)\n",
    "\n",
    "print(f\"For (r1, t1), real part = {real_part1}, imag part = {imag_part1}\")\n"
   ]
  },
  {
   "cell_type": "code",
   "execution_count": 11,
   "metadata": {},
   "outputs": [
    {
     "name": "stdout",
     "output_type": "stream",
     "text": [
      "For (r1, t1), real part = [ 3.0091 -0.6018  0.0697], imag part = [ 3.9932 -0.7986 -0.0525]\n",
      "For (r2, t2), real part = [ 0.9677 -0.2419 -0.0677], imag part = [-3.8812  0.9703 -0.0169]\n",
      "For (r3, t3), real part = [-4.  1.  0.], imag part = [ 0.     -0.      0.0698]\n"
     ]
    }
   ],
   "source": [
    "print(f\"For (r1, t1), real part = {real_part1}, imag part = {imag_part1}\")\n",
    "print(f\"For (r2, t2), real part = {real_part2}, imag part = {imag_part2}\")\n",
    "print(f\"For (r3, t3), real part = {real_part3}, imag part = {imag_part3}\")"
   ]
  },
  {
   "cell_type": "code",
   "execution_count": 12,
   "metadata": {},
   "outputs": [
    {
     "name": "stdout",
     "output_type": "stream",
     "text": [
      "-0.0232\n",
      "0.112\n"
     ]
    }
   ],
   "source": [
    "real_constant = real_part1[0] + real_part2[0] + real_part3[0]\n",
    "imag_constant = imag_part1[0] + imag_part2[0] + imag_part3[0]\n",
    "print(around(real_constant,4))\n",
    "print(around(imag_constant,4))"
   ]
  },
  {
   "cell_type": "markdown",
   "metadata": {},
   "source": [
    "real part:\n",
    "$0 = -0.0232 + (-0.6018)\\delta_{1} + (-0.2419)\\delta_{2} + 1\\delta_{3} + 0.0697\\epsilon_{1} +(-0.0677)\\epsilon_{2} +0\\epsilon_{3} $\n",
    "\n",
    "$0 = -0.0232 + (-0.6018)\\delta_{1} + (-0.2419)\\delta_{2} + 1\\delta_{3} + 0.0697\\epsilon_{1} +(-0.0677)\\epsilon_{2}$"
   ]
  },
  {
   "cell_type": "markdown",
   "metadata": {},
   "source": [
    "imaginary part:\n",
    "$0 = 0.112 + (-0.7986)\\delta_{1} + (-0.9703)\\delta_{2} + 0\\delta_{3} + (-0.0525)\\epsilon_{1} +(-0.0169)\\epsilon_{2} +(0.0698)\\epsilon_{3} $\n",
    "\n",
    "$0 = 0.112 + (-0.7986)\\delta_{1} + (-0.9703)\\delta_{2} + (-0.0525)\\epsilon_{1} +(-0.0169)\\epsilon_{2} +(0.0698)\\epsilon_{3} $"
   ]
  },
  {
   "cell_type": "markdown",
   "metadata": {},
   "source": [
    "# C"
   ]
  },
  {
   "cell_type": "markdown",
   "metadata": {},
   "source": [
    "prepare A"
   ]
  },
  {
   "cell_type": "code",
   "execution_count": 13,
   "metadata": {
    "scrolled": true
   },
   "outputs": [
    {
     "data": {
      "text/plain": [
       "array([[ 1.    ,  0.    ,  0.    ,  0.    ,  0.    ,  0.    ],\n",
       "       [ 0.    ,  1.    ,  0.    ,  0.    ,  0.    ,  0.    ],\n",
       "       [ 0.    ,  0.    ,  1.    ,  0.    ,  0.    ,  0.    ],\n",
       "       [ 0.    ,  0.    ,  0.    ,  1.    ,  0.    ,  0.    ],\n",
       "       [ 0.    ,  0.    ,  0.    ,  0.    ,  1.    ,  0.    ],\n",
       "       [ 0.    ,  0.    ,  0.    ,  0.    ,  0.    ,  1.    ],\n",
       "       [-0.6018,  0.0697, -0.2419, -0.0677,  1.    ,  0.    ],\n",
       "       [-0.7986, -0.0525,  0.9703, -0.0169, -0.    ,  0.0698]])"
      ]
     },
     "execution_count": 13,
     "metadata": {},
     "output_type": "execute_result"
    }
   ],
   "source": [
    "from numpy import *\n",
    "from scipy import linalg\n",
    "r1, t1 = 5.0,53.0\n",
    "r2, t2 = 4.0,-76.0\n",
    "r3, t3 = 4.0,180.0\n",
    "\n",
    "A = zeros((8,6))\n",
    "A[0:6,0:6] = eye(6)\n",
    "A[6,0:6] = [real_part1[1], real_part1[2], real_part2[1],real_part2[2],real_part3[1],real_part3[2]]\n",
    "A[7,0:6] = [imag_part1[1], imag_part1[2], imag_part2[1],imag_part2[2],imag_part3[1],imag_part3[2]]\n",
    "A"
   ]
  },
  {
   "cell_type": "markdown",
   "metadata": {},
   "source": [
    "prepare for w"
   ]
  },
  {
   "cell_type": "code",
   "execution_count": 14,
   "metadata": {},
   "outputs": [
    {
     "data": {
      "text/plain": [
       "array([[ 1.   ,  0.   ,  0.   ,  0.   ,  0.   ,  0.   ,  0.   ,  0.   ],\n",
       "       [ 0.   ,  0.025,  0.   ,  0.   ,  0.   ,  0.   ,  0.   ,  0.   ],\n",
       "       [ 0.   ,  0.   ,  1.   ,  0.   ,  0.   ,  0.   ,  0.   ,  0.   ],\n",
       "       [ 0.   ,  0.   ,  0.   ,  0.025,  0.   ,  0.   ,  0.   ,  0.   ],\n",
       "       [ 0.   ,  0.   ,  0.   ,  0.   ,  1.   ,  0.   ,  0.   ,  0.   ],\n",
       "       [ 0.   ,  0.   ,  0.   ,  0.   ,  0.   ,  0.025,  0.   ,  0.   ],\n",
       "       [ 0.   ,  0.   ,  0.   ,  0.   ,  0.   ,  0.   , 10.   ,  0.   ],\n",
       "       [ 0.   ,  0.   ,  0.   ,  0.   ,  0.   ,  0.   ,  0.   , 10.   ]])"
      ]
     },
     "execution_count": 14,
     "metadata": {},
     "output_type": "execute_result"
    }
   ],
   "source": [
    "W = [1,float(1/40),1,float(1/40),1,float(1/40),10,10]\n",
    "W = np.diag(W)\n",
    "W"
   ]
  },
  {
   "cell_type": "code",
   "execution_count": 15,
   "metadata": {
    "scrolled": true
   },
   "outputs": [
    {
     "data": {
      "text/plain": [
       "array([[ 1.   ,  0.   ,  0.   ,  0.   ,  0.   ,  0.   ],\n",
       "       [ 0.   ,  0.025,  0.   ,  0.   ,  0.   ,  0.   ],\n",
       "       [ 0.   ,  0.   ,  1.   ,  0.   ,  0.   ,  0.   ],\n",
       "       [ 0.   ,  0.   ,  0.   ,  0.025,  0.   ,  0.   ],\n",
       "       [ 0.   ,  0.   ,  0.   ,  0.   ,  1.   ,  0.   ],\n",
       "       [ 0.   ,  0.   ,  0.   ,  0.   ,  0.   ,  0.025],\n",
       "       [-6.018,  0.697, -2.419, -0.677, 10.   ,  0.   ],\n",
       "       [-7.986, -0.525,  9.703, -0.169,  0.   ,  0.698]])"
      ]
     },
     "execution_count": 15,
     "metadata": {},
     "output_type": "execute_result"
    }
   ],
   "source": [
    "WA = dot(W,A)\n",
    "WA"
   ]
  },
  {
   "cell_type": "markdown",
   "metadata": {},
   "source": [
    "prepare for b"
   ]
  },
  {
   "cell_type": "code",
   "execution_count": 16,
   "metadata": {},
   "outputs": [
    {
     "data": {
      "text/plain": [
       "array([[ 0.    ],\n",
       "       [ 0.    ],\n",
       "       [ 0.    ],\n",
       "       [ 0.    ],\n",
       "       [ 0.    ],\n",
       "       [ 0.    ],\n",
       "       [ 0.0232],\n",
       "       [-0.112 ]])"
      ]
     },
     "execution_count": 16,
     "metadata": {},
     "output_type": "execute_result"
    }
   ],
   "source": [
    "b = zeros((8,1))\n",
    "\n",
    "b1 = -real_part1[0]\n",
    "b2 = -imag_part1[0]\n",
    "b3 = -real_part2[0]\n",
    "b4 = -imag_part2[0]\n",
    "b5 = -real_part3[0]\n",
    "b6 = -imag_part3[0]\n",
    "\n",
    "b[0:6,0] = [0,0,0,0,0,0]\n",
    "b[6] = -real_constant\n",
    "b[7] = -imag_constant\n",
    "\n",
    "b"
   ]
  },
  {
   "cell_type": "code",
   "execution_count": 17,
   "metadata": {
    "scrolled": true
   },
   "outputs": [
    {
     "data": {
      "text/plain": [
       "array([[ 0.   ],\n",
       "       [ 0.   ],\n",
       "       [ 0.   ],\n",
       "       [ 0.   ],\n",
       "       [ 0.   ],\n",
       "       [ 0.   ],\n",
       "       [ 0.232],\n",
       "       [-1.12 ]])"
      ]
     },
     "execution_count": 17,
     "metadata": {},
     "output_type": "execute_result"
    }
   ],
   "source": [
    "Wb = dot(W,b)\n",
    "Wb"
   ]
  },
  {
   "cell_type": "markdown",
   "metadata": {},
   "source": [
    "solve for X, using weight linear least squares"
   ]
  },
  {
   "cell_type": "code",
   "execution_count": 18,
   "metadata": {
    "scrolled": true
   },
   "outputs": [
    {
     "data": {
      "text/plain": [
       "array([[ 6.61608253e-03],\n",
       "       [ 6.22838715e-01],\n",
       "       [-7.63183617e-03],\n",
       "       [ 2.60772539e-01],\n",
       "       [-4.17960647e-04],\n",
       "       [-8.90049298e-01]])"
      ]
     },
     "execution_count": 18,
     "metadata": {},
     "output_type": "execute_result"
    }
   ],
   "source": [
    "xbest = linalg.lstsq(WA, Wb)\n",
    "xbest[0]"
   ]
  },
  {
   "cell_type": "markdown",
   "metadata": {},
   "source": [
    "we are using linear least squares to approximately calculate nonlinear equation, so we to transform our output into delta and epsilon"
   ]
  },
  {
   "cell_type": "markdown",
   "metadata": {},
   "source": [
    "Final results:"
   ]
  },
  {
   "cell_type": "code",
   "execution_count": 19,
   "metadata": {},
   "outputs": [
    {
     "name": "stdout",
     "output_type": "stream",
     "text": [
      "delta1 = [0.007]; epsilon = [0.623]\n",
      "\n",
      "delta2 = [-0.008]; epsilon2 = [0.261]\n",
      "\n",
      "delta3 = [-0.]; epsilon3 = [-0.89]\n",
      "\n"
     ]
    }
   ],
   "source": [
    "print(f'delta1 = {around(xbest[0][0],3)}; epsilon = {around(xbest[0][1],3)}\\n')\n",
    "print(f'delta2 = {around(xbest[0][2],3)}; epsilon2 = {around(xbest[0][3],3)}\\n')\n",
    "print(f'delta3 = {around(xbest[0][4],3)}; epsilon3 = {around(xbest[0][5],3)}\\n')"
   ]
  },
  {
   "cell_type": "code",
   "execution_count": 20,
   "metadata": {},
   "outputs": [
    {
     "name": "stdout",
     "output_type": "stream",
     "text": [
      "Total error \n",
      "\n",
      "-0.007871757402098334\n"
     ]
    }
   ],
   "source": [
    "print(\"Total error \\n\")\n",
    "\n",
    "print(sum(xbest[0]))"
   ]
  },
  {
   "cell_type": "markdown",
   "metadata": {},
   "source": [
    "# d"
   ]
  },
  {
   "cell_type": "markdown",
   "metadata": {},
   "source": [
    "We are using Adrian's method which merging of least with Gaussian elimination and Newton's method; Although it's not guaranted t converge, it's still relative efficient than using the full equations."
   ]
  },
  {
   "cell_type": "markdown",
   "metadata": {},
   "source": [
    "# 3"
   ]
  },
  {
   "cell_type": "markdown",
   "metadata": {},
   "source": [
    "ion\n",
    "let:\n",
    "1. t be the time after noon (hours).\n",
    "2. a be the rate of removing snow.\n",
    "3. b be the rate of falling snow.\n",
    "4. y(t) be the distance the snowplow has travelled (miles).\n",
    "5. x(t) be the height of the snow at time t (m).\n",
    "6. T be the time before noon (hours).\n"
   ]
  },
  {
   "cell_type": "markdown",
   "metadata": {},
   "source": [
    "Given that a, b are constant, then\n",
    "1. $x' = b \\Rightarrow x(t) = b(t) + c$ \n",
    "2. $x(-T) = 0 = b(-T) + c \\Rightarrow c = bT$\n",
    "3. $x(t) \\propto \\frac{c}{y'(t)}$\n",
    "\n",
    "p.s. c is just abtr constant\n"
   ]
  },
  {
   "cell_type": "markdown",
   "metadata": {},
   "source": [
    "Combine all together, we can get\n",
    "\n",
    "$y'(t) = \\frac{c}{bT + bt} $\n"
   ]
  },
  {
   "cell_type": "markdown",
   "metadata": {},
   "source": [
    "Integrating both side"
   ]
  },
  {
   "cell_type": "markdown",
   "metadata": {},
   "source": [
    "$y(t) = cln|T+t| + c1$\n",
    "\n",
    "$y(1) - y(0) = (cln|1+T| + c1) - (cln|T| + c1) = 2$\n",
    "\n",
    "$y(2) - y(1) = (cln|2+T| + c1) - (cln|T+1| + c1) = 1$\n"
   ]
  },
  {
   "cell_type": "markdown",
   "metadata": {},
   "source": [
    "$\\frac{1+T}{T} = \\frac{2+T}{1+T}^{2}$"
   ]
  },
  {
   "cell_type": "markdown",
   "metadata": {},
   "source": [
    "$(1+T)^{3} = T{2+T}^{2}$\n",
    "$ \\Rightarrow T^{2} + T - 1 = 0$\n"
   ]
  },
  {
   "cell_type": "markdown",
   "metadata": {},
   "source": [
    "$ T \\approx −1.6180 $"
   ]
  },
  {
   "cell_type": "code",
   "execution_count": 21,
   "metadata": {},
   "outputs": [
    {
     "data": {
      "text/plain": [
       "-97.0"
      ]
     },
     "execution_count": 21,
     "metadata": {},
     "output_type": "execute_result"
    }
   ],
   "source": [
    "t = around(-1.6180*60)\n",
    "t"
   ]
  },
  {
   "cell_type": "markdown",
   "metadata": {},
   "source": [
    "The time did snowplow start snowing: 11:23 am"
   ]
  },
  {
   "cell_type": "markdown",
   "metadata": {},
   "source": [
    "# Q4"
   ]
  },
  {
   "cell_type": "markdown",
   "metadata": {},
   "source": [
    "Given that x(-14.5) = 0 & x'(-14,5) = 0 $\\rightarrow$ y = [y1,y2] = [y, y'] = y1(-14.5) = 0 & y2(-14.5) = 1"
   ]
  },
  {
   "cell_type": "markdown",
   "metadata": {},
   "source": [
    "let y = (x, x') then y' = (x',tx) = g(t)"
   ]
  },
  {
   "cell_type": "markdown",
   "metadata": {},
   "source": [
    "\n",
    "$$\n",
    "y' = \n",
    "\\begin{bmatrix}\n",
    "0 & t\\\\\n",
    "1 & 0\n",
    "\\end{bmatrix}\n",
    "y\n",
    "$$\n"
   ]
  },
  {
   "cell_type": "markdown",
   "metadata": {},
   "source": [
    "$\\rightarrow$ f(y,t) = A(t)y\n",
    "\n",
    "$\\rightarrow y(t) = e^{(\\int_{0}^{t} A(s)d{s})}y(0) $\n"
   ]
  },
  {
   "cell_type": "code",
   "execution_count": 22,
   "metadata": {
    "scrolled": true
   },
   "outputs": [],
   "source": [
    "from scipy.integrate import solve_ivp\n",
    "from scipy.special import gamma, airy\n",
    "import numpy as np\n",
    "\n",
    "#t_span => integration range\n",
    "#y0 = initial solution\n",
    "\n",
    "y1_0 = 0\n",
    "y0_0 = 1\n",
    "y0 = [y0_0, y1_0]\n",
    "def func(t, y):\n",
    "    return [t*y[1],y[0]]\n",
    "\n",
    "t_span = [-14.5, 3]\n",
    "t = np.linspace(-14.5, 3, 100) #given 100 example (n)\n",
    "sol = solve_ivp(func, t_span, y0, t_eval=t)"
   ]
  },
  {
   "cell_type": "code",
   "execution_count": 23,
   "metadata": {
    "scrolled": true
   },
   "outputs": [
    {
     "name": "stdout",
     "output_type": "stream",
     "text": [
      "sol.t: [-1.45000000e+01 -1.43232323e+01 -1.41464646e+01 -1.39696970e+01\n",
      " -1.37929293e+01 -1.36161616e+01 -1.34393939e+01 -1.32626263e+01\n",
      " -1.30858586e+01 -1.29090909e+01 -1.27323232e+01 -1.25555556e+01\n",
      " -1.23787879e+01 -1.22020202e+01 -1.20252525e+01 -1.18484848e+01\n",
      " -1.16717172e+01 -1.14949495e+01 -1.13181818e+01 -1.11414141e+01\n",
      " -1.09646465e+01 -1.07878788e+01 -1.06111111e+01 -1.04343434e+01\n",
      " -1.02575758e+01 -1.00808081e+01 -9.90404040e+00 -9.72727273e+00\n",
      " -9.55050505e+00 -9.37373737e+00 -9.19696970e+00 -9.02020202e+00\n",
      " -8.84343434e+00 -8.66666667e+00 -8.48989899e+00 -8.31313131e+00\n",
      " -8.13636364e+00 -7.95959596e+00 -7.78282828e+00 -7.60606061e+00\n",
      " -7.42929293e+00 -7.25252525e+00 -7.07575758e+00 -6.89898990e+00\n",
      " -6.72222222e+00 -6.54545455e+00 -6.36868687e+00 -6.19191919e+00\n",
      " -6.01515152e+00 -5.83838384e+00 -5.66161616e+00 -5.48484848e+00\n",
      " -5.30808081e+00 -5.13131313e+00 -4.95454545e+00 -4.77777778e+00\n",
      " -4.60101010e+00 -4.42424242e+00 -4.24747475e+00 -4.07070707e+00\n",
      " -3.89393939e+00 -3.71717172e+00 -3.54040404e+00 -3.36363636e+00\n",
      " -3.18686869e+00 -3.01010101e+00 -2.83333333e+00 -2.65656566e+00\n",
      " -2.47979798e+00 -2.30303030e+00 -2.12626263e+00 -1.94949495e+00\n",
      " -1.77272727e+00 -1.59595960e+00 -1.41919192e+00 -1.24242424e+00\n",
      " -1.06565657e+00 -8.88888889e-01 -7.12121212e-01 -5.35353535e-01\n",
      " -3.58585859e-01 -1.81818182e-01 -5.05050505e-03  1.71717172e-01\n",
      "  3.48484848e-01  5.25252525e-01  7.02020202e-01  8.78787879e-01\n",
      "  1.05555556e+00  1.23232323e+00  1.40909091e+00  1.58585859e+00\n",
      "  1.76262626e+00  1.93939394e+00  2.11616162e+00  2.29292929e+00\n",
      "  2.46969697e+00  2.64646465e+00  2.82323232e+00  3.00000000e+00]\n"
     ]
    }
   ],
   "source": [
    "print(\"sol.t: {}\".format(sol.t))"
   ]
  },
  {
   "cell_type": "markdown",
   "metadata": {},
   "source": [
    "plot the graph"
   ]
  },
  {
   "cell_type": "code",
   "execution_count": 24,
   "metadata": {},
   "outputs": [
    {
     "data": {
      "image/png": "[encoded data removed]",
      "text/plain": [
       "<Figure size 432x288 with 1 Axes>"
      ]
     },
     "metadata": {
      "needs_background": "light"
     },
     "output_type": "display_data"
    }
   ],
   "source": [
    "figure(1)\n",
    "plot(sol.t, sol.y[0], 'bx-', linewidth=1)\n",
    "xlabel('t', fontsize=24)\n",
    "ylabel('y', fontsize=24)\n",
    "tight_layout()\n",
    "show()"
   ]
  },
  {
   "cell_type": "markdown",
   "metadata": {},
   "source": [
    "# Q5"
   ]
  },
  {
   "cell_type": "markdown",
   "metadata": {},
   "source": [
    "Suppose a hospital patient is given a 325 mg dose of acetaminophen orally, and then two\n",
    "hours later is put on an intravenous drip of 10 mg per hour directly into the blood stream.\n",
    "Use our 2-compartment model to predict the acetaminophen plasma concentration over the\n",
    "12 hours since the oral dose, assume a blood volume of 5 liters."
   ]
  },
  {
   "cell_type": "markdown",
   "metadata": {},
   "source": [
    "Given that:\n",
    "1. $x_{0}(0) = 325 mg$\n",
    "2. $i_{1}(2) = 10 mg/hour\\quad otherwise: \\, i_{1} = 0$\n",
    "3. volume of body = 5 L\n",
    "\n",
    "Equations:\n",
    "1. $x_{0}' = 0 - r_{0}x_{0} - m_{10}x_{0}$\n",
    "2. $x_{1}' = m_{10}x_{0} + i_{1}(t) - r_{1}x_{1}$"
   ]
  },
  {
   "cell_type": "markdown",
   "metadata": {},
   "source": [
    "Using codes found in Pharmacokinetics lecture"
   ]
  },
  {
   "cell_type": "code",
   "execution_count": 25,
   "metadata": {},
   "outputs": [
    {
     "data": {
      "image/png": "[encoded data removed]",
      "text/plain": [
       "<Figure size 432x288 with 2 Axes>"
      ]
     },
     "metadata": {
      "needs_background": "light"
     },
     "output_type": "display_data"
    }
   ],
   "source": [
    "#!/usr/bin/env python3\n",
    "\n",
    "\"\"\"\n",
    "A two-compartment model for a single dose of acetaminophen\n",
    "\"\"\"\n",
    "\n",
    "from numpy import *\n",
    "from scipy import integrate\n",
    "from matplotlib.pyplot import *\n",
    "\n",
    "rcParams.update({'font.size':12,'legend.framealpha':0.})\n",
    "\n",
    "\n",
    "datafile='tylenol.csv'\n",
    "data = loadtxt(datafile,delimiter=',')\n",
    "\n",
    "r0 = 3.0\n",
    "m10 = 0.3\n",
    "r1 = 0.4\n",
    "dose = 325. # milligrams, mg\n",
    "V_blood = 5000. # milliliters, ml\n",
    "mgtommg = 1000.\n",
    "i_1 = 10 * 1000.0\n",
    "\n",
    "# peak function for i1\n",
    "def i(t):\n",
    "    if t >= 2.0:\n",
    "        return i_1\n",
    "    else:\n",
    "        return 0.0\n",
    "\n",
    "def f(X, t):\n",
    "    return array([ \\\n",
    "        -X[0]*(r0+m10), \\\n",
    "        X[0]*m10 - X[1]*r1 + i(t)\\\n",
    "        ])\n",
    "\n",
    "x0 = array([dose, 0.])\n",
    "t = arange(0, 8.25, 0.1)\n",
    "x = integrate.odeint(f, x0, t)\n",
    "\n",
    "subplot(2,1,1)\n",
    "plot(t, x[:,0], 'b-', linewidth=3)\n",
    "ylabel('Gut (mg)', fontsize=14)\n",
    "ylim(0,dose*1.1)\n",
    "xlim(0,t[-1])\n",
    "\n",
    "subplot(2,1,2)\n",
    "plot(t, x[:,1]*(mgtommg/V_blood), 'g-', linewidth=3, label='Prediction')\n",
    "plot(data[:,0], data[:,1], 'ro', markersize=4, label='Data')\n",
    "ylabel('Plasma ($\\mu$g/ml)', fontsize=14)\n",
    "xlabel('Time (hours from initial dose)', fontsize=14)\n",
    "xlim(0,8)\n",
    "legend()\n",
    "\n",
    "tight_layout()\n",
    "savefig('two_compartment_timeseries.png', transparent=True)\n",
    "savefig('two_compartment_timeseries.pdf') # vector graphics formats are better"
   ]
  },
  {
   "cell_type": "markdown",
   "metadata": {},
   "source": [
    "# Q6"
   ]
  },
  {
   "cell_type": "markdown",
   "metadata": {},
   "source": [
    "## a"
   ]
  },
  {
   "cell_type": "markdown",
   "metadata": {},
   "source": [
    "By reference,\n",
    "https://pubmed.ncbi.nlm.nih.gov/19036410/\n",
    "\n",
    "I will use mL, year, microg, microg/year and microg/mL in my model"
   ]
  },
  {
   "cell_type": "markdown",
   "metadata": {},
   "source": [
    "## b"
   ]
  },
  {
   "cell_type": "markdown",
   "metadata": {},
   "source": [
    "Assume mass conservation law, selenium will never degradation in the water except by fish and sediment\n",
    "Moreover, the selenium concentration is the same everywhere in the water. \n",
    "\n",
    "1. i(t) is the selenium concentrations the Little Blue Run leaking into nearby water ways (microg/year)\n",
    "2. r0 is the degradation rate of selenium in fish body (like r(x) in lecture)\n",
    "3. r1 is the degradation rate of selenium in lake's bottom sediments\n",
    "4. m10 is a rate parameter for movement from the fish (compartment 0) to the sediments (compartment 1), and has units of reciprocal time.\n",
    "5. x0(t) represent the amount of selenium accumulating in the fish (microg/mL)\n",
    "6. x1(t) represent the amount of selenium accumulating in the sediments (mircrog/mL)"
   ]
  },
  {
   "cell_type": "markdown",
   "metadata": {},
   "source": [
    "##  c"
   ]
  },
  {
   "cell_type": "markdown",
   "metadata": {},
   "source": [
    "$\\frac{dx}{dt} = input\\,rate - output\\,rate$\n",
    "\n",
    "For x0 (fish)\n",
    "\n",
    "input: i\n",
    "\n",
    "output: r0 (removal) and m10(movement)\n",
    "\n",
    "For x1 (sediments)\n",
    "\n",
    "input: m10 (moverment) and i\n",
    "\n",
    "output: r1 (removal)\n",
    "\n"
   ]
  },
  {
   "cell_type": "markdown",
   "metadata": {},
   "source": [
    "## d"
   ]
  },
  {
   "cell_type": "markdown",
   "metadata": {},
   "source": [
    "<img src=\"hw3.6.jpg\" alt=\"Drawing\" style=\"width: 1000px;\"/>"
   ]
  },
  {
   "cell_type": "markdown",
   "metadata": {},
   "source": [
    "## e"
   ]
  },
  {
   "cell_type": "markdown",
   "metadata": {},
   "source": [
    "1. $\\frac{dx1}{dt} = -r1x1$ $\\frac{dx0}{dt} = -r0x1 \\,\\, (By \\,\\, r(ax) = ar(x))$\n",
    "2. $x_{0}' = i(t) - r_{0}x_{0} - m_{10}x_{0}$\n",
    "3. $x_{1}' = m_{10}x_{0} + i(t) - r_{1}x_{1}$\n",
    "4. $i(t) = c \\,(c\\, is\\,the constant\\, leaking\\, rate)$\n",
    "5. $x_{0}(0) = x_{1}(0) = 0$"
   ]
  },
  {
   "cell_type": "markdown",
   "metadata": {},
   "source": [
    "# Q7"
   ]
  },
  {
   "cell_type": "markdown",
   "metadata": {},
   "source": [
    "<img src=\"hw7.1.jpg\" alt=\"Drawing\" style=\"width: 1000px;\"/>"
   ]
  },
  {
   "cell_type": "markdown",
   "metadata": {},
   "source": [
    "Reactions:\n",
    "\n",
    "1. $$S_{y} \\xrightarrow{a1}\\phi$$\n",
    "2. $$S_{y} \\xrightarrow{a2}S_{o}$$\n",
    "3. $$S_{o} \\xrightarrow{a3}\\phi$$\n",
    "4. $$I_{y} \\xrightarrow{a4}\\phi$$\n",
    "5. $$I_{y} \\xrightarrow{a5}I_{o}$$\n",
    "6. $$I_{o} \\xrightarrow{a6}\\phi$$\n",
    "7. $$S_{y} + I_{y} \\xrightarrow{k1}2I_{y}$$\n",
    "8. $$S_{y} + I_{o} \\xrightarrow{k2}I_{o} + I_{y}$$\n",
    "9. $$S_{o} + I_{y} \\xrightarrow{k3}I_{y} + I_{o}$$\n",
    "10. $$S_{o} + I_{o} \\xrightarrow{k4}2I_{o}$$\n",
    "\n"
   ]
  },
  {
   "cell_type": "markdown",
   "metadata": {},
   "source": [
    "Diff Eqs:\n",
    "\n",
    "1. $$\\dot{S_{y}} = -a_{1}S_{y} - a_{2}S_{y} - k_{1}S_{y}I_{y} - k_{2}S_{y}I_{o}$$\n",
    "2. $$\\dot{S_{o}} = -a_{3}S_{o} + a_{2}S_{o} - k_{3}S_{o}I_{y} - k_{4}S_{o}I_{o}$$\n",
    "3. $$\\dot{I_{y}} = -a_{4}I_{y} - a_{5}I_{y} + k_{1}S_{y}I_{y} + k_{2}S_{y}I_{o}$$\n",
    "4. $$\\dot{I_{o}} = -a_{6}I_{o} + a_{5}I_{y} + k_{3}S_{o}I_{y} + k_{4}S_{o}I_{y}$$\n"
   ]
  },
  {
   "cell_type": "markdown",
   "metadata": {},
   "source": [
    "# Q8"
   ]
  },
  {
   "cell_type": "markdown",
   "metadata": {},
   "source": [
    "## a"
   ]
  },
  {
   "cell_type": "markdown",
   "metadata": {},
   "source": [
    "Given that dA/dt = -gB and dB/dt = -rA (g and r are constant)"
   ]
  },
  {
   "cell_type": "markdown",
   "metadata": {},
   "source": [
    "Then we can solve those 2 1st order diff eqs using system\n",
    "\n",
    "Assume y' = [dA/dt, dB/dt] and y = [A,B]\n",
    "$$\n",
    "y' = \n",
    "\\begin{bmatrix}\n",
    "0 & -g\\\\\n",
    "-r & 0\n",
    "\\end{bmatrix}\n",
    "y\n",
    "$$\n",
    "\n",
    "\n"
   ]
  },
  {
   "cell_type": "markdown",
   "metadata": {},
   "source": [
    "$$ det(A - \\lambda y) = \\lambda^{2} - rg = 0$$"
   ]
  },
  {
   "cell_type": "markdown",
   "metadata": {},
   "source": [
    "Results:\n",
    "\n",
    "$\\lambda_{1} = \\sqrt{rg}\\\\ \\lambda_{2} = -\\sqrt{rg}$"
   ]
  },
  {
   "cell_type": "markdown",
   "metadata": {},
   "source": [
    "When $$\\lambda = \\lambda_{1}$$,\n",
    "\n",
    "$$\n",
    "\\Longrightarrow\n",
    "A-\\lambda I = \n",
    "\\begin{bmatrix}\n",
    "-\\sqrt{rg} & -g\\\\\n",
    "-r & -\\sqrt{rg}\n",
    "\\end{bmatrix}\n",
    "y = 0\n",
    "$$\n",
    "\n"
   ]
  },
  {
   "cell_type": "markdown",
   "metadata": {},
   "source": [
    "Solve for y by using Gaussian Elimiation,\n",
    "\n",
    "$$ \\Longrightarrow \\vec{v_{1}} = \\begin{bmatrix} -\\sqrt{\\frac{g}{r}} \\\\ 1 \\end{bmatrix} $$\n"
   ]
  },
  {
   "cell_type": "markdown",
   "metadata": {},
   "source": [
    "Similarly we can get,\n",
    "\n",
    "$$ \\Longrightarrow \\vec{v_{2}} = \\begin{bmatrix} \\sqrt{\\frac{g}{r}} \\\\ 1 \\end{bmatrix} $$"
   ]
  },
  {
   "cell_type": "markdown",
   "metadata": {},
   "source": [
    "Genral solutions:\n",
    "\n",
    "$$ \\Longrightarrow y(t) = a_{1}e^{ \\sqrt{rg} t}\\begin{bmatrix} -\\sqrt{\\frac{g}{r}} \\\\ 1 \\end{bmatrix} + a_{2}e^{-\\sqrt{rg} t} \\begin{bmatrix} \\sqrt{\\frac{g}{r}} \\\\ 1 \\end{bmatrix} $$"
   ]
  },
  {
   "cell_type": "markdown",
   "metadata": {},
   "source": [
    "Plugging into y[A,B],\n",
    "\n",
    "Assume r and g >= 0,\n",
    "A(t) = $$-a_{1}\\sqrt{\\frac{g}{r}} e^{ \\sqrt{rg} t} + a_{2}\\sqrt{\\frac{g}{r}}e^{-\\sqrt{rg} t}$$\n",
    "\n",
    "B(t) = $$a_{1}e^{ \\sqrt{rg} t} + a_{2}e^{-\\sqrt{rg} t}$$\n"
   ]
  },
  {
   "cell_type": "markdown",
   "metadata": {},
   "source": [
    "A(0) = $$-a_{1}\\sqrt{\\frac{g}{r}} + a_{2}\\sqrt{\\frac{g}{r}}$$\n",
    "\n",
    "B(0) = $$a_{1} + a_{2}$$\n",
    "\n",
    "A(t) = A(0) - gB(t)\n",
    "\n",
    "B(t) = B(0) - rA(t)\n",
    "\n",
    "\n",
    "\n",
    "\n",
    "If A win the battle,\n",
    "\n",
    "A(t) > B(t) as t goes to infinity\n",
    "\n",
    "\n"
   ]
  },
  {
   "cell_type": "markdown",
   "metadata": {},
   "source": [
    "$$ \\Longrightarrow A(0) - g(a_{1}e^{ \\sqrt{rg} t} + a_{2}e^{-\\sqrt{rg} t}) > B(0) - r(-a_{1}\\sqrt{\\frac{g}{r}} e^{ \\sqrt{rg} t} + a_{2}\\sqrt{\\frac{g}{r}}e^{-\\sqrt{rg} t}) \\,\\,(a \\longrightarrow \\inf)$$"
   ]
  },
  {
   "cell_type": "markdown",
   "metadata": {},
   "source": [
    "## b"
   ]
  },
  {
   "cell_type": "markdown",
   "metadata": {},
   "source": [
    "Given that dA/dt = -gBA and dB/dt = -rA\n",
    "\n",
    "That implies:\n",
    "\n",
    "A(t) = A(0) -gA(t)B(t)\n",
    "\n",
    "B(t) = B(0) - rA(t)\n",
    "\n",
    "When A win the battle, dA/dt >= 0 \n",
    "\n",
    "B < 0\n",
    "\n",
    "B(0) - rA(t) <= 0\n",
    "\n"
   ]
  },
  {
   "cell_type": "markdown",
   "metadata": {},
   "source": [
    "=> B(0) - r(A(0) + grA(t)) <= 0"
   ]
  },
  {
   "cell_type": "markdown",
   "metadata": {},
   "source": [
    "Since A(t) = A(0) + gA(t)B(t) \n",
    " A = A(0) + gr(A * A)\n",
    "\n",
    "Solve for A, we got\n",
    "\n",
    "$$A_{1} = \\frac{1 + \\sqrt{1 - 4grA_{0}}}{2gr}$$\n",
    "$$A_{2} = \\frac{1 - \\sqrt{1 - 4grA_{0}}}{2gr} $$\n"
   ]
  },
  {
   "cell_type": "markdown",
   "metadata": {},
   "source": [
    "Result:\n",
    "\n",
    "$$ B(0) -r(A(0) + grA) \\leq 0 \\,\\,where A = A1\\,or\\, A2 $$\n"
   ]
  },
  {
   "cell_type": "markdown",
   "metadata": {},
   "source": [
    "# Q9"
   ]
  },
  {
   "cell_type": "markdown",
   "metadata": {},
   "source": [
    "## a"
   ]
  },
  {
   "cell_type": "code",
   "execution_count": 26,
   "metadata": {
    "scrolled": true
   },
   "outputs": [
    {
     "data": {
      "text/plain": [
       "array([[ 39.,  31.],\n",
       "       [ 40.,  18.],\n",
       "       [ 41.,  12.],\n",
       "       [ 42.,   9.],\n",
       "       [ 43.,  13.],\n",
       "       [ 44.,   6.],\n",
       "       [ 45.,   9.],\n",
       "       [ 46.,   5.],\n",
       "       [ 47.,   9.],\n",
       "       [ 48.,  16.],\n",
       "       [ 49.,   8.],\n",
       "       [ 50.,   8.],\n",
       "       [ 51.,  10.],\n",
       "       [  0.,  12.],\n",
       "       [  1.,  16.],\n",
       "       [  2.,  24.],\n",
       "       [  3.,  48.],\n",
       "       [  4.,  51.],\n",
       "       [  5.,  92.],\n",
       "       [  6., 124.],\n",
       "       [  7., 178.],\n",
       "       [  8., 280.],\n",
       "       [  9., 387.],\n",
       "       [ 10., 442.],\n",
       "       [ 11., 644.],\n",
       "       [ 12., 779.],\n",
       "       [ 13., 702.],\n",
       "       [ 14., 695.],\n",
       "       [ 15., 870.],\n",
       "       [ 16., 925.],\n",
       "       [ 17., 802.],\n",
       "       [ 18., 578.],\n",
       "       [ 19., 404.],\n",
       "       [ 20., 296.],\n",
       "       [ 21., 162.],\n",
       "       [ 22., 106.],\n",
       "       [ 23.,  64.],\n",
       "       [ 24.,  46.],\n",
       "       [ 25.,  35.],\n",
       "       [ 26.,  27.],\n",
       "       [ 27.,  28.],\n",
       "       [ 28.,  24.],\n",
       "       [ 29.,  26.],\n",
       "       [ 30.,  29.],\n",
       "       [ 31.,  17.],\n",
       "       [ 32.,  31.],\n",
       "       [ 33.,  15.],\n",
       "       [ 34.,  14.],\n",
       "       [ 35.,  18.],\n",
       "       [ 36.,  22.],\n",
       "       [ 37.,  22.],\n",
       "       [ 38.,  30.]])"
      ]
     },
     "execution_count": 26,
     "metadata": {},
     "output_type": "execute_result"
    }
   ],
   "source": [
    "from numpy import *\n",
    "from pylab import loglog, show, xlabel, ylabel, savefig, text, subplot, plot\n",
    "from scipy import linalg\n",
    "\n",
    "\n",
    "data = loadtxt('plague_data.csv', delimiter=',',comments='#')\n",
    "data"
   ]
  },
  {
   "cell_type": "code",
   "execution_count": 27,
   "metadata": {},
   "outputs": [
    {
     "data": {
      "image/png": "[encoded data removed]",
      "text/plain": [
       "<Figure size 432x288 with 1 Axes>"
      ]
     },
     "metadata": {
      "needs_background": "light"
     },
     "output_type": "display_data"
    }
   ],
   "source": [
    "figure(1)\n",
    "plot(data[:,0], data[:,1], 'b.', markersize=15)\n",
    "\n",
    "xlabel('week of data point (52 week year)',fontsize=24)\n",
    "ylabel('number of plague deaths',fontsize=24)\n",
    "legend(['Data'],loc=1,fontsize=20)\n",
    "xticks(fontsize=20)\n",
    "yticks(fontsize=20)\n",
    "tight_layout()\n",
    "show()\n"
   ]
  },
  {
   "cell_type": "markdown",
   "metadata": {},
   "source": [
    "## b"
   ]
  },
  {
   "cell_type": "code",
   "execution_count": 28,
   "metadata": {},
   "outputs": [],
   "source": [
    "from scipy import array, linspace\n",
    "from scipy import integrate\n",
    "from matplotlib.pyplot import *"
   ]
  },
  {
   "cell_type": "code",
   "execution_count": 29,
   "metadata": {},
   "outputs": [],
   "source": [
    "beta = 3e-5\n",
    "lam = 0.01\n",
    "S0 = 9000\n",
    "I0 = 30"
   ]
  },
  {
   "cell_type": "code",
   "execution_count": 30,
   "metadata": {},
   "outputs": [],
   "source": [
    "X0 = [9000,30]"
   ]
  },
  {
   "cell_type": "code",
   "execution_count": 31,
   "metadata": {},
   "outputs": [],
   "source": [
    "def vector_field(X, t):\n",
    "    # The differenti equations are\n",
    "    #\n",
    "    S, I = X\n",
    "    return array([\n",
    "        -beta*S*I,\n",
    "        beta*S*I-lam*I\n",
    "        ])"
   ]
  },
  {
   "cell_type": "code",
   "execution_count": 32,
   "metadata": {
    "scrolled": true
   },
   "outputs": [
    {
     "name": "stderr",
     "output_type": "stream",
     "text": [
      "C:\\Users\\wangh_qx6\\anaconda3\\envs\\gec\\lib\\site-packages\\ipykernel_launcher.py:1: DeprecationWarning: scipy.linspace is deprecated and will be removed in SciPy 2.0.0, use numpy.linspace instead\n",
      "  \"\"\"Entry point for launching an IPython kernel.\n",
      "C:\\Users\\wangh_qx6\\anaconda3\\envs\\gec\\lib\\site-packages\\ipykernel_launcher.py:7: DeprecationWarning: scipy.array is deprecated and will be removed in SciPy 2.0.0, use numpy.array instead\n",
      "  import sys\n"
     ]
    },
    {
     "data": {
      "text/plain": [
       "array([[9.00000000e+03, 3.00000000e+01],\n",
       "       [8.99054840e+03, 3.91013588e+01],\n",
       "       [8.97824631e+03, 5.09470187e+01],\n",
       "       [8.96224604e+03, 6.63527271e+01],\n",
       "       [8.94145604e+03, 8.63685788e+01],\n",
       "       [8.91447659e+03, 1.12340726e+02],\n",
       "       [8.87952230e+03, 1.45985432e+02],\n",
       "       [8.83433181e+03, 1.89475158e+02],\n",
       "       [8.77606743e+03, 2.45533848e+02],\n",
       "       [8.70121166e+03, 3.17534240e+02],\n",
       "       [8.60547509e+03, 4.09582933e+02],\n",
       "       [8.48374055e+03, 5.26568411e+02],\n",
       "       [8.33008339e+03, 6.74132907e+02],\n",
       "       [8.13792392e+03, 8.58512917e+02],\n",
       "       [7.90038271e+03, 1.08617950e+03],\n",
       "       [7.61090978e+03, 1.36320959e+03],\n",
       "       [7.26422985e+03, 1.69434939e+03],\n",
       "       [6.85756792e+03, 2.08180817e+03],\n",
       "       [6.39198789e+03, 2.52395235e+03],\n",
       "       [5.87351792e+03, 3.01422515e+03],\n",
       "       [5.31362702e+03, 3.54072301e+03],\n",
       "       [4.72867069e+03, 4.08680249e+03],\n",
       "       [4.13819205e+03, 4.63281942e+03],\n",
       "       [3.56238714e+03, 5.15868162e+03],\n",
       "       [3.01939958e+03, 5.64654490e+03],\n",
       "       [2.52318519e+03, 6.08291398e+03],\n",
       "       [2.08243192e+03, 6.45967204e+03],\n",
       "       [1.70059859e+03, 6.77398666e+03],\n",
       "       [1.37678337e+03, 7.02739175e+03],\n",
       "       [1.10698937e+03, 7.22448379e+03],\n",
       "       [8.85406076e+02, 7.37161610e+03],\n",
       "       [7.05472310e+02, 7.47582358e+03],\n",
       "       [5.60634087e+02, 7.54406211e+03],\n",
       "       [4.44811016e+02, 7.58274554e+03],\n",
       "       [3.52632468e+02, 7.59751637e+03],\n",
       "       [2.79514681e+02, 7.59317698e+03],\n",
       "       [2.21640446e+02, 7.57371843e+03],\n",
       "       [1.75887068e+02, 7.54240038e+03],\n",
       "       [1.39732926e+02, 7.50185146e+03],\n",
       "       [1.11160808e+02, 7.45417189e+03],\n",
       "       [8.85678192e+01, 7.40102845e+03],\n",
       "       [7.06862629e+01, 7.34373757e+03],\n",
       "       [5.65167059e+01, 7.28333546e+03],\n",
       "       [4.52727750e+01, 7.22063592e+03],\n",
       "       [3.63364048e+01, 7.15627705e+03],\n",
       "       [2.92220010e+01, 7.09075870e+03],\n",
       "       [2.35479872e+01, 7.02447220e+03],\n",
       "       [1.90143540e+01, 6.95772377e+03],\n",
       "       [1.53850096e+01, 6.89075294e+03],\n",
       "       [1.24739514e+01, 6.82374698e+03],\n",
       "       [1.01344423e+01, 6.75685220e+03],\n",
       "       [8.25055043e+00, 6.69018282e+03]])"
      ]
     },
     "execution_count": 32,
     "metadata": {},
     "output_type": "execute_result"
    }
   ],
   "source": [
    "t = linspace(0., 52., 52)\n",
    "X = integrate.odeint(vector_field, X0, t)\n",
    "X"
   ]
  },
  {
   "cell_type": "code",
   "execution_count": 33,
   "metadata": {},
   "outputs": [
    {
     "data": {
      "text/plain": [
       "52"
      ]
     },
     "execution_count": 33,
     "metadata": {},
     "output_type": "execute_result"
    }
   ],
   "source": [
    "len(X)"
   ]
  },
  {
   "cell_type": "code",
   "execution_count": 34,
   "metadata": {},
   "outputs": [
    {
     "data": {
      "text/plain": [
       "18.0"
      ]
     },
     "execution_count": 34,
     "metadata": {},
     "output_type": "execute_result"
    }
   ],
   "source": [
    "data[1,1]"
   ]
  },
  {
   "cell_type": "code",
   "execution_count": 35,
   "metadata": {
    "scrolled": true
   },
   "outputs": [
    {
     "data": {
      "text/plain": [
       "[24.858353039079713,\n",
       " 19.664788496861167,\n",
       " 15.573040929748247,\n",
       " 12.34890384502143,\n",
       " 9.806946757201137,\n",
       " 7.8010013878115965,\n",
       " 6.216184731861203,\n",
       " 4.962365449842581,\n",
       " 3.968898677640748,\n",
       " 3.1804290017067123,\n",
       " 2.553572635669071,\n",
       " 2.0543078574010254,\n",
       " 1.65593072104763,\n",
       " 8.100000000000001,\n",
       " 10.546279771173799,\n",
       " 13.722446474243341,\n",
       " 17.840083965569228,\n",
       " 23.16782553347634,\n",
       " 30.043763087004905,\n",
       " 38.888426855257386,\n",
       " 50.21659250328533,\n",
       " 64.64464825743998,\n",
       " 82.88797888194324,\n",
       " 105.73967188592894,\n",
       " 134.01809342735461,\n",
       " 168.4674998949657,\n",
       " 209.59538410675722,\n",
       " 257.4370114865701,\n",
       " 311.25795728492585,\n",
       " 369.24430193809576,\n",
       " 428.28422826106566,\n",
       " 483.9921867826489,\n",
       " 531.1231620504735,\n",
       " 564.4224433444509,\n",
       " 579.7542947757298,\n",
       " 575.1448947979243,\n",
       " 551.3166326617217,\n",
       " 511.47525949515403,\n",
       " 460.44955470959434,\n",
       " 403.5548167895378,\n",
       " 345.59496546244753,\n",
       " 290.2558827839572,\n",
       " 239.92280325373918,\n",
       " 195.80621059105096,\n",
       " 158.2195958794189,\n",
       " 126.88375111682303,\n",
       " 101.18666229427897,\n",
       " 80.37392830296913,\n",
       " 63.67213328553778,\n",
       " 50.35926986260159,\n",
       " 39.79832056818113,\n",
       " 31.447669660885992]"
      ]
     },
     "execution_count": 35,
     "metadata": {},
     "output_type": "execute_result"
    }
   ],
   "source": [
    "betaSI = []\n",
    "for i in range(len(X)):\n",
    "    ind = int(data[i,0])\n",
    "    betaSI.append(beta*X[ind][0]*X[ind][1])\n",
    "betaSI"
   ]
  },
  {
   "cell_type": "code",
   "execution_count": 36,
   "metadata": {
    "scrolled": true
   },
   "outputs": [
    {
     "data": {
      "image/png": "[encoded data removed]",
      "text/plain": [
       "<Figure size 432x288 with 1 Axes>"
      ]
     },
     "metadata": {
      "needs_background": "light"
     },
     "output_type": "display_data"
    }
   ],
   "source": [
    "figure(1)\n",
    "plot(data[:,0], betaSI, 'b.', markersize=15)\n",
    "\n",
    "xlabel('week of data point (52 week year)',fontsize=24)\n",
    "ylabel('BetaS(t)I(t)',fontsize=24)\n",
    "legend(['Data'],loc=1,fontsize=20)\n",
    "xticks(fontsize=20)\n",
    "yticks(fontsize=20)\n",
    "tight_layout()\n",
    "show()"
   ]
  },
  {
   "cell_type": "markdown",
   "metadata": {},
   "source": [
    "## c"
   ]
  },
  {
   "cell_type": "code",
   "execution_count": 37,
   "metadata": {},
   "outputs": [
    {
     "name": "stdout",
     "output_type": "stream",
     "text": [
      "Absolute Error: 9385.798617076764\n"
     ]
    }
   ],
   "source": [
    "abs_error = 0.0\n",
    "for i in range(len(betaSI)):\n",
    "    abs_error += abs(data[i,1]-betaSI[i])\n",
    "\n",
    "\n",
    "print(f\"Absolute Error: {abs_error}\")"
   ]
  },
  {
   "cell_type": "code",
   "execution_count": 38,
   "metadata": {},
   "outputs": [
    {
     "name": "stdout",
     "output_type": "stream",
     "text": [
      "Square Error: 3667199.6356139313\n"
     ]
    }
   ],
   "source": [
    "sq_error = 0.0\n",
    "for i in range(len(betaSI)):\n",
    "    sq_error += (data[i,1]-betaSI[i])**2\n",
    "\n",
    "\n",
    "print(f\"Square Error: {sq_error}\")"
   ]
  },
  {
   "cell_type": "markdown",
   "metadata": {},
   "source": [
    "## d"
   ]
  },
  {
   "cell_type": "code",
   "execution_count": 39,
   "metadata": {},
   "outputs": [],
   "source": [
    "from numpy import *\n",
    "from scipy import linalg, random, integrate\n",
    "from matplotlib.pyplot import *"
   ]
  },
  {
   "cell_type": "code",
   "execution_count": 40,
   "metadata": {},
   "outputs": [],
   "source": [
    "from numpy import *\n",
    "from pylab import loglog, show, xlabel, ylabel, savefig, text, subplot, plot\n",
    "from scipy import linalg\n",
    "from scipy.optimize import fmin\n",
    "\n",
    "data = loadtxt('plague_data.csv', delimiter=',',comments='#')"
   ]
  },
  {
   "cell_type": "code",
   "execution_count": 41,
   "metadata": {},
   "outputs": [],
   "source": [
    "t = linspace(0, 52, 52)\n",
    "\n",
    "def vector_field_revised(X,t,beta,lam):\n",
    "    # The differenti equations are\n",
    "    #\n",
    "    S, I = X\n",
    "    return array([\n",
    "        -beta*S*I,\n",
    "        beta*S*I-lam*I\n",
    "        ])"
   ]
  },
  {
   "cell_type": "code",
   "execution_count": 42,
   "metadata": {},
   "outputs": [],
   "source": [
    "def e2(g):\n",
    "    beta = 0\n",
    "    \n",
    "    beta = g[0]\n",
    "    lam = g[1]\n",
    "    S0 = g[2]\n",
    "    I0 = g[3]\n",
    "    sq_error = 0.0\n",
    "    tt = [S0,I0]\n",
    "    t = linspace(0, 52, 52)\n",
    "    X = integrate.odeint(vector_field_revised, tt, t, args=(beta,lam))\n",
    "    betaSI = []\n",
    "    for i in range(52):\n",
    "        ind = int(data[i,0])\n",
    "        betaSI.append(beta*X[ind][0]*X[ind][1])\n",
    "        \n",
    "    for i in range(len(betaSI)):\n",
    "        sq_error += (data[i,1]-betaSI[i])**2\n",
    "        \n",
    "    return sq_error"
   ]
  },
  {
   "cell_type": "code",
   "execution_count": 43,
   "metadata": {
    "scrolled": true
   },
   "outputs": [
    {
     "name": "stdout",
     "output_type": "stream",
     "text": [
      "Warning: Maximum number of function evaluations has been exceeded.\n"
     ]
    },
    {
     "data": {
      "text/plain": [
       "array([ 1.79658402e-05, -1.56118658e-01,  8.96703867e+03,  1.46121788e+02])"
      ]
     },
     "execution_count": 43,
     "metadata": {},
     "output_type": "execute_result"
    }
   ],
   "source": [
    "g0 = [3e-5,0.01,9000,30]\n",
    "opt_param = fmin(e2,g0,xtol=1e-12)\n",
    "opt_param"
   ]
  },
  {
   "cell_type": "markdown",
   "metadata": {},
   "source": [
    "square error:"
   ]
  },
  {
   "cell_type": "code",
   "execution_count": 44,
   "metadata": {},
   "outputs": [
    {
     "data": {
      "text/plain": [
       "78626.79374035471"
      ]
     },
     "execution_count": 44,
     "metadata": {},
     "output_type": "execute_result"
    }
   ],
   "source": [
    "e2(opt_param)"
   ]
  },
  {
   "cell_type": "code",
   "execution_count": 45,
   "metadata": {},
   "outputs": [],
   "source": [
    "g = opt_param\n",
    "beta = g[0]\n",
    "lam = g[1]\n",
    "S0 = g[2]\n",
    "I0 = g[3]\n",
    "sq_error = 0.0\n",
    "tt = [S0,I0]\n",
    "t = linspace(0, 52, 52)\n",
    "X = integrate.odeint(vector_field_revised, tt, t, args=(beta,lam))\n",
    "betaSI = []\n",
    "for i in range(52):\n",
    "    ind = int(data[i,0])\n",
    "    betaSI.append(beta*X[ind][0]*X[ind][1])\n",
    "\n"
   ]
  },
  {
   "cell_type": "code",
   "execution_count": 46,
   "metadata": {},
   "outputs": [
    {
     "data": {
      "image/png": "[encoded data removed]",
      "text/plain": [
       "<Figure size 432x288 with 1 Axes>"
      ]
     },
     "metadata": {
      "needs_background": "light"
     },
     "output_type": "display_data"
    }
   ],
   "source": [
    "figure(1)\n",
    "plot(data[:,0], betaSI, 'b.', markersize=15)\n",
    "\n",
    "xlabel('week of data point (52 week year)',fontsize=24)\n",
    "ylabel('BetaS(t)I(t)',fontsize=24)\n",
    "legend(['Data'],loc=1,fontsize=20)\n",
    "xticks(fontsize=20)\n",
    "yticks(fontsize=20)\n",
    "tight_layout()\n",
    "show()"
   ]
  },
  {
   "cell_type": "markdown",
   "metadata": {},
   "source": [
    "## e"
   ]
  },
  {
   "cell_type": "code",
   "execution_count": 47,
   "metadata": {},
   "outputs": [
    {
     "data": {
      "text/plain": [
       "1.79658401894366e-05"
      ]
     },
     "execution_count": 47,
     "metadata": {},
     "output_type": "execute_result"
    }
   ],
   "source": [
    "opt_param[0]"
   ]
  },
  {
   "cell_type": "code",
   "execution_count": 48,
   "metadata": {
    "scrolled": true
   },
   "outputs": [
    {
     "name": "stdout",
     "output_type": "stream",
     "text": [
      "R^2 = 0.9853792695993082 > 0.95 (nice fit)\n"
     ]
    }
   ],
   "source": [
    "R_2 = 1- e2(opt_param)/(sum(data[:,1]**2))\n",
    "print(f'R^2 = {R_2} > 0.95 (nice fit)')"
   ]
  },
  {
   "cell_type": "markdown",
   "metadata": {},
   "source": [
    "# Reference"
   ]
  },
  {
   "cell_type": "markdown",
   "metadata": {},
   "source": [
    "1. https://stackoverflow.com/questions/8739227/how-to-solve-a-pair-of-nonlinear-equations-using-python\n",
    "2. https://stackoverflow.com/questions/4449110/python-solve-equation-for-one-variable\n",
    "3. http://sites.science.oregonstate.edu/~show/docs/256-SnowPlow.pdf\n",
    "4. https://docs.scipy.org/doc/scipy/reference/tutorial/integrate.html\n",
    "5. https://pubmed.ncbi.nlm.nih.gov/19036410/\n",
    "6. http://liyangbit.com/math/jupyter-latex/\n",
    "7. https://matrixcalc.org/en/vectors.html#eigenvectors%28%7B%7B0,-g%7D,%7B-r,0%7D%7D%29\n",
    "8. https://stackoverflow.com/questions/25206482/using-scipy-to-minimize-a-function-that-also-takes-non-variational-parameters\n",
    "9. https://docs.scipy.org/doc/scipy-0.10.1/reference/tutorial/optimize.html"
   ]
  }
 ],
 "metadata": {
  "kernelspec": {
   "display_name": "Python 3",
   "language": "python",
   "name": "python3"
  },
  "language_info": {
   "codemirror_mode": {
    "name": "ipython",
    "version": 3
   },
   "file_extension": ".py",
   "mimetype": "text/x-python",
   "name": "python",
   "nbconvert_exporter": "python",
   "pygments_lexer": "ipython3",
   "version": "3.7.8"
  }
 },
 "nbformat": 4,
 "nbformat_minor": 4
}
