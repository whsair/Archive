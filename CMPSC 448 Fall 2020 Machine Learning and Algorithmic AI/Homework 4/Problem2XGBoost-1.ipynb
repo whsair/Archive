{
 "cells": [
  {
   "cell_type": "code",
   "execution_count": 1,
   "metadata": {},
   "outputs": [],
   "source": [
    "import numpy as np\n",
    "import matplotlib.pyplot as plt\n",
    "from sklearn import preprocessing\n",
    "from sklearn.model_selection import train_test_split\n",
    "from sklearn.datasets import load_svmlight_file\n",
    "# Importing packages and data\n",
    "from time import time\n",
    "\n",
    "import pandas as pd\n",
    "from sklearn.feature_extraction.text import TfidfVectorizer\n",
    "from sklearn.svm import LinearSVC\n",
    "from sklearn.tree import DecisionTreeClassifier\n",
    "from sklearn.experimental import enable_hist_gradient_boosting\n",
    "from sklearn.ensemble import (RandomForestClassifier,\n",
    "                              AdaBoostClassifier,\n",
    "                              GradientBoostingClassifier,\n",
    "                              HistGradientBoostingClassifier)\n",
    "from xgboost import XGBClassifier\n",
    "import matplotlib.pyplot as plt"
   ]
  },
  {
   "cell_type": "markdown",
   "metadata": {},
   "source": [
    "## Loading a9a and a9a.t"
   ]
  },
  {
   "cell_type": "code",
   "execution_count": 2,
   "metadata": {},
   "outputs": [],
   "source": [
    "N_FEATURES = 123\n",
    "X_train, y_train = load_svmlight_file('a9a.txt', n_features=N_FEATURES)\n",
    "X_test, y_test = load_svmlight_file('a9a.t', n_features=N_FEATURES)\n",
    "X_train, X_valid, y_train, y_valid = train_test_split(X_train, y_train, test_size=0.2)\n"
   ]
  },
  {
   "cell_type": "markdown",
   "metadata": {},
   "source": [
    "# XGBoost\n",
    "\n",
    "1. n estimators\n",
    "2. max depth\n",
    "3. lambda\n",
    "4. learning rate\n",
    "5. missing\n",
    "6. objective"
   ]
  },
  {
   "cell_type": "markdown",
   "metadata": {},
   "source": [
    "## Description: XGBoost\n",
    "Most serious ML practitioners are already familiar, or at least have heard of XGBoost (short for EXtreme Gradient Boosting). XGBoost is a gradient boosting library that came to fame after winning the Kaggle Higgs Machine Learning Challenge in 2014. This library became popular for several reasons:\n",
    "It implemented very effective regularization hyperparameters on the underlying trees.\n",
    "It was built to be highly scalable, utilizing distributed computing to process extremely large data sets.\n",
    "It is available in many different languages (such as Python, R, C, C++, Ruby, Julia, etc.).\n",
    "XGBoost still does quite well in modern competitions, and the XGBoost community has done a great job of maintaining the packages and adding new features. However, it is facing some competition from other boosting libraries such as LightGBM and CatBoost. One disadvantage of the XGBoost library is that it doesn’t have any special treatment of categorical features like its competitors. This is unfortunate, as boosting libraries tend to excel in tabular data, which often includes discrete features. However, in our comparison this will not matter, as our TFIDF representation contains only continuous value features."
   ]
  },
  {
   "cell_type": "markdown",
   "metadata": {},
   "source": [
    "Boosting basic ideas: Boosting refers to a general and provably effective method of producing a very accurate classifier by combining by combining rough and moderately inaccurate rules of thumb. Instead of learning a single (weak) classifier, learn many weak classifiers that are good at different parts of the input space.\n",
    "\n",
    "\n",
    "Gradient boosting is a machine learning technique for regression and classification problems, which produces a prediction model in the form of an ensemble of weak prediction models, typically decision trees. It builds the model in a stage-wise fashion like other boosting methods do, and it generalizes them by allowing optimization of an arbitrary differentiable loss function."
   ]
  },
  {
   "cell_type": "markdown",
   "metadata": {},
   "source": [
    "# training methodology\n",
    "1. Get the default parameter from offical document \n",
    "2. Set the default as the constant, each time using 5-fold cross evulation to figure out one optimal parameteres based on default value; In other word, set one parameter as a variable and the rest of parameter as constants. The step is to narrow the range of input parameters.\n",
    "3. repeat #2 k times to get approximate optimal parameters of range (k is the number of parameter to fine turning)\n",
    "4. combine every improved parameters together then evaluate the model and output the result\n",
    "5. random input parameters in the decision range to see whether get a better performance"
   ]
  },
  {
   "cell_type": "markdown",
   "metadata": {},
   "source": [
    "## default parameter"
   ]
  },
  {
   "cell_type": "code",
   "execution_count": 3,
   "metadata": {
    "scrolled": false
   },
   "outputs": [
    {
     "data": {
      "text/plain": [
       "XGBClassifier(base_score=None, booster=None, colsample_bylevel=None,\n",
       "              colsample_bynode=None, colsample_bytree=None, gamma=None,\n",
       "              gpu_id=None, importance_type='gain', interaction_constraints=None,\n",
       "              learning_rate=None, max_delta_step=None, max_depth=None,\n",
       "              min_child_weight=None, missing=nan, monotone_constraints=None,\n",
       "              n_estimators=100, n_jobs=None, num_parallel_tree=None,\n",
       "              random_state=None, reg_alpha=None, reg_lambda=None,\n",
       "              scale_pos_weight=None, subsample=None, tree_method=None,\n",
       "              validate_parameters=None, verbosity=None)"
      ]
     },
     "execution_count": 3,
     "metadata": {},
     "output_type": "execute_result"
    }
   ],
   "source": [
    "xgb = XGBClassifier()\n",
    "xgb"
   ]
  },
  {
   "cell_type": "code",
   "execution_count": 4,
   "metadata": {},
   "outputs": [
    {
     "name": "stdout",
     "output_type": "stream",
     "text": [
      "n estimators = 100\n",
      "max depth = None\n",
      "lambda = None\n",
      "learning rate = None\n",
      "missing = nan\n",
      "objective = binary:logistic\n"
     ]
    }
   ],
   "source": [
    "print(f\"n estimators = {xgb.n_estimators}\")\n",
    "print(f\"max depth = {xgb.max_depth}\")\n",
    "print(f\"lambda = {xgb.reg_lambda}\")\n",
    "print(f\"learning rate = {xgb.learning_rate}\")\n",
    "print(f\"missing = {xgb.missing}\")\n",
    "print(f\"objective = {xgb.objective}\")"
   ]
  },
  {
   "cell_type": "code",
   "execution_count": 5,
   "metadata": {
    "scrolled": true
   },
   "outputs": [
    {
     "name": "stdout",
     "output_type": "stream",
     "text": [
      "default_xgb_error = 0.12139127764127766\n"
     ]
    }
   ],
   "source": [
    "default_xgb = xgb.fit(X_train, y_train)\n",
    "default_xgb_error = 1-float(default_xgb.score(X_train, y_train))\n",
    "print(f\"default_xgb_error = {default_xgb_error}\");"
   ]
  },
  {
   "cell_type": "code",
   "execution_count": 6,
   "metadata": {},
   "outputs": [
    {
     "name": "stdout",
     "output_type": "stream",
     "text": [
      "n estimators = 100\n",
      "max depth = 6\n",
      "lambda = 1\n",
      "learning rate = 0.3\n",
      "missing = nan\n",
      "objective = binary:logistic\n"
     ]
    }
   ],
   "source": [
    "#referene: https://docs.h2o.ai/h2o/latest-stable/h2o-docs/data-science/xgboost.html\n",
    "print(f\"n estimators = {100}\")\n",
    "print(f\"max depth = {6}\")\n",
    "print(f\"lambda = {1}\")\n",
    "print(f\"learning rate = {0.3}\")\n",
    "print(f\"missing = {xgb.missing}\")\n",
    "print(f\"objective = {xgb.objective}\")"
   ]
  },
  {
   "cell_type": "code",
   "execution_count": 7,
   "metadata": {},
   "outputs": [],
   "source": [
    "from sklearn.model_selection import train_test_split\n",
    "from sklearn.model_selection import cross_val_score\n",
    "from sklearn.metrics import accuracy_score "
   ]
  },
  {
   "cell_type": "markdown",
   "metadata": {},
   "source": [
    "## Using K-fold cross-validation to get better learning_rate"
   ]
  },
  {
   "cell_type": "code",
   "execution_count": 8,
   "metadata": {
    "scrolled": true
   },
   "outputs": [
    {
     "name": "stdout",
     "output_type": "stream",
     "text": [
      "[20:57:17] WARNING: C:\\Users\\Administrator\\workspace\\xgboost-win64_release_1.2.0\\src\\learner.cc:211: Only 1 GPUs are visible, setting `gpu_id` to 0\n",
      "[20:57:18] WARNING: C:\\Users\\Administrator\\workspace\\xgboost-win64_release_1.2.0\\src\\learner.cc:211: Only 1 GPUs are visible, setting `gpu_id` to 0\n",
      "[20:57:19] WARNING: C:\\Users\\Administrator\\workspace\\xgboost-win64_release_1.2.0\\src\\learner.cc:211: Only 1 GPUs are visible, setting `gpu_id` to 0\n",
      "[20:57:19] WARNING: C:\\Users\\Administrator\\workspace\\xgboost-win64_release_1.2.0\\src\\learner.cc:211: Only 1 GPUs are visible, setting `gpu_id` to 0\n",
      "[20:57:20] WARNING: C:\\Users\\Administrator\\workspace\\xgboost-win64_release_1.2.0\\src\\learner.cc:211: Only 1 GPUs are visible, setting `gpu_id` to 0\n",
      "[20:57:21] WARNING: C:\\Users\\Administrator\\workspace\\xgboost-win64_release_1.2.0\\src\\learner.cc:211: Only 1 GPUs are visible, setting `gpu_id` to 0\n",
      "[20:57:21] WARNING: C:\\Users\\Administrator\\workspace\\xgboost-win64_release_1.2.0\\src\\learner.cc:211: Only 1 GPUs are visible, setting `gpu_id` to 0\n",
      "[20:57:21] WARNING: C:\\Users\\Administrator\\workspace\\xgboost-win64_release_1.2.0\\src\\learner.cc:211: Only 1 GPUs are visible, setting `gpu_id` to 0\n",
      "[20:57:22] WARNING: C:\\Users\\Administrator\\workspace\\xgboost-win64_release_1.2.0\\src\\learner.cc:211: Only 1 GPUs are visible, setting `gpu_id` to 0\n",
      "[20:57:22] WARNING: C:\\Users\\Administrator\\workspace\\xgboost-win64_release_1.2.0\\src\\learner.cc:211: Only 1 GPUs are visible, setting `gpu_id` to 0\n",
      "[20:57:22] WARNING: C:\\Users\\Administrator\\workspace\\xgboost-win64_release_1.2.0\\src\\learner.cc:211: Only 1 GPUs are visible, setting `gpu_id` to 0\n",
      "[20:57:23] WARNING: C:\\Users\\Administrator\\workspace\\xgboost-win64_release_1.2.0\\src\\learner.cc:211: Only 1 GPUs are visible, setting `gpu_id` to 0\n",
      "[20:57:23] WARNING: C:\\Users\\Administrator\\workspace\\xgboost-win64_release_1.2.0\\src\\learner.cc:211: Only 1 GPUs are visible, setting `gpu_id` to 0\n",
      "[20:57:24] WARNING: C:\\Users\\Administrator\\workspace\\xgboost-win64_release_1.2.0\\src\\learner.cc:211: Only 1 GPUs are visible, setting `gpu_id` to 0\n",
      "[20:57:25] WARNING: C:\\Users\\Administrator\\workspace\\xgboost-win64_release_1.2.0\\src\\learner.cc:211: Only 1 GPUs are visible, setting `gpu_id` to 0\n",
      "[20:57:25] WARNING: C:\\Users\\Administrator\\workspace\\xgboost-win64_release_1.2.0\\src\\learner.cc:211: Only 1 GPUs are visible, setting `gpu_id` to 0\n",
      "[20:57:26] WARNING: C:\\Users\\Administrator\\workspace\\xgboost-win64_release_1.2.0\\src\\learner.cc:211: Only 1 GPUs are visible, setting `gpu_id` to 0\n",
      "[20:57:26] WARNING: C:\\Users\\Administrator\\workspace\\xgboost-win64_release_1.2.0\\src\\learner.cc:211: Only 1 GPUs are visible, setting `gpu_id` to 0\n",
      "[20:57:26] WARNING: C:\\Users\\Administrator\\workspace\\xgboost-win64_release_1.2.0\\src\\learner.cc:211: Only 1 GPUs are visible, setting `gpu_id` to 0\n",
      "[20:57:26] WARNING: C:\\Users\\Administrator\\workspace\\xgboost-win64_release_1.2.0\\src\\learner.cc:211: Only 1 GPUs are visible, setting `gpu_id` to 0\n",
      "[20:57:27] WARNING: C:\\Users\\Administrator\\workspace\\xgboost-win64_release_1.2.0\\src\\learner.cc:211: Only 1 GPUs are visible, setting `gpu_id` to 0\n",
      "[20:57:27] WARNING: C:\\Users\\Administrator\\workspace\\xgboost-win64_release_1.2.0\\src\\learner.cc:211: Only 1 GPUs are visible, setting `gpu_id` to 0\n",
      "[20:57:28] WARNING: C:\\Users\\Administrator\\workspace\\xgboost-win64_release_1.2.0\\src\\learner.cc:211: Only 1 GPUs are visible, setting `gpu_id` to 0\n",
      "[20:57:29] WARNING: C:\\Users\\Administrator\\workspace\\xgboost-win64_release_1.2.0\\src\\learner.cc:211: Only 1 GPUs are visible, setting `gpu_id` to 0\n",
      "[20:57:29] WARNING: C:\\Users\\Administrator\\workspace\\xgboost-win64_release_1.2.0\\src\\learner.cc:211: Only 1 GPUs are visible, setting `gpu_id` to 0\n",
      "[20:57:30] WARNING: C:\\Users\\Administrator\\workspace\\xgboost-win64_release_1.2.0\\src\\learner.cc:211: Only 1 GPUs are visible, setting `gpu_id` to 0\n",
      "[20:57:30] WARNING: C:\\Users\\Administrator\\workspace\\xgboost-win64_release_1.2.0\\src\\learner.cc:211: Only 1 GPUs are visible, setting `gpu_id` to 0\n",
      "[20:57:31] WARNING: C:\\Users\\Administrator\\workspace\\xgboost-win64_release_1.2.0\\src\\learner.cc:211: Only 1 GPUs are visible, setting `gpu_id` to 0\n",
      "[20:57:31] WARNING: C:\\Users\\Administrator\\workspace\\xgboost-win64_release_1.2.0\\src\\learner.cc:211: Only 1 GPUs are visible, setting `gpu_id` to 0\n",
      "[20:57:31] WARNING: C:\\Users\\Administrator\\workspace\\xgboost-win64_release_1.2.0\\src\\learner.cc:211: Only 1 GPUs are visible, setting `gpu_id` to 0\n",
      "[20:57:31] WARNING: C:\\Users\\Administrator\\workspace\\xgboost-win64_release_1.2.0\\src\\learner.cc:211: Only 1 GPUs are visible, setting `gpu_id` to 0\n",
      "[20:57:32] WARNING: C:\\Users\\Administrator\\workspace\\xgboost-win64_release_1.2.0\\src\\learner.cc:211: Only 1 GPUs are visible, setting `gpu_id` to 0\n",
      "[20:57:33] WARNING: C:\\Users\\Administrator\\workspace\\xgboost-win64_release_1.2.0\\src\\learner.cc:211: Only 1 GPUs are visible, setting `gpu_id` to 0\n",
      "[20:57:33] WARNING: C:\\Users\\Administrator\\workspace\\xgboost-win64_release_1.2.0\\src\\learner.cc:211: Only 1 GPUs are visible, setting `gpu_id` to 0\n",
      "[20:57:34] WARNING: C:\\Users\\Administrator\\workspace\\xgboost-win64_release_1.2.0\\src\\learner.cc:211: Only 1 GPUs are visible, setting `gpu_id` to 0\n",
      "[20:57:35] WARNING: C:\\Users\\Administrator\\workspace\\xgboost-win64_release_1.2.0\\src\\learner.cc:211: Only 1 GPUs are visible, setting `gpu_id` to 0\n",
      "[20:57:35] WARNING: C:\\Users\\Administrator\\workspace\\xgboost-win64_release_1.2.0\\src\\learner.cc:211: Only 1 GPUs are visible, setting `gpu_id` to 0\n",
      "[20:57:35] WARNING: C:\\Users\\Administrator\\workspace\\xgboost-win64_release_1.2.0\\src\\learner.cc:211: Only 1 GPUs are visible, setting `gpu_id` to 0\n",
      "[20:57:35] WARNING: C:\\Users\\Administrator\\workspace\\xgboost-win64_release_1.2.0\\src\\learner.cc:211: Only 1 GPUs are visible, setting `gpu_id` to 0\n",
      "[20:57:36] WARNING: C:\\Users\\Administrator\\workspace\\xgboost-win64_release_1.2.0\\src\\learner.cc:211: Only 1 GPUs are visible, setting `gpu_id` to 0\n",
      "[20:57:36] WARNING: C:\\Users\\Administrator\\workspace\\xgboost-win64_release_1.2.0\\src\\learner.cc:211: Only 1 GPUs are visible, setting `gpu_id` to 0\n",
      "[20:57:37] WARNING: C:\\Users\\Administrator\\workspace\\xgboost-win64_release_1.2.0\\src\\learner.cc:211: Only 1 GPUs are visible, setting `gpu_id` to 0\n",
      "[20:57:37] WARNING: C:\\Users\\Administrator\\workspace\\xgboost-win64_release_1.2.0\\src\\learner.cc:211: Only 1 GPUs are visible, setting `gpu_id` to 0\n",
      "[20:57:38] WARNING: C:\\Users\\Administrator\\workspace\\xgboost-win64_release_1.2.0\\src\\learner.cc:211: Only 1 GPUs are visible, setting `gpu_id` to 0\n",
      "[20:57:39] WARNING: C:\\Users\\Administrator\\workspace\\xgboost-win64_release_1.2.0\\src\\learner.cc:211: Only 1 GPUs are visible, setting `gpu_id` to 0\n",
      "[20:57:39] WARNING: C:\\Users\\Administrator\\workspace\\xgboost-win64_release_1.2.0\\src\\learner.cc:211: Only 1 GPUs are visible, setting `gpu_id` to 0\n",
      "[20:57:40] WARNING: C:\\Users\\Administrator\\workspace\\xgboost-win64_release_1.2.0\\src\\learner.cc:211: Only 1 GPUs are visible, setting `gpu_id` to 0\n",
      "[20:57:40] WARNING: C:\\Users\\Administrator\\workspace\\xgboost-win64_release_1.2.0\\src\\learner.cc:211: Only 1 GPUs are visible, setting `gpu_id` to 0\n",
      "[20:57:40] WARNING: C:\\Users\\Administrator\\workspace\\xgboost-win64_release_1.2.0\\src\\learner.cc:211: Only 1 GPUs are visible, setting `gpu_id` to 0\n",
      "[20:57:40] WARNING: C:\\Users\\Administrator\\workspace\\xgboost-win64_release_1.2.0\\src\\learner.cc:211: Only 1 GPUs are visible, setting `gpu_id` to 0\n",
      "[20:57:41] WARNING: C:\\Users\\Administrator\\workspace\\xgboost-win64_release_1.2.0\\src\\learner.cc:211: Only 1 GPUs are visible, setting `gpu_id` to 0\n",
      "[20:57:41] WARNING: C:\\Users\\Administrator\\workspace\\xgboost-win64_release_1.2.0\\src\\learner.cc:211: Only 1 GPUs are visible, setting `gpu_id` to 0\n",
      "[20:57:42] WARNING: C:\\Users\\Administrator\\workspace\\xgboost-win64_release_1.2.0\\src\\learner.cc:211: Only 1 GPUs are visible, setting `gpu_id` to 0\n",
      "[20:57:43] WARNING: C:\\Users\\Administrator\\workspace\\xgboost-win64_release_1.2.0\\src\\learner.cc:211: Only 1 GPUs are visible, setting `gpu_id` to 0\n",
      "[20:57:43] WARNING: C:\\Users\\Administrator\\workspace\\xgboost-win64_release_1.2.0\\src\\learner.cc:211: Only 1 GPUs are visible, setting `gpu_id` to 0\n",
      "[20:57:44] WARNING: C:\\Users\\Administrator\\workspace\\xgboost-win64_release_1.2.0\\src\\learner.cc:211: Only 1 GPUs are visible, setting `gpu_id` to 0\n"
     ]
    },
    {
     "name": "stdout",
     "output_type": "stream",
     "text": [
      "[20:57:44] WARNING: C:\\Users\\Administrator\\workspace\\xgboost-win64_release_1.2.0\\src\\learner.cc:211: Only 1 GPUs are visible, setting `gpu_id` to 0\n",
      "[20:57:44] WARNING: C:\\Users\\Administrator\\workspace\\xgboost-win64_release_1.2.0\\src\\learner.cc:211: Only 1 GPUs are visible, setting `gpu_id` to 0\n",
      "[20:57:45] WARNING: C:\\Users\\Administrator\\workspace\\xgboost-win64_release_1.2.0\\src\\learner.cc:211: Only 1 GPUs are visible, setting `gpu_id` to 0\n",
      "[20:57:45] WARNING: C:\\Users\\Administrator\\workspace\\xgboost-win64_release_1.2.0\\src\\learner.cc:211: Only 1 GPUs are visible, setting `gpu_id` to 0\n",
      "[20:57:45] WARNING: C:\\Users\\Administrator\\workspace\\xgboost-win64_release_1.2.0\\src\\learner.cc:211: Only 1 GPUs are visible, setting `gpu_id` to 0\n",
      "[20:57:46] WARNING: C:\\Users\\Administrator\\workspace\\xgboost-win64_release_1.2.0\\src\\learner.cc:211: Only 1 GPUs are visible, setting `gpu_id` to 0\n",
      "[20:57:47] WARNING: C:\\Users\\Administrator\\workspace\\xgboost-win64_release_1.2.0\\src\\learner.cc:211: Only 1 GPUs are visible, setting `gpu_id` to 0\n",
      "[20:57:47] WARNING: C:\\Users\\Administrator\\workspace\\xgboost-win64_release_1.2.0\\src\\learner.cc:211: Only 1 GPUs are visible, setting `gpu_id` to 0\n",
      "[20:57:48] WARNING: C:\\Users\\Administrator\\workspace\\xgboost-win64_release_1.2.0\\src\\learner.cc:211: Only 1 GPUs are visible, setting `gpu_id` to 0\n",
      "[20:57:48] WARNING: C:\\Users\\Administrator\\workspace\\xgboost-win64_release_1.2.0\\src\\learner.cc:211: Only 1 GPUs are visible, setting `gpu_id` to 0\n",
      "[20:57:49] WARNING: C:\\Users\\Administrator\\workspace\\xgboost-win64_release_1.2.0\\src\\learner.cc:211: Only 1 GPUs are visible, setting `gpu_id` to 0\n",
      "[20:57:49] WARNING: C:\\Users\\Administrator\\workspace\\xgboost-win64_release_1.2.0\\src\\learner.cc:211: Only 1 GPUs are visible, setting `gpu_id` to 0\n",
      "[20:57:49] WARNING: C:\\Users\\Administrator\\workspace\\xgboost-win64_release_1.2.0\\src\\learner.cc:211: Only 1 GPUs are visible, setting `gpu_id` to 0\n",
      "[20:57:49] WARNING: C:\\Users\\Administrator\\workspace\\xgboost-win64_release_1.2.0\\src\\learner.cc:211: Only 1 GPUs are visible, setting `gpu_id` to 0\n",
      "[20:57:50] WARNING: C:\\Users\\Administrator\\workspace\\xgboost-win64_release_1.2.0\\src\\learner.cc:211: Only 1 GPUs are visible, setting `gpu_id` to 0\n",
      "[20:57:50] WARNING: C:\\Users\\Administrator\\workspace\\xgboost-win64_release_1.2.0\\src\\learner.cc:211: Only 1 GPUs are visible, setting `gpu_id` to 0\n",
      "[20:57:51] WARNING: C:\\Users\\Administrator\\workspace\\xgboost-win64_release_1.2.0\\src\\learner.cc:211: Only 1 GPUs are visible, setting `gpu_id` to 0\n",
      "[20:57:52] WARNING: C:\\Users\\Administrator\\workspace\\xgboost-win64_release_1.2.0\\src\\learner.cc:211: Only 1 GPUs are visible, setting `gpu_id` to 0\n",
      "[20:57:53] WARNING: C:\\Users\\Administrator\\workspace\\xgboost-win64_release_1.2.0\\src\\learner.cc:211: Only 1 GPUs are visible, setting `gpu_id` to 0\n",
      "[20:57:53] WARNING: C:\\Users\\Administrator\\workspace\\xgboost-win64_release_1.2.0\\src\\learner.cc:211: Only 1 GPUs are visible, setting `gpu_id` to 0\n",
      "[20:57:54] WARNING: C:\\Users\\Administrator\\workspace\\xgboost-win64_release_1.2.0\\src\\learner.cc:211: Only 1 GPUs are visible, setting `gpu_id` to 0\n",
      "[20:57:54] WARNING: C:\\Users\\Administrator\\workspace\\xgboost-win64_release_1.2.0\\src\\learner.cc:211: Only 1 GPUs are visible, setting `gpu_id` to 0\n",
      "[20:57:54] WARNING: C:\\Users\\Administrator\\workspace\\xgboost-win64_release_1.2.0\\src\\learner.cc:211: Only 1 GPUs are visible, setting `gpu_id` to 0\n",
      "[20:57:54] WARNING: C:\\Users\\Administrator\\workspace\\xgboost-win64_release_1.2.0\\src\\learner.cc:211: Only 1 GPUs are visible, setting `gpu_id` to 0\n",
      "[20:57:55] WARNING: C:\\Users\\Administrator\\workspace\\xgboost-win64_release_1.2.0\\src\\learner.cc:211: Only 1 GPUs are visible, setting `gpu_id` to 0\n",
      "[20:57:55] WARNING: C:\\Users\\Administrator\\workspace\\xgboost-win64_release_1.2.0\\src\\learner.cc:211: Only 1 GPUs are visible, setting `gpu_id` to 0\n",
      "[20:57:56] WARNING: C:\\Users\\Administrator\\workspace\\xgboost-win64_release_1.2.0\\src\\learner.cc:211: Only 1 GPUs are visible, setting `gpu_id` to 0\n",
      "[20:57:57] WARNING: C:\\Users\\Administrator\\workspace\\xgboost-win64_release_1.2.0\\src\\learner.cc:211: Only 1 GPUs are visible, setting `gpu_id` to 0\n",
      "[20:57:57] WARNING: C:\\Users\\Administrator\\workspace\\xgboost-win64_release_1.2.0\\src\\learner.cc:211: Only 1 GPUs are visible, setting `gpu_id` to 0\n",
      "[20:57:58] WARNING: C:\\Users\\Administrator\\workspace\\xgboost-win64_release_1.2.0\\src\\learner.cc:211: Only 1 GPUs are visible, setting `gpu_id` to 0\n",
      "[20:57:58] WARNING: C:\\Users\\Administrator\\workspace\\xgboost-win64_release_1.2.0\\src\\learner.cc:211: Only 1 GPUs are visible, setting `gpu_id` to 0\n",
      "[20:57:59] WARNING: C:\\Users\\Administrator\\workspace\\xgboost-win64_release_1.2.0\\src\\learner.cc:211: Only 1 GPUs are visible, setting `gpu_id` to 0\n",
      "[20:57:59] WARNING: C:\\Users\\Administrator\\workspace\\xgboost-win64_release_1.2.0\\src\\learner.cc:211: Only 1 GPUs are visible, setting `gpu_id` to 0\n",
      "[20:57:59] WARNING: C:\\Users\\Administrator\\workspace\\xgboost-win64_release_1.2.0\\src\\learner.cc:211: Only 1 GPUs are visible, setting `gpu_id` to 0\n",
      "[20:57:59] WARNING: C:\\Users\\Administrator\\workspace\\xgboost-win64_release_1.2.0\\src\\learner.cc:211: Only 1 GPUs are visible, setting `gpu_id` to 0\n",
      "[20:58:00] WARNING: C:\\Users\\Administrator\\workspace\\xgboost-win64_release_1.2.0\\src\\learner.cc:211: Only 1 GPUs are visible, setting `gpu_id` to 0\n",
      "[20:58:01] WARNING: C:\\Users\\Administrator\\workspace\\xgboost-win64_release_1.2.0\\src\\learner.cc:211: Only 1 GPUs are visible, setting `gpu_id` to 0\n",
      "[20:58:01] WARNING: C:\\Users\\Administrator\\workspace\\xgboost-win64_release_1.2.0\\src\\learner.cc:211: Only 1 GPUs are visible, setting `gpu_id` to 0\n",
      "[20:58:02] WARNING: C:\\Users\\Administrator\\workspace\\xgboost-win64_release_1.2.0\\src\\learner.cc:211: Only 1 GPUs are visible, setting `gpu_id` to 0\n",
      "[20:58:03] WARNING: C:\\Users\\Administrator\\workspace\\xgboost-win64_release_1.2.0\\src\\learner.cc:211: Only 1 GPUs are visible, setting `gpu_id` to 0\n",
      "[20:58:03] WARNING: C:\\Users\\Administrator\\workspace\\xgboost-win64_release_1.2.0\\src\\learner.cc:211: Only 1 GPUs are visible, setting `gpu_id` to 0\n",
      "[20:58:03] WARNING: C:\\Users\\Administrator\\workspace\\xgboost-win64_release_1.2.0\\src\\learner.cc:211: Only 1 GPUs are visible, setting `gpu_id` to 0\n",
      "[20:58:04] WARNING: C:\\Users\\Administrator\\workspace\\xgboost-win64_release_1.2.0\\src\\learner.cc:211: Only 1 GPUs are visible, setting `gpu_id` to 0\n",
      "[20:58:04] WARNING: C:\\Users\\Administrator\\workspace\\xgboost-win64_release_1.2.0\\src\\learner.cc:211: Only 1 GPUs are visible, setting `gpu_id` to 0\n",
      "[20:58:04] WARNING: C:\\Users\\Administrator\\workspace\\xgboost-win64_release_1.2.0\\src\\learner.cc:211: Only 1 GPUs are visible, setting `gpu_id` to 0\n",
      "[20:58:05] WARNING: C:\\Users\\Administrator\\workspace\\xgboost-win64_release_1.2.0\\src\\learner.cc:211: Only 1 GPUs are visible, setting `gpu_id` to 0\n",
      "[20:58:06] WARNING: C:\\Users\\Administrator\\workspace\\xgboost-win64_release_1.2.0\\src\\learner.cc:211: Only 1 GPUs are visible, setting `gpu_id` to 0\n",
      "[20:58:06] WARNING: C:\\Users\\Administrator\\workspace\\xgboost-win64_release_1.2.0\\src\\learner.cc:211: Only 1 GPUs are visible, setting `gpu_id` to 0\n",
      "[20:58:07] WARNING: C:\\Users\\Administrator\\workspace\\xgboost-win64_release_1.2.0\\src\\learner.cc:211: Only 1 GPUs are visible, setting `gpu_id` to 0\n",
      "[20:58:08] WARNING: C:\\Users\\Administrator\\workspace\\xgboost-win64_release_1.2.0\\src\\learner.cc:211: Only 1 GPUs are visible, setting `gpu_id` to 0\n",
      "[20:58:08] WARNING: C:\\Users\\Administrator\\workspace\\xgboost-win64_release_1.2.0\\src\\learner.cc:211: Only 1 GPUs are visible, setting `gpu_id` to 0\n",
      "[20:58:08] WARNING: C:\\Users\\Administrator\\workspace\\xgboost-win64_release_1.2.0\\src\\learner.cc:211: Only 1 GPUs are visible, setting `gpu_id` to 0\n",
      "[20:58:09] WARNING: C:\\Users\\Administrator\\workspace\\xgboost-win64_release_1.2.0\\src\\learner.cc:211: Only 1 GPUs are visible, setting `gpu_id` to 0\n",
      "[20:58:09] WARNING: C:\\Users\\Administrator\\workspace\\xgboost-win64_release_1.2.0\\src\\learner.cc:211: Only 1 GPUs are visible, setting `gpu_id` to 0\n"
     ]
    }
   ],
   "source": [
    "from sklearn.model_selection import cross_val_score\n",
    "\n",
    "valid_s = []\n",
    "train_s = []\n",
    "\n",
    "\n",
    "for i in range(11):\n",
    "\n",
    "    xgb = XGBClassifier(\n",
    "                        learning_rate = i/10.0,\n",
    "                        gpu_id = 1\n",
    "                       )\n",
    "    tr_s = cross_val_score(xgb, X_train, y_train,cv=5)\n",
    "    v_s = cross_val_score(xgb,X_valid, y_valid,cv=5)\n",
    "    \n",
    "    train_s.append(tr_s.mean())\n",
    "    valid_s.append(v_s.mean())"
   ]
  },
  {
   "cell_type": "code",
   "execution_count": 9,
   "metadata": {},
   "outputs": [
    {
     "data": {
      "text/plain": [
       "<matplotlib.legend.Legend at 0x2278e2e0d08>"
      ]
     },
     "execution_count": 9,
     "metadata": {},
     "output_type": "execute_result"
    },
    {
     "data": {
      "image/png": "[encoded data removed]",
      "text/plain": [
       "<Figure size 432x288 with 1 Axes>"
      ]
     },
     "metadata": {
      "needs_background": "light"
     },
     "output_type": "display_data"
    }
   ],
   "source": [
    "fig, axs = plt.subplots()\n",
    "axs.set_title(\"result\")\n",
    "axs.set_ylabel(\"average accuracy\")\n",
    "axs.set_xlabel(\"learning_rate * 10\")\n",
    "\n",
    "axs.plot(range(11),valid_s,label=\"valid\")\n",
    "axs.plot(range(11),train_s,label=\"train\")\n",
    "axs.legend()"
   ]
  },
  {
   "cell_type": "code",
   "execution_count": 10,
   "metadata": {},
   "outputs": [
    {
     "name": "stdout",
     "output_type": "stream",
     "text": [
      "learning_rate in training data: 0.1 \t error: 0.15095179648099089\n",
      "learning_rate in valid data: 0.1 \t error: 0.15768503029167003\n"
     ]
    }
   ],
   "source": [
    "train_min_learning_rate = train_s.index(max(train_s))\n",
    "valid_min_learning_rate = valid_s.index(max(valid_s))\n",
    "print(f'learning_rate in training data: {train_min_learning_rate/10.0} \\t error: {1.0 - max(train_s)}')\n",
    "print(f'learning_rate in valid data: {valid_min_learning_rate/10.0} \\t error: {1.0 - max(valid_s)}')"
   ]
  },
  {
   "cell_type": "code",
   "execution_count": 11,
   "metadata": {},
   "outputs": [],
   "source": [
    "improved_learning_rate = train_min_learning_rate/10.0"
   ]
  },
  {
   "cell_type": "markdown",
   "metadata": {},
   "source": [
    "## Using K-fold cross-validation to get better max_depth"
   ]
  },
  {
   "cell_type": "code",
   "execution_count": 12,
   "metadata": {
    "scrolled": true
   },
   "outputs": [
    {
     "name": "stdout",
     "output_type": "stream",
     "text": [
      "[20:58:10] WARNING: C:\\Users\\Administrator\\workspace\\xgboost-win64_release_1.2.0\\src\\learner.cc:211: Only 1 GPUs are visible, setting `gpu_id` to 0\n",
      "[20:58:10] WARNING: C:\\Users\\Administrator\\workspace\\xgboost-win64_release_1.2.0\\src\\learner.cc:211: Only 1 GPUs are visible, setting `gpu_id` to 0\n",
      "[20:58:11] WARNING: C:\\Users\\Administrator\\workspace\\xgboost-win64_release_1.2.0\\src\\learner.cc:211: Only 1 GPUs are visible, setting `gpu_id` to 0\n",
      "[20:58:11] WARNING: C:\\Users\\Administrator\\workspace\\xgboost-win64_release_1.2.0\\src\\learner.cc:211: Only 1 GPUs are visible, setting `gpu_id` to 0\n",
      "[20:58:12] WARNING: C:\\Users\\Administrator\\workspace\\xgboost-win64_release_1.2.0\\src\\learner.cc:211: Only 1 GPUs are visible, setting `gpu_id` to 0\n",
      "[20:58:12] WARNING: C:\\Users\\Administrator\\workspace\\xgboost-win64_release_1.2.0\\src\\learner.cc:211: Only 1 GPUs are visible, setting `gpu_id` to 0\n",
      "[20:58:12] WARNING: C:\\Users\\Administrator\\workspace\\xgboost-win64_release_1.2.0\\src\\learner.cc:211: Only 1 GPUs are visible, setting `gpu_id` to 0\n",
      "[20:58:12] WARNING: C:\\Users\\Administrator\\workspace\\xgboost-win64_release_1.2.0\\src\\learner.cc:211: Only 1 GPUs are visible, setting `gpu_id` to 0\n",
      "[20:58:13] WARNING: C:\\Users\\Administrator\\workspace\\xgboost-win64_release_1.2.0\\src\\learner.cc:211: Only 1 GPUs are visible, setting `gpu_id` to 0\n",
      "[20:58:13] WARNING: C:\\Users\\Administrator\\workspace\\xgboost-win64_release_1.2.0\\src\\learner.cc:211: Only 1 GPUs are visible, setting `gpu_id` to 0\n",
      "[20:58:13] WARNING: C:\\Users\\Administrator\\workspace\\xgboost-win64_release_1.2.0\\src\\learner.cc:211: Only 1 GPUs are visible, setting `gpu_id` to 0\n",
      "[20:58:14] WARNING: C:\\Users\\Administrator\\workspace\\xgboost-win64_release_1.2.0\\src\\learner.cc:211: Only 1 GPUs are visible, setting `gpu_id` to 0\n",
      "[20:58:14] WARNING: C:\\Users\\Administrator\\workspace\\xgboost-win64_release_1.2.0\\src\\learner.cc:211: Only 1 GPUs are visible, setting `gpu_id` to 0\n",
      "[20:58:15] WARNING: C:\\Users\\Administrator\\workspace\\xgboost-win64_release_1.2.0\\src\\learner.cc:211: Only 1 GPUs are visible, setting `gpu_id` to 0\n",
      "[20:58:15] WARNING: C:\\Users\\Administrator\\workspace\\xgboost-win64_release_1.2.0\\src\\learner.cc:211: Only 1 GPUs are visible, setting `gpu_id` to 0\n",
      "[20:58:16] WARNING: C:\\Users\\Administrator\\workspace\\xgboost-win64_release_1.2.0\\src\\learner.cc:211: Only 1 GPUs are visible, setting `gpu_id` to 0\n",
      "[20:58:16] WARNING: C:\\Users\\Administrator\\workspace\\xgboost-win64_release_1.2.0\\src\\learner.cc:211: Only 1 GPUs are visible, setting `gpu_id` to 0\n",
      "[20:58:16] WARNING: C:\\Users\\Administrator\\workspace\\xgboost-win64_release_1.2.0\\src\\learner.cc:211: Only 1 GPUs are visible, setting `gpu_id` to 0\n",
      "[20:58:16] WARNING: C:\\Users\\Administrator\\workspace\\xgboost-win64_release_1.2.0\\src\\learner.cc:211: Only 1 GPUs are visible, setting `gpu_id` to 0\n",
      "[20:58:17] WARNING: C:\\Users\\Administrator\\workspace\\xgboost-win64_release_1.2.0\\src\\learner.cc:211: Only 1 GPUs are visible, setting `gpu_id` to 0\n",
      "[20:58:17] WARNING: C:\\Users\\Administrator\\workspace\\xgboost-win64_release_1.2.0\\src\\learner.cc:211: Only 1 GPUs are visible, setting `gpu_id` to 0\n",
      "[20:58:18] WARNING: C:\\Users\\Administrator\\workspace\\xgboost-win64_release_1.2.0\\src\\learner.cc:211: Only 1 GPUs are visible, setting `gpu_id` to 0\n",
      "[20:58:18] WARNING: C:\\Users\\Administrator\\workspace\\xgboost-win64_release_1.2.0\\src\\learner.cc:211: Only 1 GPUs are visible, setting `gpu_id` to 0\n",
      "[20:58:19] WARNING: C:\\Users\\Administrator\\workspace\\xgboost-win64_release_1.2.0\\src\\learner.cc:211: Only 1 GPUs are visible, setting `gpu_id` to 0\n",
      "[20:58:19] WARNING: C:\\Users\\Administrator\\workspace\\xgboost-win64_release_1.2.0\\src\\learner.cc:211: Only 1 GPUs are visible, setting `gpu_id` to 0\n",
      "[20:58:20] WARNING: C:\\Users\\Administrator\\workspace\\xgboost-win64_release_1.2.0\\src\\learner.cc:211: Only 1 GPUs are visible, setting `gpu_id` to 0\n",
      "[20:58:20] WARNING: C:\\Users\\Administrator\\workspace\\xgboost-win64_release_1.2.0\\src\\learner.cc:211: Only 1 GPUs are visible, setting `gpu_id` to 0\n",
      "[20:58:20] WARNING: C:\\Users\\Administrator\\workspace\\xgboost-win64_release_1.2.0\\src\\learner.cc:211: Only 1 GPUs are visible, setting `gpu_id` to 0\n",
      "[20:58:21] WARNING: C:\\Users\\Administrator\\workspace\\xgboost-win64_release_1.2.0\\src\\learner.cc:211: Only 1 GPUs are visible, setting `gpu_id` to 0\n",
      "[20:58:21] WARNING: C:\\Users\\Administrator\\workspace\\xgboost-win64_release_1.2.0\\src\\learner.cc:211: Only 1 GPUs are visible, setting `gpu_id` to 0\n",
      "[20:58:21] WARNING: C:\\Users\\Administrator\\workspace\\xgboost-win64_release_1.2.0\\src\\learner.cc:211: Only 1 GPUs are visible, setting `gpu_id` to 0\n",
      "[20:58:22] WARNING: C:\\Users\\Administrator\\workspace\\xgboost-win64_release_1.2.0\\src\\learner.cc:211: Only 1 GPUs are visible, setting `gpu_id` to 0\n",
      "[20:58:23] WARNING: C:\\Users\\Administrator\\workspace\\xgboost-win64_release_1.2.0\\src\\learner.cc:211: Only 1 GPUs are visible, setting `gpu_id` to 0\n",
      "[20:58:23] WARNING: C:\\Users\\Administrator\\workspace\\xgboost-win64_release_1.2.0\\src\\learner.cc:211: Only 1 GPUs are visible, setting `gpu_id` to 0\n",
      "[20:58:24] WARNING: C:\\Users\\Administrator\\workspace\\xgboost-win64_release_1.2.0\\src\\learner.cc:211: Only 1 GPUs are visible, setting `gpu_id` to 0\n",
      "[20:58:24] WARNING: C:\\Users\\Administrator\\workspace\\xgboost-win64_release_1.2.0\\src\\learner.cc:211: Only 1 GPUs are visible, setting `gpu_id` to 0\n",
      "[20:58:25] WARNING: C:\\Users\\Administrator\\workspace\\xgboost-win64_release_1.2.0\\src\\learner.cc:211: Only 1 GPUs are visible, setting `gpu_id` to 0\n",
      "[20:58:25] WARNING: C:\\Users\\Administrator\\workspace\\xgboost-win64_release_1.2.0\\src\\learner.cc:211: Only 1 GPUs are visible, setting `gpu_id` to 0\n",
      "[20:58:25] WARNING: C:\\Users\\Administrator\\workspace\\xgboost-win64_release_1.2.0\\src\\learner.cc:211: Only 1 GPUs are visible, setting `gpu_id` to 0\n",
      "[20:58:25] WARNING: C:\\Users\\Administrator\\workspace\\xgboost-win64_release_1.2.0\\src\\learner.cc:211: Only 1 GPUs are visible, setting `gpu_id` to 0\n",
      "[20:58:26] WARNING: C:\\Users\\Administrator\\workspace\\xgboost-win64_release_1.2.0\\src\\learner.cc:211: Only 1 GPUs are visible, setting `gpu_id` to 0\n",
      "[20:58:27] WARNING: C:\\Users\\Administrator\\workspace\\xgboost-win64_release_1.2.0\\src\\learner.cc:211: Only 1 GPUs are visible, setting `gpu_id` to 0\n",
      "[20:58:27] WARNING: C:\\Users\\Administrator\\workspace\\xgboost-win64_release_1.2.0\\src\\learner.cc:211: Only 1 GPUs are visible, setting `gpu_id` to 0\n",
      "[20:58:28] WARNING: C:\\Users\\Administrator\\workspace\\xgboost-win64_release_1.2.0\\src\\learner.cc:211: Only 1 GPUs are visible, setting `gpu_id` to 0\n",
      "[20:58:29] WARNING: C:\\Users\\Administrator\\workspace\\xgboost-win64_release_1.2.0\\src\\learner.cc:211: Only 1 GPUs are visible, setting `gpu_id` to 0\n",
      "[20:58:30] WARNING: C:\\Users\\Administrator\\workspace\\xgboost-win64_release_1.2.0\\src\\learner.cc:211: Only 1 GPUs are visible, setting `gpu_id` to 0\n",
      "[20:58:30] WARNING: C:\\Users\\Administrator\\workspace\\xgboost-win64_release_1.2.0\\src\\learner.cc:211: Only 1 GPUs are visible, setting `gpu_id` to 0\n",
      "[20:58:30] WARNING: C:\\Users\\Administrator\\workspace\\xgboost-win64_release_1.2.0\\src\\learner.cc:211: Only 1 GPUs are visible, setting `gpu_id` to 0\n",
      "[20:58:30] WARNING: C:\\Users\\Administrator\\workspace\\xgboost-win64_release_1.2.0\\src\\learner.cc:211: Only 1 GPUs are visible, setting `gpu_id` to 0\n",
      "[20:58:31] WARNING: C:\\Users\\Administrator\\workspace\\xgboost-win64_release_1.2.0\\src\\learner.cc:211: Only 1 GPUs are visible, setting `gpu_id` to 0\n",
      "[20:58:31] WARNING: C:\\Users\\Administrator\\workspace\\xgboost-win64_release_1.2.0\\src\\learner.cc:211: Only 1 GPUs are visible, setting `gpu_id` to 0\n",
      "[20:58:32] WARNING: C:\\Users\\Administrator\\workspace\\xgboost-win64_release_1.2.0\\src\\learner.cc:211: Only 1 GPUs are visible, setting `gpu_id` to 0\n",
      "[20:58:33] WARNING: C:\\Users\\Administrator\\workspace\\xgboost-win64_release_1.2.0\\src\\learner.cc:211: Only 1 GPUs are visible, setting `gpu_id` to 0\n",
      "[20:58:34] WARNING: C:\\Users\\Administrator\\workspace\\xgboost-win64_release_1.2.0\\src\\learner.cc:211: Only 1 GPUs are visible, setting `gpu_id` to 0\n",
      "[20:58:34] WARNING: C:\\Users\\Administrator\\workspace\\xgboost-win64_release_1.2.0\\src\\learner.cc:211: Only 1 GPUs are visible, setting `gpu_id` to 0\n",
      "[20:58:35] WARNING: C:\\Users\\Administrator\\workspace\\xgboost-win64_release_1.2.0\\src\\learner.cc:211: Only 1 GPUs are visible, setting `gpu_id` to 0\n"
     ]
    },
    {
     "name": "stdout",
     "output_type": "stream",
     "text": [
      "[20:58:36] WARNING: C:\\Users\\Administrator\\workspace\\xgboost-win64_release_1.2.0\\src\\learner.cc:211: Only 1 GPUs are visible, setting `gpu_id` to 0\n",
      "[20:58:36] WARNING: C:\\Users\\Administrator\\workspace\\xgboost-win64_release_1.2.0\\src\\learner.cc:211: Only 1 GPUs are visible, setting `gpu_id` to 0\n",
      "[20:58:36] WARNING: C:\\Users\\Administrator\\workspace\\xgboost-win64_release_1.2.0\\src\\learner.cc:211: Only 1 GPUs are visible, setting `gpu_id` to 0\n",
      "[20:58:37] WARNING: C:\\Users\\Administrator\\workspace\\xgboost-win64_release_1.2.0\\src\\learner.cc:211: Only 1 GPUs are visible, setting `gpu_id` to 0\n",
      "[20:58:37] WARNING: C:\\Users\\Administrator\\workspace\\xgboost-win64_release_1.2.0\\src\\learner.cc:211: Only 1 GPUs are visible, setting `gpu_id` to 0\n",
      "[20:58:38] WARNING: C:\\Users\\Administrator\\workspace\\xgboost-win64_release_1.2.0\\src\\learner.cc:211: Only 1 GPUs are visible, setting `gpu_id` to 0\n",
      "[20:58:39] WARNING: C:\\Users\\Administrator\\workspace\\xgboost-win64_release_1.2.0\\src\\learner.cc:211: Only 1 GPUs are visible, setting `gpu_id` to 0\n",
      "[20:58:40] WARNING: C:\\Users\\Administrator\\workspace\\xgboost-win64_release_1.2.0\\src\\learner.cc:211: Only 1 GPUs are visible, setting `gpu_id` to 0\n",
      "[20:58:41] WARNING: C:\\Users\\Administrator\\workspace\\xgboost-win64_release_1.2.0\\src\\learner.cc:211: Only 1 GPUs are visible, setting `gpu_id` to 0\n",
      "[20:58:41] WARNING: C:\\Users\\Administrator\\workspace\\xgboost-win64_release_1.2.0\\src\\learner.cc:211: Only 1 GPUs are visible, setting `gpu_id` to 0\n",
      "[20:58:42] WARNING: C:\\Users\\Administrator\\workspace\\xgboost-win64_release_1.2.0\\src\\learner.cc:211: Only 1 GPUs are visible, setting `gpu_id` to 0\n",
      "[20:58:42] WARNING: C:\\Users\\Administrator\\workspace\\xgboost-win64_release_1.2.0\\src\\learner.cc:211: Only 1 GPUs are visible, setting `gpu_id` to 0\n",
      "[20:58:42] WARNING: C:\\Users\\Administrator\\workspace\\xgboost-win64_release_1.2.0\\src\\learner.cc:211: Only 1 GPUs are visible, setting `gpu_id` to 0\n",
      "[20:58:43] WARNING: C:\\Users\\Administrator\\workspace\\xgboost-win64_release_1.2.0\\src\\learner.cc:211: Only 1 GPUs are visible, setting `gpu_id` to 0\n",
      "[20:58:43] WARNING: C:\\Users\\Administrator\\workspace\\xgboost-win64_release_1.2.0\\src\\learner.cc:211: Only 1 GPUs are visible, setting `gpu_id` to 0\n",
      "[20:58:44] WARNING: C:\\Users\\Administrator\\workspace\\xgboost-win64_release_1.2.0\\src\\learner.cc:211: Only 1 GPUs are visible, setting `gpu_id` to 0\n",
      "[20:58:45] WARNING: C:\\Users\\Administrator\\workspace\\xgboost-win64_release_1.2.0\\src\\learner.cc:211: Only 1 GPUs are visible, setting `gpu_id` to 0\n",
      "[20:58:46] WARNING: C:\\Users\\Administrator\\workspace\\xgboost-win64_release_1.2.0\\src\\learner.cc:211: Only 1 GPUs are visible, setting `gpu_id` to 0\n",
      "[20:58:47] WARNING: C:\\Users\\Administrator\\workspace\\xgboost-win64_release_1.2.0\\src\\learner.cc:211: Only 1 GPUs are visible, setting `gpu_id` to 0\n",
      "[20:58:48] WARNING: C:\\Users\\Administrator\\workspace\\xgboost-win64_release_1.2.0\\src\\learner.cc:211: Only 1 GPUs are visible, setting `gpu_id` to 0\n",
      "[20:58:48] WARNING: C:\\Users\\Administrator\\workspace\\xgboost-win64_release_1.2.0\\src\\learner.cc:211: Only 1 GPUs are visible, setting `gpu_id` to 0\n",
      "[20:58:49] WARNING: C:\\Users\\Administrator\\workspace\\xgboost-win64_release_1.2.0\\src\\learner.cc:211: Only 1 GPUs are visible, setting `gpu_id` to 0\n",
      "[20:58:49] WARNING: C:\\Users\\Administrator\\workspace\\xgboost-win64_release_1.2.0\\src\\learner.cc:211: Only 1 GPUs are visible, setting `gpu_id` to 0\n",
      "[20:58:49] WARNING: C:\\Users\\Administrator\\workspace\\xgboost-win64_release_1.2.0\\src\\learner.cc:211: Only 1 GPUs are visible, setting `gpu_id` to 0\n",
      "[20:58:50] WARNING: C:\\Users\\Administrator\\workspace\\xgboost-win64_release_1.2.0\\src\\learner.cc:211: Only 1 GPUs are visible, setting `gpu_id` to 0\n",
      "[20:58:51] WARNING: C:\\Users\\Administrator\\workspace\\xgboost-win64_release_1.2.0\\src\\learner.cc:211: Only 1 GPUs are visible, setting `gpu_id` to 0\n",
      "[20:58:52] WARNING: C:\\Users\\Administrator\\workspace\\xgboost-win64_release_1.2.0\\src\\learner.cc:211: Only 1 GPUs are visible, setting `gpu_id` to 0\n",
      "[20:58:53] WARNING: C:\\Users\\Administrator\\workspace\\xgboost-win64_release_1.2.0\\src\\learner.cc:211: Only 1 GPUs are visible, setting `gpu_id` to 0\n",
      "[20:58:54] WARNING: C:\\Users\\Administrator\\workspace\\xgboost-win64_release_1.2.0\\src\\learner.cc:211: Only 1 GPUs are visible, setting `gpu_id` to 0\n",
      "[20:58:55] WARNING: C:\\Users\\Administrator\\workspace\\xgboost-win64_release_1.2.0\\src\\learner.cc:211: Only 1 GPUs are visible, setting `gpu_id` to 0\n",
      "[20:58:55] WARNING: C:\\Users\\Administrator\\workspace\\xgboost-win64_release_1.2.0\\src\\learner.cc:211: Only 1 GPUs are visible, setting `gpu_id` to 0\n",
      "[20:58:56] WARNING: C:\\Users\\Administrator\\workspace\\xgboost-win64_release_1.2.0\\src\\learner.cc:211: Only 1 GPUs are visible, setting `gpu_id` to 0\n",
      "[20:58:56] WARNING: C:\\Users\\Administrator\\workspace\\xgboost-win64_release_1.2.0\\src\\learner.cc:211: Only 1 GPUs are visible, setting `gpu_id` to 0\n",
      "[20:58:56] WARNING: C:\\Users\\Administrator\\workspace\\xgboost-win64_release_1.2.0\\src\\learner.cc:211: Only 1 GPUs are visible, setting `gpu_id` to 0\n",
      "[20:58:57] WARNING: C:\\Users\\Administrator\\workspace\\xgboost-win64_release_1.2.0\\src\\learner.cc:211: Only 1 GPUs are visible, setting `gpu_id` to 0\n",
      "[20:58:58] WARNING: C:\\Users\\Administrator\\workspace\\xgboost-win64_release_1.2.0\\src\\learner.cc:211: Only 1 GPUs are visible, setting `gpu_id` to 0\n",
      "[20:58:59] WARNING: C:\\Users\\Administrator\\workspace\\xgboost-win64_release_1.2.0\\src\\learner.cc:211: Only 1 GPUs are visible, setting `gpu_id` to 0\n",
      "[20:59:01] WARNING: C:\\Users\\Administrator\\workspace\\xgboost-win64_release_1.2.0\\src\\learner.cc:211: Only 1 GPUs are visible, setting `gpu_id` to 0\n",
      "[20:59:02] WARNING: C:\\Users\\Administrator\\workspace\\xgboost-win64_release_1.2.0\\src\\learner.cc:211: Only 1 GPUs are visible, setting `gpu_id` to 0\n",
      "[20:59:03] WARNING: C:\\Users\\Administrator\\workspace\\xgboost-win64_release_1.2.0\\src\\learner.cc:211: Only 1 GPUs are visible, setting `gpu_id` to 0\n",
      "[20:59:03] WARNING: C:\\Users\\Administrator\\workspace\\xgboost-win64_release_1.2.0\\src\\learner.cc:211: Only 1 GPUs are visible, setting `gpu_id` to 0\n",
      "[20:59:04] WARNING: C:\\Users\\Administrator\\workspace\\xgboost-win64_release_1.2.0\\src\\learner.cc:211: Only 1 GPUs are visible, setting `gpu_id` to 0\n",
      "[20:59:04] WARNING: C:\\Users\\Administrator\\workspace\\xgboost-win64_release_1.2.0\\src\\learner.cc:211: Only 1 GPUs are visible, setting `gpu_id` to 0\n",
      "[20:59:05] WARNING: C:\\Users\\Administrator\\workspace\\xgboost-win64_release_1.2.0\\src\\learner.cc:211: Only 1 GPUs are visible, setting `gpu_id` to 0\n",
      "[20:59:05] WARNING: C:\\Users\\Administrator\\workspace\\xgboost-win64_release_1.2.0\\src\\learner.cc:211: Only 1 GPUs are visible, setting `gpu_id` to 0\n",
      "[20:59:06] WARNING: C:\\Users\\Administrator\\workspace\\xgboost-win64_release_1.2.0\\src\\learner.cc:211: Only 1 GPUs are visible, setting `gpu_id` to 0\n",
      "[20:59:08] WARNING: C:\\Users\\Administrator\\workspace\\xgboost-win64_release_1.2.0\\src\\learner.cc:211: Only 1 GPUs are visible, setting `gpu_id` to 0\n",
      "[20:59:09] WARNING: C:\\Users\\Administrator\\workspace\\xgboost-win64_release_1.2.0\\src\\learner.cc:211: Only 1 GPUs are visible, setting `gpu_id` to 0\n",
      "[20:59:10] WARNING: C:\\Users\\Administrator\\workspace\\xgboost-win64_release_1.2.0\\src\\learner.cc:211: Only 1 GPUs are visible, setting `gpu_id` to 0\n",
      "[20:59:11] WARNING: C:\\Users\\Administrator\\workspace\\xgboost-win64_release_1.2.0\\src\\learner.cc:211: Only 1 GPUs are visible, setting `gpu_id` to 0\n",
      "[20:59:11] WARNING: C:\\Users\\Administrator\\workspace\\xgboost-win64_release_1.2.0\\src\\learner.cc:211: Only 1 GPUs are visible, setting `gpu_id` to 0\n",
      "[20:59:12] WARNING: C:\\Users\\Administrator\\workspace\\xgboost-win64_release_1.2.0\\src\\learner.cc:211: Only 1 GPUs are visible, setting `gpu_id` to 0\n",
      "[20:59:12] WARNING: C:\\Users\\Administrator\\workspace\\xgboost-win64_release_1.2.0\\src\\learner.cc:211: Only 1 GPUs are visible, setting `gpu_id` to 0\n",
      "[20:59:13] WARNING: C:\\Users\\Administrator\\workspace\\xgboost-win64_release_1.2.0\\src\\learner.cc:211: Only 1 GPUs are visible, setting `gpu_id` to 0\n",
      "[20:59:13] WARNING: C:\\Users\\Administrator\\workspace\\xgboost-win64_release_1.2.0\\src\\learner.cc:211: Only 1 GPUs are visible, setting `gpu_id` to 0\n",
      "[20:59:15] WARNING: C:\\Users\\Administrator\\workspace\\xgboost-win64_release_1.2.0\\src\\learner.cc:211: Only 1 GPUs are visible, setting `gpu_id` to 0\n"
     ]
    },
    {
     "name": "stdout",
     "output_type": "stream",
     "text": [
      "[20:59:16] WARNING: C:\\Users\\Administrator\\workspace\\xgboost-win64_release_1.2.0\\src\\learner.cc:211: Only 1 GPUs are visible, setting `gpu_id` to 0\n",
      "[20:59:17] WARNING: C:\\Users\\Administrator\\workspace\\xgboost-win64_release_1.2.0\\src\\learner.cc:211: Only 1 GPUs are visible, setting `gpu_id` to 0\n",
      "[20:59:18] WARNING: C:\\Users\\Administrator\\workspace\\xgboost-win64_release_1.2.0\\src\\learner.cc:211: Only 1 GPUs are visible, setting `gpu_id` to 0\n",
      "[20:59:20] WARNING: C:\\Users\\Administrator\\workspace\\xgboost-win64_release_1.2.0\\src\\learner.cc:211: Only 1 GPUs are visible, setting `gpu_id` to 0\n",
      "[20:59:20] WARNING: C:\\Users\\Administrator\\workspace\\xgboost-win64_release_1.2.0\\src\\learner.cc:211: Only 1 GPUs are visible, setting `gpu_id` to 0\n",
      "[20:59:20] WARNING: C:\\Users\\Administrator\\workspace\\xgboost-win64_release_1.2.0\\src\\learner.cc:211: Only 1 GPUs are visible, setting `gpu_id` to 0\n",
      "[20:59:21] WARNING: C:\\Users\\Administrator\\workspace\\xgboost-win64_release_1.2.0\\src\\learner.cc:211: Only 1 GPUs are visible, setting `gpu_id` to 0\n",
      "[20:59:21] WARNING: C:\\Users\\Administrator\\workspace\\xgboost-win64_release_1.2.0\\src\\learner.cc:211: Only 1 GPUs are visible, setting `gpu_id` to 0\n",
      "[20:59:22] WARNING: C:\\Users\\Administrator\\workspace\\xgboost-win64_release_1.2.0\\src\\learner.cc:211: Only 1 GPUs are visible, setting `gpu_id` to 0\n",
      "[20:59:23] WARNING: C:\\Users\\Administrator\\workspace\\xgboost-win64_release_1.2.0\\src\\learner.cc:211: Only 1 GPUs are visible, setting `gpu_id` to 0\n",
      "[20:59:25] WARNING: C:\\Users\\Administrator\\workspace\\xgboost-win64_release_1.2.0\\src\\learner.cc:211: Only 1 GPUs are visible, setting `gpu_id` to 0\n",
      "[20:59:26] WARNING: C:\\Users\\Administrator\\workspace\\xgboost-win64_release_1.2.0\\src\\learner.cc:211: Only 1 GPUs are visible, setting `gpu_id` to 0\n",
      "[20:59:28] WARNING: C:\\Users\\Administrator\\workspace\\xgboost-win64_release_1.2.0\\src\\learner.cc:211: Only 1 GPUs are visible, setting `gpu_id` to 0\n",
      "[20:59:29] WARNING: C:\\Users\\Administrator\\workspace\\xgboost-win64_release_1.2.0\\src\\learner.cc:211: Only 1 GPUs are visible, setting `gpu_id` to 0\n",
      "[20:59:29] WARNING: C:\\Users\\Administrator\\workspace\\xgboost-win64_release_1.2.0\\src\\learner.cc:211: Only 1 GPUs are visible, setting `gpu_id` to 0\n",
      "[20:59:30] WARNING: C:\\Users\\Administrator\\workspace\\xgboost-win64_release_1.2.0\\src\\learner.cc:211: Only 1 GPUs are visible, setting `gpu_id` to 0\n",
      "[20:59:30] WARNING: C:\\Users\\Administrator\\workspace\\xgboost-win64_release_1.2.0\\src\\learner.cc:211: Only 1 GPUs are visible, setting `gpu_id` to 0\n",
      "[20:59:31] WARNING: C:\\Users\\Administrator\\workspace\\xgboost-win64_release_1.2.0\\src\\learner.cc:211: Only 1 GPUs are visible, setting `gpu_id` to 0\n",
      "[20:59:31] WARNING: C:\\Users\\Administrator\\workspace\\xgboost-win64_release_1.2.0\\src\\learner.cc:211: Only 1 GPUs are visible, setting `gpu_id` to 0\n",
      "[20:59:33] WARNING: C:\\Users\\Administrator\\workspace\\xgboost-win64_release_1.2.0\\src\\learner.cc:211: Only 1 GPUs are visible, setting `gpu_id` to 0\n",
      "[20:59:34] WARNING: C:\\Users\\Administrator\\workspace\\xgboost-win64_release_1.2.0\\src\\learner.cc:211: Only 1 GPUs are visible, setting `gpu_id` to 0\n",
      "[20:59:36] WARNING: C:\\Users\\Administrator\\workspace\\xgboost-win64_release_1.2.0\\src\\learner.cc:211: Only 1 GPUs are visible, setting `gpu_id` to 0\n",
      "[20:59:38] WARNING: C:\\Users\\Administrator\\workspace\\xgboost-win64_release_1.2.0\\src\\learner.cc:211: Only 1 GPUs are visible, setting `gpu_id` to 0\n",
      "[20:59:39] WARNING: C:\\Users\\Administrator\\workspace\\xgboost-win64_release_1.2.0\\src\\learner.cc:211: Only 1 GPUs are visible, setting `gpu_id` to 0\n",
      "[20:59:39] WARNING: C:\\Users\\Administrator\\workspace\\xgboost-win64_release_1.2.0\\src\\learner.cc:211: Only 1 GPUs are visible, setting `gpu_id` to 0\n",
      "[20:59:40] WARNING: C:\\Users\\Administrator\\workspace\\xgboost-win64_release_1.2.0\\src\\learner.cc:211: Only 1 GPUs are visible, setting `gpu_id` to 0\n",
      "[20:59:40] WARNING: C:\\Users\\Administrator\\workspace\\xgboost-win64_release_1.2.0\\src\\learner.cc:211: Only 1 GPUs are visible, setting `gpu_id` to 0\n",
      "[20:59:41] WARNING: C:\\Users\\Administrator\\workspace\\xgboost-win64_release_1.2.0\\src\\learner.cc:211: Only 1 GPUs are visible, setting `gpu_id` to 0\n",
      "[20:59:42] WARNING: C:\\Users\\Administrator\\workspace\\xgboost-win64_release_1.2.0\\src\\learner.cc:211: Only 1 GPUs are visible, setting `gpu_id` to 0\n",
      "[20:59:43] WARNING: C:\\Users\\Administrator\\workspace\\xgboost-win64_release_1.2.0\\src\\learner.cc:211: Only 1 GPUs are visible, setting `gpu_id` to 0\n",
      "[20:59:45] WARNING: C:\\Users\\Administrator\\workspace\\xgboost-win64_release_1.2.0\\src\\learner.cc:211: Only 1 GPUs are visible, setting `gpu_id` to 0\n",
      "[20:59:46] WARNING: C:\\Users\\Administrator\\workspace\\xgboost-win64_release_1.2.0\\src\\learner.cc:211: Only 1 GPUs are visible, setting `gpu_id` to 0\n",
      "[20:59:48] WARNING: C:\\Users\\Administrator\\workspace\\xgboost-win64_release_1.2.0\\src\\learner.cc:211: Only 1 GPUs are visible, setting `gpu_id` to 0\n",
      "[20:59:50] WARNING: C:\\Users\\Administrator\\workspace\\xgboost-win64_release_1.2.0\\src\\learner.cc:211: Only 1 GPUs are visible, setting `gpu_id` to 0\n",
      "[20:59:50] WARNING: C:\\Users\\Administrator\\workspace\\xgboost-win64_release_1.2.0\\src\\learner.cc:211: Only 1 GPUs are visible, setting `gpu_id` to 0\n",
      "[20:59:51] WARNING: C:\\Users\\Administrator\\workspace\\xgboost-win64_release_1.2.0\\src\\learner.cc:211: Only 1 GPUs are visible, setting `gpu_id` to 0\n",
      "[20:59:51] WARNING: C:\\Users\\Administrator\\workspace\\xgboost-win64_release_1.2.0\\src\\learner.cc:211: Only 1 GPUs are visible, setting `gpu_id` to 0\n",
      "[20:59:52] WARNING: C:\\Users\\Administrator\\workspace\\xgboost-win64_release_1.2.0\\src\\learner.cc:211: Only 1 GPUs are visible, setting `gpu_id` to 0\n",
      "[20:59:53] WARNING: C:\\Users\\Administrator\\workspace\\xgboost-win64_release_1.2.0\\src\\learner.cc:211: Only 1 GPUs are visible, setting `gpu_id` to 0\n",
      "[20:59:54] WARNING: C:\\Users\\Administrator\\workspace\\xgboost-win64_release_1.2.0\\src\\learner.cc:211: Only 1 GPUs are visible, setting `gpu_id` to 0\n",
      "[20:59:56] WARNING: C:\\Users\\Administrator\\workspace\\xgboost-win64_release_1.2.0\\src\\learner.cc:211: Only 1 GPUs are visible, setting `gpu_id` to 0\n",
      "[20:59:58] WARNING: C:\\Users\\Administrator\\workspace\\xgboost-win64_release_1.2.0\\src\\learner.cc:211: Only 1 GPUs are visible, setting `gpu_id` to 0\n",
      "[21:00:00] WARNING: C:\\Users\\Administrator\\workspace\\xgboost-win64_release_1.2.0\\src\\learner.cc:211: Only 1 GPUs are visible, setting `gpu_id` to 0\n",
      "[21:00:02] WARNING: C:\\Users\\Administrator\\workspace\\xgboost-win64_release_1.2.0\\src\\learner.cc:211: Only 1 GPUs are visible, setting `gpu_id` to 0\n",
      "[21:00:02] WARNING: C:\\Users\\Administrator\\workspace\\xgboost-win64_release_1.2.0\\src\\learner.cc:211: Only 1 GPUs are visible, setting `gpu_id` to 0\n",
      "[21:00:03] WARNING: C:\\Users\\Administrator\\workspace\\xgboost-win64_release_1.2.0\\src\\learner.cc:211: Only 1 GPUs are visible, setting `gpu_id` to 0\n",
      "[21:00:03] WARNING: C:\\Users\\Administrator\\workspace\\xgboost-win64_release_1.2.0\\src\\learner.cc:211: Only 1 GPUs are visible, setting `gpu_id` to 0\n",
      "[21:00:04] WARNING: C:\\Users\\Administrator\\workspace\\xgboost-win64_release_1.2.0\\src\\learner.cc:211: Only 1 GPUs are visible, setting `gpu_id` to 0\n",
      "[21:00:04] WARNING: C:\\Users\\Administrator\\workspace\\xgboost-win64_release_1.2.0\\src\\learner.cc:211: Only 1 GPUs are visible, setting `gpu_id` to 0\n",
      "[21:00:06] WARNING: C:\\Users\\Administrator\\workspace\\xgboost-win64_release_1.2.0\\src\\learner.cc:211: Only 1 GPUs are visible, setting `gpu_id` to 0\n",
      "[21:00:08] WARNING: C:\\Users\\Administrator\\workspace\\xgboost-win64_release_1.2.0\\src\\learner.cc:211: Only 1 GPUs are visible, setting `gpu_id` to 0\n",
      "[21:00:10] WARNING: C:\\Users\\Administrator\\workspace\\xgboost-win64_release_1.2.0\\src\\learner.cc:211: Only 1 GPUs are visible, setting `gpu_id` to 0\n",
      "[21:00:12] WARNING: C:\\Users\\Administrator\\workspace\\xgboost-win64_release_1.2.0\\src\\learner.cc:211: Only 1 GPUs are visible, setting `gpu_id` to 0\n",
      "[21:00:14] WARNING: C:\\Users\\Administrator\\workspace\\xgboost-win64_release_1.2.0\\src\\learner.cc:211: Only 1 GPUs are visible, setting `gpu_id` to 0\n",
      "[21:00:14] WARNING: C:\\Users\\Administrator\\workspace\\xgboost-win64_release_1.2.0\\src\\learner.cc:211: Only 1 GPUs are visible, setting `gpu_id` to 0\n",
      "[21:00:15] WARNING: C:\\Users\\Administrator\\workspace\\xgboost-win64_release_1.2.0\\src\\learner.cc:211: Only 1 GPUs are visible, setting `gpu_id` to 0\n"
     ]
    },
    {
     "name": "stdout",
     "output_type": "stream",
     "text": [
      "[21:00:15] WARNING: C:\\Users\\Administrator\\workspace\\xgboost-win64_release_1.2.0\\src\\learner.cc:211: Only 1 GPUs are visible, setting `gpu_id` to 0\n",
      "[21:00:16] WARNING: C:\\Users\\Administrator\\workspace\\xgboost-win64_release_1.2.0\\src\\learner.cc:211: Only 1 GPUs are visible, setting `gpu_id` to 0\n"
     ]
    }
   ],
   "source": [
    "valid_s = []\n",
    "train_s = []\n",
    "\n",
    "\n",
    "for i in range(3, 20):\n",
    "\n",
    "    xgb = XGBClassifier(\n",
    "                        max_depth = i,\n",
    "                        gpu_id = 1\n",
    "                       )\n",
    "    tr_s = cross_val_score(xgb, X_train, y_train,cv=5)\n",
    "    v_s = cross_val_score(xgb,X_valid, y_valid,cv=5)\n",
    "    \n",
    "    train_s.append(tr_s.mean())\n",
    "    valid_s.append(v_s.mean())"
   ]
  },
  {
   "cell_type": "code",
   "execution_count": 13,
   "metadata": {},
   "outputs": [
    {
     "data": {
      "text/plain": [
       "<matplotlib.legend.Legend at 0x2278e090dc8>"
      ]
     },
     "execution_count": 13,
     "metadata": {},
     "output_type": "execute_result"
    },
    {
     "data": {
      "image/png": "[encoded data removed]",
      "text/plain": [
       "<Figure size 432x288 with 1 Axes>"
      ]
     },
     "metadata": {
      "needs_background": "light"
     },
     "output_type": "display_data"
    }
   ],
   "source": [
    "fig, axs = plt.subplots()\n",
    "axs.set_title(\"result\")\n",
    "axs.set_ylabel(\"average accuracy\")\n",
    "axs.set_xlabel(\"max_depth\")\n",
    "\n",
    "axs.plot(range(3, 20),valid_s,label=\"valid\")\n",
    "axs.plot(range(3, 20),train_s,label=\"train\")\n",
    "axs.legend()"
   ]
  },
  {
   "cell_type": "code",
   "execution_count": 14,
   "metadata": {},
   "outputs": [
    {
     "name": "stdout",
     "output_type": "stream",
     "text": [
      "[0.8492017912302237, 0.8488179067014163, 0.8496241445394415, 0.8470902678775735, 0.8453243518802722, 0.8438653312644695, 0.8404486992651504, 0.8386825769219006, 0.8378381798223877, 0.8344211277616733, 0.8329624756207789, 0.8323483016438772, 0.8292385650260566, 0.8270120038070827, 0.8262441979019777, 0.8256300091860794, 0.8252842986577564]\n"
     ]
    }
   ],
   "source": [
    "print(train_s)"
   ]
  },
  {
   "cell_type": "code",
   "execution_count": 15,
   "metadata": {},
   "outputs": [
    {
     "name": "stdout",
     "output_type": "stream",
     "text": [
      "max_depth in training data: 5 \t error: 0.15037585546055854\n",
      "max_depth in valid data: 3 \t error: 0.15200417799878108\n"
     ]
    }
   ],
   "source": [
    "train_max_depth = train_s.index(max(train_s))\n",
    "valid_max_depth = valid_s.index(max(valid_s))\n",
    "print(f'max_depth in training data: {train_max_depth+3} \\t error: {1.0 -max(train_s)}')\n",
    "print(f'max_depth in valid data: {valid_max_depth+3} \\t error: {1.0 - max(valid_s)}')"
   ]
  },
  {
   "cell_type": "code",
   "execution_count": 16,
   "metadata": {},
   "outputs": [],
   "source": [
    "improved_max_depth = train_max_depth+3"
   ]
  },
  {
   "cell_type": "markdown",
   "metadata": {},
   "source": [
    "## Using K-fold cross-validation to get better reg_lambda"
   ]
  },
  {
   "cell_type": "code",
   "execution_count": 17,
   "metadata": {
    "scrolled": true
   },
   "outputs": [
    {
     "name": "stdout",
     "output_type": "stream",
     "text": [
      "[21:00:17] WARNING: C:\\Users\\Administrator\\workspace\\xgboost-win64_release_1.2.0\\src\\learner.cc:211: Only 1 GPUs are visible, setting `gpu_id` to 0\n",
      "[21:00:18] WARNING: C:\\Users\\Administrator\\workspace\\xgboost-win64_release_1.2.0\\src\\learner.cc:211: Only 1 GPUs are visible, setting `gpu_id` to 0\n",
      "[21:00:18] WARNING: C:\\Users\\Administrator\\workspace\\xgboost-win64_release_1.2.0\\src\\learner.cc:211: Only 1 GPUs are visible, setting `gpu_id` to 0\n",
      "[21:00:19] WARNING: C:\\Users\\Administrator\\workspace\\xgboost-win64_release_1.2.0\\src\\learner.cc:211: Only 1 GPUs are visible, setting `gpu_id` to 0\n",
      "[21:00:20] WARNING: C:\\Users\\Administrator\\workspace\\xgboost-win64_release_1.2.0\\src\\learner.cc:211: Only 1 GPUs are visible, setting `gpu_id` to 0\n",
      "[21:00:20] WARNING: C:\\Users\\Administrator\\workspace\\xgboost-win64_release_1.2.0\\src\\learner.cc:211: Only 1 GPUs are visible, setting `gpu_id` to 0\n",
      "[21:00:21] WARNING: C:\\Users\\Administrator\\workspace\\xgboost-win64_release_1.2.0\\src\\learner.cc:211: Only 1 GPUs are visible, setting `gpu_id` to 0\n",
      "[21:00:21] WARNING: C:\\Users\\Administrator\\workspace\\xgboost-win64_release_1.2.0\\src\\learner.cc:211: Only 1 GPUs are visible, setting `gpu_id` to 0\n",
      "[21:00:21] WARNING: C:\\Users\\Administrator\\workspace\\xgboost-win64_release_1.2.0\\src\\learner.cc:211: Only 1 GPUs are visible, setting `gpu_id` to 0\n",
      "[21:00:21] WARNING: C:\\Users\\Administrator\\workspace\\xgboost-win64_release_1.2.0\\src\\learner.cc:211: Only 1 GPUs are visible, setting `gpu_id` to 0\n",
      "[21:00:22] WARNING: C:\\Users\\Administrator\\workspace\\xgboost-win64_release_1.2.0\\src\\learner.cc:211: Only 1 GPUs are visible, setting `gpu_id` to 0\n",
      "[21:00:22] WARNING: C:\\Users\\Administrator\\workspace\\xgboost-win64_release_1.2.0\\src\\learner.cc:211: Only 1 GPUs are visible, setting `gpu_id` to 0\n",
      "[21:00:23] WARNING: C:\\Users\\Administrator\\workspace\\xgboost-win64_release_1.2.0\\src\\learner.cc:211: Only 1 GPUs are visible, setting `gpu_id` to 0\n",
      "[21:00:24] WARNING: C:\\Users\\Administrator\\workspace\\xgboost-win64_release_1.2.0\\src\\learner.cc:211: Only 1 GPUs are visible, setting `gpu_id` to 0\n",
      "[21:00:25] WARNING: C:\\Users\\Administrator\\workspace\\xgboost-win64_release_1.2.0\\src\\learner.cc:211: Only 1 GPUs are visible, setting `gpu_id` to 0\n",
      "[21:00:25] WARNING: C:\\Users\\Administrator\\workspace\\xgboost-win64_release_1.2.0\\src\\learner.cc:211: Only 1 GPUs are visible, setting `gpu_id` to 0\n",
      "[21:00:26] WARNING: C:\\Users\\Administrator\\workspace\\xgboost-win64_release_1.2.0\\src\\learner.cc:211: Only 1 GPUs are visible, setting `gpu_id` to 0\n",
      "[21:00:26] WARNING: C:\\Users\\Administrator\\workspace\\xgboost-win64_release_1.2.0\\src\\learner.cc:211: Only 1 GPUs are visible, setting `gpu_id` to 0\n",
      "[21:00:26] WARNING: C:\\Users\\Administrator\\workspace\\xgboost-win64_release_1.2.0\\src\\learner.cc:211: Only 1 GPUs are visible, setting `gpu_id` to 0\n",
      "[21:00:26] WARNING: C:\\Users\\Administrator\\workspace\\xgboost-win64_release_1.2.0\\src\\learner.cc:211: Only 1 GPUs are visible, setting `gpu_id` to 0\n",
      "[21:00:27] WARNING: C:\\Users\\Administrator\\workspace\\xgboost-win64_release_1.2.0\\src\\learner.cc:211: Only 1 GPUs are visible, setting `gpu_id` to 0\n",
      "[21:00:27] WARNING: C:\\Users\\Administrator\\workspace\\xgboost-win64_release_1.2.0\\src\\learner.cc:211: Only 1 GPUs are visible, setting `gpu_id` to 0\n",
      "[21:00:28] WARNING: C:\\Users\\Administrator\\workspace\\xgboost-win64_release_1.2.0\\src\\learner.cc:211: Only 1 GPUs are visible, setting `gpu_id` to 0\n",
      "[21:00:29] WARNING: C:\\Users\\Administrator\\workspace\\xgboost-win64_release_1.2.0\\src\\learner.cc:211: Only 1 GPUs are visible, setting `gpu_id` to 0\n",
      "[21:00:30] WARNING: C:\\Users\\Administrator\\workspace\\xgboost-win64_release_1.2.0\\src\\learner.cc:211: Only 1 GPUs are visible, setting `gpu_id` to 0\n",
      "[21:00:30] WARNING: C:\\Users\\Administrator\\workspace\\xgboost-win64_release_1.2.0\\src\\learner.cc:211: Only 1 GPUs are visible, setting `gpu_id` to 0\n",
      "[21:00:31] WARNING: C:\\Users\\Administrator\\workspace\\xgboost-win64_release_1.2.0\\src\\learner.cc:211: Only 1 GPUs are visible, setting `gpu_id` to 0\n",
      "[21:00:31] WARNING: C:\\Users\\Administrator\\workspace\\xgboost-win64_release_1.2.0\\src\\learner.cc:211: Only 1 GPUs are visible, setting `gpu_id` to 0\n",
      "[21:00:31] WARNING: C:\\Users\\Administrator\\workspace\\xgboost-win64_release_1.2.0\\src\\learner.cc:211: Only 1 GPUs are visible, setting `gpu_id` to 0\n",
      "[21:00:31] WARNING: C:\\Users\\Administrator\\workspace\\xgboost-win64_release_1.2.0\\src\\learner.cc:211: Only 1 GPUs are visible, setting `gpu_id` to 0\n",
      "[21:00:32] WARNING: C:\\Users\\Administrator\\workspace\\xgboost-win64_release_1.2.0\\src\\learner.cc:211: Only 1 GPUs are visible, setting `gpu_id` to 0\n",
      "[21:00:33] WARNING: C:\\Users\\Administrator\\workspace\\xgboost-win64_release_1.2.0\\src\\learner.cc:211: Only 1 GPUs are visible, setting `gpu_id` to 0\n",
      "[21:00:33] WARNING: C:\\Users\\Administrator\\workspace\\xgboost-win64_release_1.2.0\\src\\learner.cc:211: Only 1 GPUs are visible, setting `gpu_id` to 0\n",
      "[21:00:34] WARNING: C:\\Users\\Administrator\\workspace\\xgboost-win64_release_1.2.0\\src\\learner.cc:211: Only 1 GPUs are visible, setting `gpu_id` to 0\n",
      "[21:00:35] WARNING: C:\\Users\\Administrator\\workspace\\xgboost-win64_release_1.2.0\\src\\learner.cc:211: Only 1 GPUs are visible, setting `gpu_id` to 0\n",
      "[21:00:35] WARNING: C:\\Users\\Administrator\\workspace\\xgboost-win64_release_1.2.0\\src\\learner.cc:211: Only 1 GPUs are visible, setting `gpu_id` to 0\n",
      "[21:00:36] WARNING: C:\\Users\\Administrator\\workspace\\xgboost-win64_release_1.2.0\\src\\learner.cc:211: Only 1 GPUs are visible, setting `gpu_id` to 0\n",
      "[21:00:36] WARNING: C:\\Users\\Administrator\\workspace\\xgboost-win64_release_1.2.0\\src\\learner.cc:211: Only 1 GPUs are visible, setting `gpu_id` to 0\n",
      "[21:00:36] WARNING: C:\\Users\\Administrator\\workspace\\xgboost-win64_release_1.2.0\\src\\learner.cc:211: Only 1 GPUs are visible, setting `gpu_id` to 0\n",
      "[21:00:36] WARNING: C:\\Users\\Administrator\\workspace\\xgboost-win64_release_1.2.0\\src\\learner.cc:211: Only 1 GPUs are visible, setting `gpu_id` to 0\n",
      "[21:00:37] WARNING: C:\\Users\\Administrator\\workspace\\xgboost-win64_release_1.2.0\\src\\learner.cc:211: Only 1 GPUs are visible, setting `gpu_id` to 0\n",
      "[21:00:37] WARNING: C:\\Users\\Administrator\\workspace\\xgboost-win64_release_1.2.0\\src\\learner.cc:211: Only 1 GPUs are visible, setting `gpu_id` to 0\n",
      "[21:00:38] WARNING: C:\\Users\\Administrator\\workspace\\xgboost-win64_release_1.2.0\\src\\learner.cc:211: Only 1 GPUs are visible, setting `gpu_id` to 0\n",
      "[21:00:39] WARNING: C:\\Users\\Administrator\\workspace\\xgboost-win64_release_1.2.0\\src\\learner.cc:211: Only 1 GPUs are visible, setting `gpu_id` to 0\n",
      "[21:00:40] WARNING: C:\\Users\\Administrator\\workspace\\xgboost-win64_release_1.2.0\\src\\learner.cc:211: Only 1 GPUs are visible, setting `gpu_id` to 0\n",
      "[21:00:40] WARNING: C:\\Users\\Administrator\\workspace\\xgboost-win64_release_1.2.0\\src\\learner.cc:211: Only 1 GPUs are visible, setting `gpu_id` to 0\n",
      "[21:00:41] WARNING: C:\\Users\\Administrator\\workspace\\xgboost-win64_release_1.2.0\\src\\learner.cc:211: Only 1 GPUs are visible, setting `gpu_id` to 0\n",
      "[21:00:41] WARNING: C:\\Users\\Administrator\\workspace\\xgboost-win64_release_1.2.0\\src\\learner.cc:211: Only 1 GPUs are visible, setting `gpu_id` to 0\n",
      "[21:00:41] WARNING: C:\\Users\\Administrator\\workspace\\xgboost-win64_release_1.2.0\\src\\learner.cc:211: Only 1 GPUs are visible, setting `gpu_id` to 0\n",
      "[21:00:41] WARNING: C:\\Users\\Administrator\\workspace\\xgboost-win64_release_1.2.0\\src\\learner.cc:211: Only 1 GPUs are visible, setting `gpu_id` to 0\n",
      "[21:00:42] WARNING: C:\\Users\\Administrator\\workspace\\xgboost-win64_release_1.2.0\\src\\learner.cc:211: Only 1 GPUs are visible, setting `gpu_id` to 0\n",
      "[21:00:42] WARNING: C:\\Users\\Administrator\\workspace\\xgboost-win64_release_1.2.0\\src\\learner.cc:211: Only 1 GPUs are visible, setting `gpu_id` to 0\n",
      "[21:00:43] WARNING: C:\\Users\\Administrator\\workspace\\xgboost-win64_release_1.2.0\\src\\learner.cc:211: Only 1 GPUs are visible, setting `gpu_id` to 0\n",
      "[21:00:44] WARNING: C:\\Users\\Administrator\\workspace\\xgboost-win64_release_1.2.0\\src\\learner.cc:211: Only 1 GPUs are visible, setting `gpu_id` to 0\n",
      "[21:00:45] WARNING: C:\\Users\\Administrator\\workspace\\xgboost-win64_release_1.2.0\\src\\learner.cc:211: Only 1 GPUs are visible, setting `gpu_id` to 0\n",
      "[21:00:45] WARNING: C:\\Users\\Administrator\\workspace\\xgboost-win64_release_1.2.0\\src\\learner.cc:211: Only 1 GPUs are visible, setting `gpu_id` to 0\n"
     ]
    },
    {
     "name": "stdout",
     "output_type": "stream",
     "text": [
      "[21:00:46] WARNING: C:\\Users\\Administrator\\workspace\\xgboost-win64_release_1.2.0\\src\\learner.cc:211: Only 1 GPUs are visible, setting `gpu_id` to 0\n",
      "[21:00:46] WARNING: C:\\Users\\Administrator\\workspace\\xgboost-win64_release_1.2.0\\src\\learner.cc:211: Only 1 GPUs are visible, setting `gpu_id` to 0\n",
      "[21:00:46] WARNING: C:\\Users\\Administrator\\workspace\\xgboost-win64_release_1.2.0\\src\\learner.cc:211: Only 1 GPUs are visible, setting `gpu_id` to 0\n",
      "[21:00:46] WARNING: C:\\Users\\Administrator\\workspace\\xgboost-win64_release_1.2.0\\src\\learner.cc:211: Only 1 GPUs are visible, setting `gpu_id` to 0\n",
      "[21:00:47] WARNING: C:\\Users\\Administrator\\workspace\\xgboost-win64_release_1.2.0\\src\\learner.cc:211: Only 1 GPUs are visible, setting `gpu_id` to 0\n",
      "[21:00:47] WARNING: C:\\Users\\Administrator\\workspace\\xgboost-win64_release_1.2.0\\src\\learner.cc:211: Only 1 GPUs are visible, setting `gpu_id` to 0\n",
      "[21:00:48] WARNING: C:\\Users\\Administrator\\workspace\\xgboost-win64_release_1.2.0\\src\\learner.cc:211: Only 1 GPUs are visible, setting `gpu_id` to 0\n",
      "[21:00:49] WARNING: C:\\Users\\Administrator\\workspace\\xgboost-win64_release_1.2.0\\src\\learner.cc:211: Only 1 GPUs are visible, setting `gpu_id` to 0\n",
      "[21:00:50] WARNING: C:\\Users\\Administrator\\workspace\\xgboost-win64_release_1.2.0\\src\\learner.cc:211: Only 1 GPUs are visible, setting `gpu_id` to 0\n",
      "[21:00:50] WARNING: C:\\Users\\Administrator\\workspace\\xgboost-win64_release_1.2.0\\src\\learner.cc:211: Only 1 GPUs are visible, setting `gpu_id` to 0\n",
      "[21:00:51] WARNING: C:\\Users\\Administrator\\workspace\\xgboost-win64_release_1.2.0\\src\\learner.cc:211: Only 1 GPUs are visible, setting `gpu_id` to 0\n",
      "[21:00:51] WARNING: C:\\Users\\Administrator\\workspace\\xgboost-win64_release_1.2.0\\src\\learner.cc:211: Only 1 GPUs are visible, setting `gpu_id` to 0\n",
      "[21:00:51] WARNING: C:\\Users\\Administrator\\workspace\\xgboost-win64_release_1.2.0\\src\\learner.cc:211: Only 1 GPUs are visible, setting `gpu_id` to 0\n",
      "[21:00:51] WARNING: C:\\Users\\Administrator\\workspace\\xgboost-win64_release_1.2.0\\src\\learner.cc:211: Only 1 GPUs are visible, setting `gpu_id` to 0\n",
      "[21:00:52] WARNING: C:\\Users\\Administrator\\workspace\\xgboost-win64_release_1.2.0\\src\\learner.cc:211: Only 1 GPUs are visible, setting `gpu_id` to 0\n",
      "[21:00:52] WARNING: C:\\Users\\Administrator\\workspace\\xgboost-win64_release_1.2.0\\src\\learner.cc:211: Only 1 GPUs are visible, setting `gpu_id` to 0\n",
      "[21:00:53] WARNING: C:\\Users\\Administrator\\workspace\\xgboost-win64_release_1.2.0\\src\\learner.cc:211: Only 1 GPUs are visible, setting `gpu_id` to 0\n",
      "[21:00:54] WARNING: C:\\Users\\Administrator\\workspace\\xgboost-win64_release_1.2.0\\src\\learner.cc:211: Only 1 GPUs are visible, setting `gpu_id` to 0\n",
      "[21:00:55] WARNING: C:\\Users\\Administrator\\workspace\\xgboost-win64_release_1.2.0\\src\\learner.cc:211: Only 1 GPUs are visible, setting `gpu_id` to 0\n",
      "[21:00:55] WARNING: C:\\Users\\Administrator\\workspace\\xgboost-win64_release_1.2.0\\src\\learner.cc:211: Only 1 GPUs are visible, setting `gpu_id` to 0\n",
      "[21:00:55] WARNING: C:\\Users\\Administrator\\workspace\\xgboost-win64_release_1.2.0\\src\\learner.cc:211: Only 1 GPUs are visible, setting `gpu_id` to 0\n",
      "[21:00:56] WARNING: C:\\Users\\Administrator\\workspace\\xgboost-win64_release_1.2.0\\src\\learner.cc:211: Only 1 GPUs are visible, setting `gpu_id` to 0\n",
      "[21:00:56] WARNING: C:\\Users\\Administrator\\workspace\\xgboost-win64_release_1.2.0\\src\\learner.cc:211: Only 1 GPUs are visible, setting `gpu_id` to 0\n",
      "[21:00:56] WARNING: C:\\Users\\Administrator\\workspace\\xgboost-win64_release_1.2.0\\src\\learner.cc:211: Only 1 GPUs are visible, setting `gpu_id` to 0\n",
      "[21:00:57] WARNING: C:\\Users\\Administrator\\workspace\\xgboost-win64_release_1.2.0\\src\\learner.cc:211: Only 1 GPUs are visible, setting `gpu_id` to 0\n",
      "[21:00:57] WARNING: C:\\Users\\Administrator\\workspace\\xgboost-win64_release_1.2.0\\src\\learner.cc:211: Only 1 GPUs are visible, setting `gpu_id` to 0\n",
      "[21:00:58] WARNING: C:\\Users\\Administrator\\workspace\\xgboost-win64_release_1.2.0\\src\\learner.cc:211: Only 1 GPUs are visible, setting `gpu_id` to 0\n",
      "[21:00:59] WARNING: C:\\Users\\Administrator\\workspace\\xgboost-win64_release_1.2.0\\src\\learner.cc:211: Only 1 GPUs are visible, setting `gpu_id` to 0\n",
      "[21:00:59] WARNING: C:\\Users\\Administrator\\workspace\\xgboost-win64_release_1.2.0\\src\\learner.cc:211: Only 1 GPUs are visible, setting `gpu_id` to 0\n",
      "[21:01:00] WARNING: C:\\Users\\Administrator\\workspace\\xgboost-win64_release_1.2.0\\src\\learner.cc:211: Only 1 GPUs are visible, setting `gpu_id` to 0\n",
      "[21:01:00] WARNING: C:\\Users\\Administrator\\workspace\\xgboost-win64_release_1.2.0\\src\\learner.cc:211: Only 1 GPUs are visible, setting `gpu_id` to 0\n",
      "[21:01:00] WARNING: C:\\Users\\Administrator\\workspace\\xgboost-win64_release_1.2.0\\src\\learner.cc:211: Only 1 GPUs are visible, setting `gpu_id` to 0\n",
      "[21:01:01] WARNING: C:\\Users\\Administrator\\workspace\\xgboost-win64_release_1.2.0\\src\\learner.cc:211: Only 1 GPUs are visible, setting `gpu_id` to 0\n",
      "[21:01:01] WARNING: C:\\Users\\Administrator\\workspace\\xgboost-win64_release_1.2.0\\src\\learner.cc:211: Only 1 GPUs are visible, setting `gpu_id` to 0\n",
      "[21:01:01] WARNING: C:\\Users\\Administrator\\workspace\\xgboost-win64_release_1.2.0\\src\\learner.cc:211: Only 1 GPUs are visible, setting `gpu_id` to 0\n",
      "[21:01:02] WARNING: C:\\Users\\Administrator\\workspace\\xgboost-win64_release_1.2.0\\src\\learner.cc:211: Only 1 GPUs are visible, setting `gpu_id` to 0\n",
      "[21:01:03] WARNING: C:\\Users\\Administrator\\workspace\\xgboost-win64_release_1.2.0\\src\\learner.cc:211: Only 1 GPUs are visible, setting `gpu_id` to 0\n",
      "[21:01:03] WARNING: C:\\Users\\Administrator\\workspace\\xgboost-win64_release_1.2.0\\src\\learner.cc:211: Only 1 GPUs are visible, setting `gpu_id` to 0\n",
      "[21:01:04] WARNING: C:\\Users\\Administrator\\workspace\\xgboost-win64_release_1.2.0\\src\\learner.cc:211: Only 1 GPUs are visible, setting `gpu_id` to 0\n",
      "[21:01:05] WARNING: C:\\Users\\Administrator\\workspace\\xgboost-win64_release_1.2.0\\src\\learner.cc:211: Only 1 GPUs are visible, setting `gpu_id` to 0\n",
      "[21:01:05] WARNING: C:\\Users\\Administrator\\workspace\\xgboost-win64_release_1.2.0\\src\\learner.cc:211: Only 1 GPUs are visible, setting `gpu_id` to 0\n",
      "[21:01:05] WARNING: C:\\Users\\Administrator\\workspace\\xgboost-win64_release_1.2.0\\src\\learner.cc:211: Only 1 GPUs are visible, setting `gpu_id` to 0\n",
      "[21:01:05] WARNING: C:\\Users\\Administrator\\workspace\\xgboost-win64_release_1.2.0\\src\\learner.cc:211: Only 1 GPUs are visible, setting `gpu_id` to 0\n",
      "[21:01:06] WARNING: C:\\Users\\Administrator\\workspace\\xgboost-win64_release_1.2.0\\src\\learner.cc:211: Only 1 GPUs are visible, setting `gpu_id` to 0\n",
      "[21:01:06] WARNING: C:\\Users\\Administrator\\workspace\\xgboost-win64_release_1.2.0\\src\\learner.cc:211: Only 1 GPUs are visible, setting `gpu_id` to 0\n",
      "[21:01:07] WARNING: C:\\Users\\Administrator\\workspace\\xgboost-win64_release_1.2.0\\src\\learner.cc:211: Only 1 GPUs are visible, setting `gpu_id` to 0\n",
      "[21:01:08] WARNING: C:\\Users\\Administrator\\workspace\\xgboost-win64_release_1.2.0\\src\\learner.cc:211: Only 1 GPUs are visible, setting `gpu_id` to 0\n",
      "[21:01:08] WARNING: C:\\Users\\Administrator\\workspace\\xgboost-win64_release_1.2.0\\src\\learner.cc:211: Only 1 GPUs are visible, setting `gpu_id` to 0\n",
      "[21:01:09] WARNING: C:\\Users\\Administrator\\workspace\\xgboost-win64_release_1.2.0\\src\\learner.cc:211: Only 1 GPUs are visible, setting `gpu_id` to 0\n",
      "[21:01:10] WARNING: C:\\Users\\Administrator\\workspace\\xgboost-win64_release_1.2.0\\src\\learner.cc:211: Only 1 GPUs are visible, setting `gpu_id` to 0\n",
      "[21:01:10] WARNING: C:\\Users\\Administrator\\workspace\\xgboost-win64_release_1.2.0\\src\\learner.cc:211: Only 1 GPUs are visible, setting `gpu_id` to 0\n",
      "[21:01:10] WARNING: C:\\Users\\Administrator\\workspace\\xgboost-win64_release_1.2.0\\src\\learner.cc:211: Only 1 GPUs are visible, setting `gpu_id` to 0\n",
      "[21:01:10] WARNING: C:\\Users\\Administrator\\workspace\\xgboost-win64_release_1.2.0\\src\\learner.cc:211: Only 1 GPUs are visible, setting `gpu_id` to 0\n",
      "[21:01:11] WARNING: C:\\Users\\Administrator\\workspace\\xgboost-win64_release_1.2.0\\src\\learner.cc:211: Only 1 GPUs are visible, setting `gpu_id` to 0\n"
     ]
    }
   ],
   "source": [
    "valid_s = []\n",
    "train_s = []\n",
    "\n",
    "\n",
    "for i in range(11):\n",
    "\n",
    "    xgb = XGBClassifier(\n",
    "                        reg_lambda = i/10.0,\n",
    "                        gpu_id = 1\n",
    "                       )\n",
    "    tr_s = cross_val_score(xgb, X_train, y_train,cv=5)\n",
    "    v_s = cross_val_score(xgb,X_valid, y_valid,cv=5)\n",
    "    \n",
    "    train_s.append(tr_s.mean())\n",
    "    valid_s.append(v_s.mean())"
   ]
  },
  {
   "cell_type": "code",
   "execution_count": 18,
   "metadata": {},
   "outputs": [
    {
     "data": {
      "text/plain": [
       "<matplotlib.legend.Legend at 0x2278e128b88>"
      ]
     },
     "execution_count": 18,
     "metadata": {},
     "output_type": "execute_result"
    },
    {
     "data": {
      "image/png": "[encoded data removed]",
      "text/plain": [
       "<Figure size 432x288 with 1 Axes>"
      ]
     },
     "metadata": {
      "needs_background": "light"
     },
     "output_type": "display_data"
    }
   ],
   "source": [
    "fig, axs = plt.subplots()\n",
    "axs.set_title(\"result\")\n",
    "axs.set_ylabel(\"average accuracy\")\n",
    "axs.set_xlabel(\"reg_lambda * 10\")\n",
    "\n",
    "axs.plot(range(11),valid_s,label=\"valid\")\n",
    "axs.plot(range(11),train_s,label=\"train\")\n",
    "axs.legend()"
   ]
  },
  {
   "cell_type": "code",
   "execution_count": 19,
   "metadata": {},
   "outputs": [
    {
     "name": "stdout",
     "output_type": "stream",
     "text": [
      "reg_lambda in training data: 1.0 \t error: 0.15290973212242653\n",
      "reg_lambda in valid data: 0.8 \t error: 0.16459311078180683\n"
     ]
    }
   ],
   "source": [
    "train_max_reg_lambda = train_s.index(max(train_s))\n",
    "valid_max_reg_lambda = valid_s.index(max(valid_s))\n",
    "print(f'reg_lambda in training data: {train_max_reg_lambda/10.0} \\t error: {1.0 - max(train_s)}')\n",
    "print(f'reg_lambda in valid data: {valid_max_reg_lambda/10.0} \\t error: {1.0 - max(valid_s)}')"
   ]
  },
  {
   "cell_type": "code",
   "execution_count": 20,
   "metadata": {},
   "outputs": [],
   "source": [
    "improved_reg_lambda = train_max_reg_lambda/10.0"
   ]
  },
  {
   "cell_type": "markdown",
   "metadata": {},
   "source": [
    "## Using K-fold cross-validation to get better objective function"
   ]
  },
  {
   "cell_type": "code",
   "execution_count": 21,
   "metadata": {
    "scrolled": true
   },
   "outputs": [
    {
     "name": "stdout",
     "output_type": "stream",
     "text": [
      "[21:01:11] WARNING: C:\\Users\\Administrator\\workspace\\xgboost-win64_release_1.2.0\\src\\learner.cc:211: Only 1 GPUs are visible, setting `gpu_id` to 0\n",
      "[21:01:12] WARNING: C:\\Users\\Administrator\\workspace\\xgboost-win64_release_1.2.0\\src\\learner.cc:211: Only 1 GPUs are visible, setting `gpu_id` to 0\n",
      "[21:01:13] WARNING: C:\\Users\\Administrator\\workspace\\xgboost-win64_release_1.2.0\\src\\learner.cc:211: Only 1 GPUs are visible, setting `gpu_id` to 0\n",
      "[21:01:13] WARNING: C:\\Users\\Administrator\\workspace\\xgboost-win64_release_1.2.0\\src\\learner.cc:211: Only 1 GPUs are visible, setting `gpu_id` to 0\n",
      "[21:01:14] WARNING: C:\\Users\\Administrator\\workspace\\xgboost-win64_release_1.2.0\\src\\learner.cc:211: Only 1 GPUs are visible, setting `gpu_id` to 0\n",
      "[21:01:15] WARNING: C:\\Users\\Administrator\\workspace\\xgboost-win64_release_1.2.0\\src\\learner.cc:211: Only 1 GPUs are visible, setting `gpu_id` to 0\n",
      "[21:01:15] WARNING: C:\\Users\\Administrator\\workspace\\xgboost-win64_release_1.2.0\\src\\learner.cc:211: Only 1 GPUs are visible, setting `gpu_id` to 0\n",
      "[21:01:15] WARNING: C:\\Users\\Administrator\\workspace\\xgboost-win64_release_1.2.0\\src\\learner.cc:211: Only 1 GPUs are visible, setting `gpu_id` to 0\n",
      "[21:01:16] WARNING: C:\\Users\\Administrator\\workspace\\xgboost-win64_release_1.2.0\\src\\learner.cc:211: Only 1 GPUs are visible, setting `gpu_id` to 0\n",
      "[21:01:16] WARNING: C:\\Users\\Administrator\\workspace\\xgboost-win64_release_1.2.0\\src\\learner.cc:211: Only 1 GPUs are visible, setting `gpu_id` to 0\n",
      "[21:01:16] WARNING: C:\\Users\\Administrator\\workspace\\xgboost-win64_release_1.2.0\\src\\learner.cc:211: Only 1 GPUs are visible, setting `gpu_id` to 0\n",
      "[21:01:17] WARNING: C:\\Users\\Administrator\\workspace\\xgboost-win64_release_1.2.0\\src\\learner.cc:211: Only 1 GPUs are visible, setting `gpu_id` to 0\n",
      "[21:01:18] WARNING: C:\\Users\\Administrator\\workspace\\xgboost-win64_release_1.2.0\\src\\learner.cc:211: Only 1 GPUs are visible, setting `gpu_id` to 0\n",
      "[21:01:19] WARNING: C:\\Users\\Administrator\\workspace\\xgboost-win64_release_1.2.0\\src\\learner.cc:211: Only 1 GPUs are visible, setting `gpu_id` to 0\n",
      "[21:01:19] WARNING: C:\\Users\\Administrator\\workspace\\xgboost-win64_release_1.2.0\\src\\learner.cc:211: Only 1 GPUs are visible, setting `gpu_id` to 0\n",
      "[21:01:20] WARNING: C:\\Users\\Administrator\\workspace\\xgboost-win64_release_1.2.0\\src\\learner.cc:211: Only 1 GPUs are visible, setting `gpu_id` to 0\n",
      "[21:01:20] WARNING: C:\\Users\\Administrator\\workspace\\xgboost-win64_release_1.2.0\\src\\learner.cc:211: Only 1 GPUs are visible, setting `gpu_id` to 0\n",
      "[21:01:21] WARNING: C:\\Users\\Administrator\\workspace\\xgboost-win64_release_1.2.0\\src\\learner.cc:211: Only 1 GPUs are visible, setting `gpu_id` to 0\n",
      "[21:01:21] WARNING: C:\\Users\\Administrator\\workspace\\xgboost-win64_release_1.2.0\\src\\learner.cc:211: Only 1 GPUs are visible, setting `gpu_id` to 0\n",
      "[21:01:21] WARNING: C:\\Users\\Administrator\\workspace\\xgboost-win64_release_1.2.0\\src\\learner.cc:211: Only 1 GPUs are visible, setting `gpu_id` to 0\n"
     ]
    }
   ],
   "source": [
    "valid_s = []\n",
    "train_s = []\n",
    "\n",
    "option_objective = [\"reg:logistic\",\"binary:logistic\"]\n",
    "for i in option_objective:\n",
    "\n",
    "    xgb = XGBClassifier(\n",
    "                        objective = i,\n",
    "                        gpu_id = 1\n",
    "                       )\n",
    "    tr_s = cross_val_score(xgb, X_train, y_train,cv=5)\n",
    "    v_s = cross_val_score(xgb,X_valid, y_valid,cv=5)\n",
    "    \n",
    "    train_s.append(tr_s.mean())\n",
    "    valid_s.append(v_s.mean())"
   ]
  },
  {
   "cell_type": "code",
   "execution_count": 22,
   "metadata": {},
   "outputs": [
    {
     "data": {
      "text/plain": [
       "<matplotlib.legend.Legend at 0x2278e1a4fc8>"
      ]
     },
     "execution_count": 22,
     "metadata": {},
     "output_type": "execute_result"
    },
    {
     "data": {
      "image/png": "[encoded data removed]",
      "text/plain": [
       "<Figure size 432x288 with 1 Axes>"
      ]
     },
     "metadata": {
      "needs_background": "light"
     },
     "output_type": "display_data"
    }
   ],
   "source": [
    "fig, axs = plt.subplots()\n",
    "axs.set_title(\"result\")\n",
    "axs.set_ylabel(\"average accuracy\")\n",
    "axs.set_xlabel(\"objective function\")\n",
    "\n",
    "axs.plot(option_objective,valid_s,label=\"valid\")\n",
    "axs.plot(option_objective,train_s,label=\"train\")\n",
    "axs.legend()"
   ]
  },
  {
   "cell_type": "code",
   "execution_count": 23,
   "metadata": {},
   "outputs": [
    {
     "name": "stdout",
     "output_type": "stream",
     "text": [
      "objective function in training data: reg:logistic \t error: 0.15290973212242653\n",
      "objective function in valid data: reg:logistic \t error: 0.16797264495380504\n"
     ]
    }
   ],
   "source": [
    "train_opt_objective = train_s.index(max(train_s))\n",
    "valid_opt_objective = valid_s.index(max(valid_s))\n",
    "print(f'objective function in training data: {option_objective[train_opt_objective]} \\t error: {1.0 - max(train_s)}')\n",
    "print(f'objective function in valid data: {option_objective[valid_opt_objective]} \\t error: {1.0 - max(valid_s)}')"
   ]
  },
  {
   "cell_type": "code",
   "execution_count": 24,
   "metadata": {},
   "outputs": [],
   "source": [
    "improved_objective = option_objective[train_opt_objective]"
   ]
  },
  {
   "cell_type": "markdown",
   "metadata": {},
   "source": [
    "## Using K-fold cross-validation to get better n_estimators"
   ]
  },
  {
   "cell_type": "code",
   "execution_count": 25,
   "metadata": {
    "scrolled": true
   },
   "outputs": [
    {
     "name": "stdout",
     "output_type": "stream",
     "text": [
      "[21:01:22] WARNING: C:\\Users\\Administrator\\workspace\\xgboost-win64_release_1.2.0\\src\\learner.cc:211: Only 1 GPUs are visible, setting `gpu_id` to 0\n",
      "[21:01:22] WARNING: C:\\Users\\Administrator\\workspace\\xgboost-win64_release_1.2.0\\src\\learner.cc:211: Only 1 GPUs are visible, setting `gpu_id` to 0\n",
      "[21:01:23] WARNING: C:\\Users\\Administrator\\workspace\\xgboost-win64_release_1.2.0\\src\\learner.cc:211: Only 1 GPUs are visible, setting `gpu_id` to 0\n",
      "[21:01:23] WARNING: C:\\Users\\Administrator\\workspace\\xgboost-win64_release_1.2.0\\src\\learner.cc:211: Only 1 GPUs are visible, setting `gpu_id` to 0\n",
      "[21:01:24] WARNING: C:\\Users\\Administrator\\workspace\\xgboost-win64_release_1.2.0\\src\\learner.cc:211: Only 1 GPUs are visible, setting `gpu_id` to 0\n",
      "[21:01:24] WARNING: C:\\Users\\Administrator\\workspace\\xgboost-win64_release_1.2.0\\src\\learner.cc:211: Only 1 GPUs are visible, setting `gpu_id` to 0\n",
      "[21:01:24] WARNING: C:\\Users\\Administrator\\workspace\\xgboost-win64_release_1.2.0\\src\\learner.cc:211: Only 1 GPUs are visible, setting `gpu_id` to 0\n",
      "[21:01:24] WARNING: C:\\Users\\Administrator\\workspace\\xgboost-win64_release_1.2.0\\src\\learner.cc:211: Only 1 GPUs are visible, setting `gpu_id` to 0\n",
      "[21:01:25] WARNING: C:\\Users\\Administrator\\workspace\\xgboost-win64_release_1.2.0\\src\\learner.cc:211: Only 1 GPUs are visible, setting `gpu_id` to 0\n",
      "[21:01:25] WARNING: C:\\Users\\Administrator\\workspace\\xgboost-win64_release_1.2.0\\src\\learner.cc:211: Only 1 GPUs are visible, setting `gpu_id` to 0\n",
      "[21:01:25] WARNING: C:\\Users\\Administrator\\workspace\\xgboost-win64_release_1.2.0\\src\\learner.cc:211: Only 1 GPUs are visible, setting `gpu_id` to 0\n",
      "[21:01:26] WARNING: C:\\Users\\Administrator\\workspace\\xgboost-win64_release_1.2.0\\src\\learner.cc:211: Only 1 GPUs are visible, setting `gpu_id` to 0\n",
      "[21:01:26] WARNING: C:\\Users\\Administrator\\workspace\\xgboost-win64_release_1.2.0\\src\\learner.cc:211: Only 1 GPUs are visible, setting `gpu_id` to 0\n",
      "[21:01:27] WARNING: C:\\Users\\Administrator\\workspace\\xgboost-win64_release_1.2.0\\src\\learner.cc:211: Only 1 GPUs are visible, setting `gpu_id` to 0\n",
      "[21:01:27] WARNING: C:\\Users\\Administrator\\workspace\\xgboost-win64_release_1.2.0\\src\\learner.cc:211: Only 1 GPUs are visible, setting `gpu_id` to 0\n",
      "[21:01:27] WARNING: C:\\Users\\Administrator\\workspace\\xgboost-win64_release_1.2.0\\src\\learner.cc:211: Only 1 GPUs are visible, setting `gpu_id` to 0\n",
      "[21:01:28] WARNING: C:\\Users\\Administrator\\workspace\\xgboost-win64_release_1.2.0\\src\\learner.cc:211: Only 1 GPUs are visible, setting `gpu_id` to 0\n",
      "[21:01:28] WARNING: C:\\Users\\Administrator\\workspace\\xgboost-win64_release_1.2.0\\src\\learner.cc:211: Only 1 GPUs are visible, setting `gpu_id` to 0\n",
      "[21:01:28] WARNING: C:\\Users\\Administrator\\workspace\\xgboost-win64_release_1.2.0\\src\\learner.cc:211: Only 1 GPUs are visible, setting `gpu_id` to 0\n",
      "[21:01:28] WARNING: C:\\Users\\Administrator\\workspace\\xgboost-win64_release_1.2.0\\src\\learner.cc:211: Only 1 GPUs are visible, setting `gpu_id` to 0\n",
      "[21:01:29] WARNING: C:\\Users\\Administrator\\workspace\\xgboost-win64_release_1.2.0\\src\\learner.cc:211: Only 1 GPUs are visible, setting `gpu_id` to 0\n",
      "[21:01:29] WARNING: C:\\Users\\Administrator\\workspace\\xgboost-win64_release_1.2.0\\src\\learner.cc:211: Only 1 GPUs are visible, setting `gpu_id` to 0\n",
      "[21:01:30] WARNING: C:\\Users\\Administrator\\workspace\\xgboost-win64_release_1.2.0\\src\\learner.cc:211: Only 1 GPUs are visible, setting `gpu_id` to 0\n",
      "[21:01:30] WARNING: C:\\Users\\Administrator\\workspace\\xgboost-win64_release_1.2.0\\src\\learner.cc:211: Only 1 GPUs are visible, setting `gpu_id` to 0\n",
      "[21:01:31] WARNING: C:\\Users\\Administrator\\workspace\\xgboost-win64_release_1.2.0\\src\\learner.cc:211: Only 1 GPUs are visible, setting `gpu_id` to 0\n",
      "[21:01:31] WARNING: C:\\Users\\Administrator\\workspace\\xgboost-win64_release_1.2.0\\src\\learner.cc:211: Only 1 GPUs are visible, setting `gpu_id` to 0\n",
      "[21:01:31] WARNING: C:\\Users\\Administrator\\workspace\\xgboost-win64_release_1.2.0\\src\\learner.cc:211: Only 1 GPUs are visible, setting `gpu_id` to 0\n",
      "[21:01:32] WARNING: C:\\Users\\Administrator\\workspace\\xgboost-win64_release_1.2.0\\src\\learner.cc:211: Only 1 GPUs are visible, setting `gpu_id` to 0\n",
      "[21:01:32] WARNING: C:\\Users\\Administrator\\workspace\\xgboost-win64_release_1.2.0\\src\\learner.cc:211: Only 1 GPUs are visible, setting `gpu_id` to 0\n",
      "[21:01:32] WARNING: C:\\Users\\Administrator\\workspace\\xgboost-win64_release_1.2.0\\src\\learner.cc:211: Only 1 GPUs are visible, setting `gpu_id` to 0\n",
      "[21:01:32] WARNING: C:\\Users\\Administrator\\workspace\\xgboost-win64_release_1.2.0\\src\\learner.cc:211: Only 1 GPUs are visible, setting `gpu_id` to 0\n",
      "[21:01:33] WARNING: C:\\Users\\Administrator\\workspace\\xgboost-win64_release_1.2.0\\src\\learner.cc:211: Only 1 GPUs are visible, setting `gpu_id` to 0\n",
      "[21:01:34] WARNING: C:\\Users\\Administrator\\workspace\\xgboost-win64_release_1.2.0\\src\\learner.cc:211: Only 1 GPUs are visible, setting `gpu_id` to 0\n",
      "[21:01:34] WARNING: C:\\Users\\Administrator\\workspace\\xgboost-win64_release_1.2.0\\src\\learner.cc:211: Only 1 GPUs are visible, setting `gpu_id` to 0\n",
      "[21:01:35] WARNING: C:\\Users\\Administrator\\workspace\\xgboost-win64_release_1.2.0\\src\\learner.cc:211: Only 1 GPUs are visible, setting `gpu_id` to 0\n",
      "[21:01:35] WARNING: C:\\Users\\Administrator\\workspace\\xgboost-win64_release_1.2.0\\src\\learner.cc:211: Only 1 GPUs are visible, setting `gpu_id` to 0\n",
      "[21:01:35] WARNING: C:\\Users\\Administrator\\workspace\\xgboost-win64_release_1.2.0\\src\\learner.cc:211: Only 1 GPUs are visible, setting `gpu_id` to 0\n",
      "[21:01:36] WARNING: C:\\Users\\Administrator\\workspace\\xgboost-win64_release_1.2.0\\src\\learner.cc:211: Only 1 GPUs are visible, setting `gpu_id` to 0\n",
      "[21:01:36] WARNING: C:\\Users\\Administrator\\workspace\\xgboost-win64_release_1.2.0\\src\\learner.cc:211: Only 1 GPUs are visible, setting `gpu_id` to 0\n",
      "[21:01:36] WARNING: C:\\Users\\Administrator\\workspace\\xgboost-win64_release_1.2.0\\src\\learner.cc:211: Only 1 GPUs are visible, setting `gpu_id` to 0\n",
      "[21:01:36] WARNING: C:\\Users\\Administrator\\workspace\\xgboost-win64_release_1.2.0\\src\\learner.cc:211: Only 1 GPUs are visible, setting `gpu_id` to 0\n",
      "[21:01:37] WARNING: C:\\Users\\Administrator\\workspace\\xgboost-win64_release_1.2.0\\src\\learner.cc:211: Only 1 GPUs are visible, setting `gpu_id` to 0\n",
      "[21:01:38] WARNING: C:\\Users\\Administrator\\workspace\\xgboost-win64_release_1.2.0\\src\\learner.cc:211: Only 1 GPUs are visible, setting `gpu_id` to 0\n",
      "[21:01:38] WARNING: C:\\Users\\Administrator\\workspace\\xgboost-win64_release_1.2.0\\src\\learner.cc:211: Only 1 GPUs are visible, setting `gpu_id` to 0\n",
      "[21:01:39] WARNING: C:\\Users\\Administrator\\workspace\\xgboost-win64_release_1.2.0\\src\\learner.cc:211: Only 1 GPUs are visible, setting `gpu_id` to 0\n",
      "[21:01:40] WARNING: C:\\Users\\Administrator\\workspace\\xgboost-win64_release_1.2.0\\src\\learner.cc:211: Only 1 GPUs are visible, setting `gpu_id` to 0\n",
      "[21:01:40] WARNING: C:\\Users\\Administrator\\workspace\\xgboost-win64_release_1.2.0\\src\\learner.cc:211: Only 1 GPUs are visible, setting `gpu_id` to 0\n",
      "[21:01:40] WARNING: C:\\Users\\Administrator\\workspace\\xgboost-win64_release_1.2.0\\src\\learner.cc:211: Only 1 GPUs are visible, setting `gpu_id` to 0\n",
      "[21:01:40] WARNING: C:\\Users\\Administrator\\workspace\\xgboost-win64_release_1.2.0\\src\\learner.cc:211: Only 1 GPUs are visible, setting `gpu_id` to 0\n",
      "[21:01:41] WARNING: C:\\Users\\Administrator\\workspace\\xgboost-win64_release_1.2.0\\src\\learner.cc:211: Only 1 GPUs are visible, setting `gpu_id` to 0\n",
      "[21:01:41] WARNING: C:\\Users\\Administrator\\workspace\\xgboost-win64_release_1.2.0\\src\\learner.cc:211: Only 1 GPUs are visible, setting `gpu_id` to 0\n",
      "[21:01:42] WARNING: C:\\Users\\Administrator\\workspace\\xgboost-win64_release_1.2.0\\src\\learner.cc:211: Only 1 GPUs are visible, setting `gpu_id` to 0\n",
      "[21:01:42] WARNING: C:\\Users\\Administrator\\workspace\\xgboost-win64_release_1.2.0\\src\\learner.cc:211: Only 1 GPUs are visible, setting `gpu_id` to 0\n",
      "[21:01:43] WARNING: C:\\Users\\Administrator\\workspace\\xgboost-win64_release_1.2.0\\src\\learner.cc:211: Only 1 GPUs are visible, setting `gpu_id` to 0\n",
      "[21:01:44] WARNING: C:\\Users\\Administrator\\workspace\\xgboost-win64_release_1.2.0\\src\\learner.cc:211: Only 1 GPUs are visible, setting `gpu_id` to 0\n",
      "[21:01:44] WARNING: C:\\Users\\Administrator\\workspace\\xgboost-win64_release_1.2.0\\src\\learner.cc:211: Only 1 GPUs are visible, setting `gpu_id` to 0\n"
     ]
    },
    {
     "name": "stdout",
     "output_type": "stream",
     "text": [
      "[21:01:45] WARNING: C:\\Users\\Administrator\\workspace\\xgboost-win64_release_1.2.0\\src\\learner.cc:211: Only 1 GPUs are visible, setting `gpu_id` to 0\n",
      "[21:01:45] WARNING: C:\\Users\\Administrator\\workspace\\xgboost-win64_release_1.2.0\\src\\learner.cc:211: Only 1 GPUs are visible, setting `gpu_id` to 0\n",
      "[21:01:45] WARNING: C:\\Users\\Administrator\\workspace\\xgboost-win64_release_1.2.0\\src\\learner.cc:211: Only 1 GPUs are visible, setting `gpu_id` to 0\n",
      "[21:01:45] WARNING: C:\\Users\\Administrator\\workspace\\xgboost-win64_release_1.2.0\\src\\learner.cc:211: Only 1 GPUs are visible, setting `gpu_id` to 0\n",
      "[21:01:46] WARNING: C:\\Users\\Administrator\\workspace\\xgboost-win64_release_1.2.0\\src\\learner.cc:211: Only 1 GPUs are visible, setting `gpu_id` to 0\n",
      "[21:01:46] WARNING: C:\\Users\\Administrator\\workspace\\xgboost-win64_release_1.2.0\\src\\learner.cc:211: Only 1 GPUs are visible, setting `gpu_id` to 0\n",
      "[21:01:47] WARNING: C:\\Users\\Administrator\\workspace\\xgboost-win64_release_1.2.0\\src\\learner.cc:211: Only 1 GPUs are visible, setting `gpu_id` to 0\n",
      "[21:01:48] WARNING: C:\\Users\\Administrator\\workspace\\xgboost-win64_release_1.2.0\\src\\learner.cc:211: Only 1 GPUs are visible, setting `gpu_id` to 0\n",
      "[21:01:49] WARNING: C:\\Users\\Administrator\\workspace\\xgboost-win64_release_1.2.0\\src\\learner.cc:211: Only 1 GPUs are visible, setting `gpu_id` to 0\n",
      "[21:01:49] WARNING: C:\\Users\\Administrator\\workspace\\xgboost-win64_release_1.2.0\\src\\learner.cc:211: Only 1 GPUs are visible, setting `gpu_id` to 0\n",
      "[21:01:49] WARNING: C:\\Users\\Administrator\\workspace\\xgboost-win64_release_1.2.0\\src\\learner.cc:211: Only 1 GPUs are visible, setting `gpu_id` to 0\n",
      "[21:01:50] WARNING: C:\\Users\\Administrator\\workspace\\xgboost-win64_release_1.2.0\\src\\learner.cc:211: Only 1 GPUs are visible, setting `gpu_id` to 0\n",
      "[21:01:50] WARNING: C:\\Users\\Administrator\\workspace\\xgboost-win64_release_1.2.0\\src\\learner.cc:211: Only 1 GPUs are visible, setting `gpu_id` to 0\n",
      "[21:01:50] WARNING: C:\\Users\\Administrator\\workspace\\xgboost-win64_release_1.2.0\\src\\learner.cc:211: Only 1 GPUs are visible, setting `gpu_id` to 0\n",
      "[21:01:51] WARNING: C:\\Users\\Administrator\\workspace\\xgboost-win64_release_1.2.0\\src\\learner.cc:211: Only 1 GPUs are visible, setting `gpu_id` to 0\n",
      "[21:01:52] WARNING: C:\\Users\\Administrator\\workspace\\xgboost-win64_release_1.2.0\\src\\learner.cc:211: Only 1 GPUs are visible, setting `gpu_id` to 0\n",
      "[21:01:52] WARNING: C:\\Users\\Administrator\\workspace\\xgboost-win64_release_1.2.0\\src\\learner.cc:211: Only 1 GPUs are visible, setting `gpu_id` to 0\n",
      "[21:01:53] WARNING: C:\\Users\\Administrator\\workspace\\xgboost-win64_release_1.2.0\\src\\learner.cc:211: Only 1 GPUs are visible, setting `gpu_id` to 0\n",
      "[21:01:54] WARNING: C:\\Users\\Administrator\\workspace\\xgboost-win64_release_1.2.0\\src\\learner.cc:211: Only 1 GPUs are visible, setting `gpu_id` to 0\n",
      "[21:01:55] WARNING: C:\\Users\\Administrator\\workspace\\xgboost-win64_release_1.2.0\\src\\learner.cc:211: Only 1 GPUs are visible, setting `gpu_id` to 0\n",
      "[21:01:55] WARNING: C:\\Users\\Administrator\\workspace\\xgboost-win64_release_1.2.0\\src\\learner.cc:211: Only 1 GPUs are visible, setting `gpu_id` to 0\n",
      "[21:01:55] WARNING: C:\\Users\\Administrator\\workspace\\xgboost-win64_release_1.2.0\\src\\learner.cc:211: Only 1 GPUs are visible, setting `gpu_id` to 0\n",
      "[21:01:55] WARNING: C:\\Users\\Administrator\\workspace\\xgboost-win64_release_1.2.0\\src\\learner.cc:211: Only 1 GPUs are visible, setting `gpu_id` to 0\n",
      "[21:01:56] WARNING: C:\\Users\\Administrator\\workspace\\xgboost-win64_release_1.2.0\\src\\learner.cc:211: Only 1 GPUs are visible, setting `gpu_id` to 0\n",
      "[21:01:56] WARNING: C:\\Users\\Administrator\\workspace\\xgboost-win64_release_1.2.0\\src\\learner.cc:211: Only 1 GPUs are visible, setting `gpu_id` to 0\n",
      "[21:01:57] WARNING: C:\\Users\\Administrator\\workspace\\xgboost-win64_release_1.2.0\\src\\learner.cc:211: Only 1 GPUs are visible, setting `gpu_id` to 0\n",
      "[21:01:58] WARNING: C:\\Users\\Administrator\\workspace\\xgboost-win64_release_1.2.0\\src\\learner.cc:211: Only 1 GPUs are visible, setting `gpu_id` to 0\n",
      "[21:01:59] WARNING: C:\\Users\\Administrator\\workspace\\xgboost-win64_release_1.2.0\\src\\learner.cc:211: Only 1 GPUs are visible, setting `gpu_id` to 0\n",
      "[21:02:00] WARNING: C:\\Users\\Administrator\\workspace\\xgboost-win64_release_1.2.0\\src\\learner.cc:211: Only 1 GPUs are visible, setting `gpu_id` to 0\n",
      "[21:02:00] WARNING: C:\\Users\\Administrator\\workspace\\xgboost-win64_release_1.2.0\\src\\learner.cc:211: Only 1 GPUs are visible, setting `gpu_id` to 0\n",
      "[21:02:01] WARNING: C:\\Users\\Administrator\\workspace\\xgboost-win64_release_1.2.0\\src\\learner.cc:211: Only 1 GPUs are visible, setting `gpu_id` to 0\n",
      "[21:02:01] WARNING: C:\\Users\\Administrator\\workspace\\xgboost-win64_release_1.2.0\\src\\learner.cc:211: Only 1 GPUs are visible, setting `gpu_id` to 0\n",
      "[21:02:01] WARNING: C:\\Users\\Administrator\\workspace\\xgboost-win64_release_1.2.0\\src\\learner.cc:211: Only 1 GPUs are visible, setting `gpu_id` to 0\n",
      "[21:02:02] WARNING: C:\\Users\\Administrator\\workspace\\xgboost-win64_release_1.2.0\\src\\learner.cc:211: Only 1 GPUs are visible, setting `gpu_id` to 0\n",
      "[21:02:02] WARNING: C:\\Users\\Administrator\\workspace\\xgboost-win64_release_1.2.0\\src\\learner.cc:211: Only 1 GPUs are visible, setting `gpu_id` to 0\n",
      "[21:02:03] WARNING: C:\\Users\\Administrator\\workspace\\xgboost-win64_release_1.2.0\\src\\learner.cc:211: Only 1 GPUs are visible, setting `gpu_id` to 0\n",
      "[21:02:04] WARNING: C:\\Users\\Administrator\\workspace\\xgboost-win64_release_1.2.0\\src\\learner.cc:211: Only 1 GPUs are visible, setting `gpu_id` to 0\n",
      "[21:02:05] WARNING: C:\\Users\\Administrator\\workspace\\xgboost-win64_release_1.2.0\\src\\learner.cc:211: Only 1 GPUs are visible, setting `gpu_id` to 0\n",
      "[21:02:06] WARNING: C:\\Users\\Administrator\\workspace\\xgboost-win64_release_1.2.0\\src\\learner.cc:211: Only 1 GPUs are visible, setting `gpu_id` to 0\n",
      "[21:02:07] WARNING: C:\\Users\\Administrator\\workspace\\xgboost-win64_release_1.2.0\\src\\learner.cc:211: Only 1 GPUs are visible, setting `gpu_id` to 0\n",
      "[21:02:07] WARNING: C:\\Users\\Administrator\\workspace\\xgboost-win64_release_1.2.0\\src\\learner.cc:211: Only 1 GPUs are visible, setting `gpu_id` to 0\n",
      "[21:02:07] WARNING: C:\\Users\\Administrator\\workspace\\xgboost-win64_release_1.2.0\\src\\learner.cc:211: Only 1 GPUs are visible, setting `gpu_id` to 0\n",
      "[21:02:08] WARNING: C:\\Users\\Administrator\\workspace\\xgboost-win64_release_1.2.0\\src\\learner.cc:211: Only 1 GPUs are visible, setting `gpu_id` to 0\n",
      "[21:02:08] WARNING: C:\\Users\\Administrator\\workspace\\xgboost-win64_release_1.2.0\\src\\learner.cc:211: Only 1 GPUs are visible, setting `gpu_id` to 0\n",
      "[21:02:08] WARNING: C:\\Users\\Administrator\\workspace\\xgboost-win64_release_1.2.0\\src\\learner.cc:211: Only 1 GPUs are visible, setting `gpu_id` to 0\n",
      "[21:02:09] WARNING: C:\\Users\\Administrator\\workspace\\xgboost-win64_release_1.2.0\\src\\learner.cc:211: Only 1 GPUs are visible, setting `gpu_id` to 0\n",
      "[21:02:10] WARNING: C:\\Users\\Administrator\\workspace\\xgboost-win64_release_1.2.0\\src\\learner.cc:211: Only 1 GPUs are visible, setting `gpu_id` to 0\n",
      "[21:02:11] WARNING: C:\\Users\\Administrator\\workspace\\xgboost-win64_release_1.2.0\\src\\learner.cc:211: Only 1 GPUs are visible, setting `gpu_id` to 0\n",
      "[21:02:12] WARNING: C:\\Users\\Administrator\\workspace\\xgboost-win64_release_1.2.0\\src\\learner.cc:211: Only 1 GPUs are visible, setting `gpu_id` to 0\n",
      "[21:02:13] WARNING: C:\\Users\\Administrator\\workspace\\xgboost-win64_release_1.2.0\\src\\learner.cc:211: Only 1 GPUs are visible, setting `gpu_id` to 0\n",
      "[21:02:13] WARNING: C:\\Users\\Administrator\\workspace\\xgboost-win64_release_1.2.0\\src\\learner.cc:211: Only 1 GPUs are visible, setting `gpu_id` to 0\n",
      "[21:02:14] WARNING: C:\\Users\\Administrator\\workspace\\xgboost-win64_release_1.2.0\\src\\learner.cc:211: Only 1 GPUs are visible, setting `gpu_id` to 0\n",
      "[21:02:14] WARNING: C:\\Users\\Administrator\\workspace\\xgboost-win64_release_1.2.0\\src\\learner.cc:211: Only 1 GPUs are visible, setting `gpu_id` to 0\n",
      "[21:02:15] WARNING: C:\\Users\\Administrator\\workspace\\xgboost-win64_release_1.2.0\\src\\learner.cc:211: Only 1 GPUs are visible, setting `gpu_id` to 0\n"
     ]
    }
   ],
   "source": [
    "\n",
    "valid_s = []\n",
    "train_s = []\n",
    "\n",
    "for i in range(40,150,10):\n",
    "\n",
    "    xgb = XGBClassifier(n_estimators = i,\n",
    "                        gpu_id = 1\n",
    "                        \n",
    "                       )\n",
    "    tr_s = cross_val_score(xgb, X_train, y_train,cv=5)\n",
    "    v_s = cross_val_score(xgb,X_valid, y_valid,cv=5)\n",
    "    \n",
    "    train_s.append(tr_s.mean())\n",
    "    valid_s.append(v_s.mean())\n"
   ]
  },
  {
   "cell_type": "code",
   "execution_count": 26,
   "metadata": {},
   "outputs": [
    {
     "name": "stdout",
     "output_type": "stream",
     "text": [
      "[0.8400122369151657, 0.8392450129855126, 0.8380164880053474, 0.838476374383586, 0.8372479672927771, 0.8357119868718413, 0.832027355046195, 0.8327958757587653, 0.8321819079920731, 0.8314143303943518, 0.8303395331345719]\n",
      "[0.8474741229283881, 0.8476660909860352, 0.8475508836212535, 0.8482419656809841, 0.8468983219284208, 0.8467831219331373, 0.8470902678775735, 0.8459385258571739, 0.8459001602497376, 0.8462840521480428, 0.8459001012937521]\n",
      "11\n"
     ]
    }
   ],
   "source": [
    "    \n",
    "print(valid_s)\n",
    "print(train_s)\n",
    "print(len(valid_s))"
   ]
  },
  {
   "cell_type": "code",
   "execution_count": 27,
   "metadata": {},
   "outputs": [
    {
     "data": {
      "text/plain": [
       "<matplotlib.legend.Legend at 0x2278e1fd148>"
      ]
     },
     "execution_count": 27,
     "metadata": {},
     "output_type": "execute_result"
    },
    {
     "data": {
      "image/png": "[encoded data removed]",
      "text/plain": [
       "<Figure size 432x288 with 1 Axes>"
      ]
     },
     "metadata": {
      "needs_background": "light"
     },
     "output_type": "display_data"
    }
   ],
   "source": [
    "fig, axs = plt.subplots()\n",
    "axs.set_title(\"result\")\n",
    "axs.set_ylabel(\"average accuracy\")\n",
    "axs.set_xlabel(\"n_estimators\")\n",
    "\n",
    "axs.plot(range(40,150,10),valid_s,label=\"valid\")\n",
    "axs.plot(range(40,150,10),train_s,label=\"train\")\n",
    "axs.legend()"
   ]
  },
  {
   "cell_type": "code",
   "execution_count": 28,
   "metadata": {},
   "outputs": [
    {
     "name": "stdout",
     "output_type": "stream",
     "text": [
      "Best n_estimators in training data: 70 \t error: 0.1517580343190159\n",
      "Best n_estimators in test data: 40 \t error: 0.1599877630848343\n"
     ]
    }
   ],
   "source": [
    "train_min_id = train_s.index(max(train_s))\n",
    "valid_min_id = valid_s.index(max(valid_s))\n",
    "print(f'Best n_estimators in training data: {train_min_id*10 + 40} \\t error: {1.0-max(train_s)}')\n",
    "print(f'Best n_estimators in test data: {valid_min_id*10+40} \\t error: {1.0-max(valid_s)}')"
   ]
  },
  {
   "cell_type": "code",
   "execution_count": 29,
   "metadata": {},
   "outputs": [],
   "source": [
    "improved_n_estimators = train_min_id*10+40"
   ]
  },
  {
   "cell_type": "markdown",
   "metadata": {},
   "source": [
    "# Final Result: combine every improved parameter together"
   ]
  },
  {
   "cell_type": "code",
   "execution_count": 30,
   "metadata": {},
   "outputs": [
    {
     "name": "stdout",
     "output_type": "stream",
     "text": [
      "n estimators = 70\n",
      "max depth = 5\n",
      "lambda = 1.0\n",
      "learning rate = 0.1\n",
      "missing = nan\n",
      "objective = reg:logistic\n"
     ]
    }
   ],
   "source": [
    "print(f\"n estimators = {improved_n_estimators}\")\n",
    "print(f\"max depth = {improved_max_depth}\")\n",
    "print(f\"lambda = {improved_reg_lambda}\")\n",
    "print(f\"learning rate = {improved_learning_rate}\")\n",
    "print(f\"missing = {xgb.missing}\")\n",
    "print(f\"objective = {improved_objective}\")"
   ]
  },
  {
   "cell_type": "markdown",
   "metadata": {},
   "source": [
    "# fine tune the parameters about the above number"
   ]
  },
  {
   "cell_type": "code",
   "execution_count": 43,
   "metadata": {
    "scrolled": true
   },
   "outputs": [
    {
     "name": "stdout",
     "output_type": "stream",
     "text": [
      "[21:03:21] WARNING: C:\\Users\\Administrator\\workspace\\xgboost-win64_release_1.2.0\\src\\learner.cc:211: Only 1 GPUs are visible, setting `gpu_id` to 0\n",
      "[21:03:21] WARNING: C:\\Users\\Administrator\\workspace\\xgboost-win64_release_1.2.0\\src\\learner.cc:211: Only 1 GPUs are visible, setting `gpu_id` to 0\n",
      "[21:03:22] WARNING: C:\\Users\\Administrator\\workspace\\xgboost-win64_release_1.2.0\\src\\learner.cc:211: Only 1 GPUs are visible, setting `gpu_id` to 0\n",
      "[21:03:22] WARNING: C:\\Users\\Administrator\\workspace\\xgboost-win64_release_1.2.0\\src\\learner.cc:211: Only 1 GPUs are visible, setting `gpu_id` to 0\n",
      "[21:03:23] WARNING: C:\\Users\\Administrator\\workspace\\xgboost-win64_release_1.2.0\\src\\learner.cc:211: Only 1 GPUs are visible, setting `gpu_id` to 0\n",
      "[21:03:23] WARNING: C:\\Users\\Administrator\\workspace\\xgboost-win64_release_1.2.0\\src\\learner.cc:211: Only 1 GPUs are visible, setting `gpu_id` to 0\n",
      "[21:03:23] WARNING: C:\\Users\\Administrator\\workspace\\xgboost-win64_release_1.2.0\\src\\learner.cc:211: Only 1 GPUs are visible, setting `gpu_id` to 0\n",
      "[21:03:23] WARNING: C:\\Users\\Administrator\\workspace\\xgboost-win64_release_1.2.0\\src\\learner.cc:211: Only 1 GPUs are visible, setting `gpu_id` to 0\n",
      "[21:03:24] WARNING: C:\\Users\\Administrator\\workspace\\xgboost-win64_release_1.2.0\\src\\learner.cc:211: Only 1 GPUs are visible, setting `gpu_id` to 0\n",
      "[21:03:24] WARNING: C:\\Users\\Administrator\\workspace\\xgboost-win64_release_1.2.0\\src\\learner.cc:211: Only 1 GPUs are visible, setting `gpu_id` to 0\n"
     ]
    }
   ],
   "source": [
    "valid_s = []\n",
    "train_s = []\n",
    "xgb = XGBClassifier(\n",
    "                        n_estimators = 70,\n",
    "                        max_depth = 5,\n",
    "                        reg_lambda = 1,\n",
    "                        learning_rate = 0.1,\n",
    "                        objective = improved_objective,\n",
    "                        gpu_id = 1\n",
    "                        \n",
    "                       )\n",
    "\n",
    "tr_s = cross_val_score(xgb, X_train, y_train,cv=5)\n",
    "v_s = cross_val_score(xgb,X_valid, y_valid,cv=5)\n",
    " \n",
    "train_s.append(tr_s.mean())\n",
    "valid_s.append(v_s.mean())\n",
    "\n",
    "train_min_id = train_s.index(max(train_s))\n",
    "valid_min_id = valid_s.index(max(valid_s))\n",
    "\n"
   ]
  },
  {
   "cell_type": "code",
   "execution_count": 44,
   "metadata": {},
   "outputs": [
    {
     "name": "stdout",
     "output_type": "stream",
     "text": [
      "improved_cross-validation errors: 0.15317847561193543\n"
     ]
    }
   ],
   "source": [
    "improved_cross_validation_errors = 1.0-max(train_s)\n",
    "print(f'improved_cross-validation errors: {1.0-max(train_s)}')"
   ]
  },
  {
   "cell_type": "code",
   "execution_count": 45,
   "metadata": {},
   "outputs": [
    {
     "name": "stdout",
     "output_type": "stream",
     "text": [
      "[21:03:24] WARNING: C:\\Users\\Administrator\\workspace\\xgboost-win64_release_1.2.0\\src\\learner.cc:211: Only 1 GPUs are visible, setting `gpu_id` to 0\n",
      "improved_xgb_error = 0.14473280098280095\n"
     ]
    }
   ],
   "source": [
    "improved_xgb = xgb.fit(X_train, y_train)\n",
    "improved_training_error = 1-float(improved_xgb.score(X_train, y_train))\n",
    "print(f\"improved_xgb_error = {improved_training_error}\");"
   ]
  },
  {
   "cell_type": "code",
   "execution_count": 46,
   "metadata": {
    "scrolled": true
   },
   "outputs": [
    {
     "name": "stdout",
     "output_type": "stream",
     "text": [
      "improved_test_error = 0.1475339352619618\n"
     ]
    }
   ],
   "source": [
    "improved_test_error = 1.0 - np.mean(improved_xgb.predict(X_test) == y_test)\n",
    "print(f\"improved_test_error = {improved_test_error}\")"
   ]
  },
  {
   "cell_type": "markdown",
   "metadata": {},
   "source": [
    "# Reference"
   ]
  },
  {
   "cell_type": "markdown",
   "metadata": {},
   "source": [
    "## https://en.wikipedia.org/wiki/Gradient_boosting\n",
    "## https://towardsdatascience.com/boosting-showdown-scikit-learn-vs-xgboost-vs-lightgbm-vs-catboost-in-sentiment-classification-f7c7f46fd956\n"
   ]
  }
 ],
 "metadata": {
  "kernelspec": {
   "display_name": "Python 3",
   "language": "python",
   "name": "python3"
  },
  "language_info": {
   "codemirror_mode": {
    "name": "ipython",
    "version": 3
   },
   "file_extension": ".py",
   "mimetype": "text/x-python",
   "name": "python",
   "nbconvert_exporter": "python",
   "pygments_lexer": "ipython3",
   "version": "3.7.8"
  }
 },
 "nbformat": 4,
 "nbformat_minor": 4
}
