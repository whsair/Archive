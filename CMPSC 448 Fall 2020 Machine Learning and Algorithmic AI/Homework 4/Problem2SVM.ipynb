{
 "cells": [
  {
   "cell_type": "code",
   "execution_count": 1,
   "metadata": {},
   "outputs": [],
   "source": [
    "from sklearn import svm\n",
    "from sklearn.model_selection import train_test_split\n",
    "from sklearn.model_selection import cross_val_score\n",
    "from sklearn.metrics import accuracy_score\n",
    "import numpy as np\n",
    "import matplotlib.pyplot as plt\n",
    "from sklearn import preprocessing\n",
    "from sklearn.model_selection import train_test_split\n",
    "from sklearn.datasets import load_svmlight_file\n",
    "# Importing packages and data\n",
    "from time import time\n",
    "\n",
    "import pandas as pd\n",
    "from sklearn.feature_extraction.text import TfidfVectorizer\n",
    "from sklearn.svm import LinearSVC\n",
    "from sklearn.tree import DecisionTreeClassifier\n",
    "from sklearn.experimental import enable_hist_gradient_boosting\n",
    "from sklearn.ensemble import (RandomForestClassifier,\n",
    "                              AdaBoostClassifier,\n",
    "                              GradientBoostingClassifier,\n",
    "                              HistGradientBoostingClassifier)\n",
    "from xgboost import XGBClassifier\n",
    "import matplotlib.pyplot as plt"
   ]
  },
  {
   "cell_type": "code",
   "execution_count": 2,
   "metadata": {},
   "outputs": [],
   "source": [
    "N_FEATURES = 123\n",
    "X_train, y_train = load_svmlight_file('a9a.txt', n_features=N_FEATURES)\n",
    "X_test, y_test = load_svmlight_file('a9a.t', n_features=N_FEATURES)\n",
    "X_train, X_valid, y_train, y_valid = train_test_split(X_train, y_train, test_size=0.2)\n"
   ]
  },
  {
   "cell_type": "markdown",
   "metadata": {},
   "source": [
    "## Default parameters"
   ]
  },
  {
   "cell_type": "code",
   "execution_count": 3,
   "metadata": {
    "scrolled": true
   },
   "outputs": [
    {
     "name": "stdout",
     "output_type": "stream",
     "text": [
      "kernel_type = rbf\n",
      "gamma = scale\n",
      "C = 1.0\n"
     ]
    }
   ],
   "source": [
    "print(f\"kernel_type = {'rbf'}\")\n",
    "print(f\"gamma = {'scale'}\")\n",
    "print(f\"C = {1.0}\")"
   ]
  },
  {
   "cell_type": "markdown",
   "metadata": {},
   "source": [
    "# Brute Force"
   ]
  },
  {
   "cell_type": "code",
   "execution_count": null,
   "metadata": {},
   "outputs": [],
   "source": [
    "valid_s = []\n",
    "train_s = []\n",
    "\n",
    "option_kernel = ['linear', 'poly', 'rbf', 'sigmoid']\n",
    "option_gamma = ['scale']\n",
    "opt_i = 0\n",
    "opt_j = ''\n",
    "opt_k = ''\n",
    "min_error = 1.0\n",
    "\n",
    "for j in option_kernel:\n",
    "    for k in option_gamma:\n",
    "            \n",
    "        svc = svm.SVC(kernel = j, gamma=k)\n",
    "        \n",
    "        improved_training_error = 1-float(svc.fit(X_train, y_train).score(X_train, y_train))\n",
    "        if min_error > improved_training_error:\n",
    "            min_error= improved_training_error\n",
    "            #opt_i = i\n",
    "            opt_j = j\n",
    "            opt_k = k\n"
   ]
  },
  {
   "cell_type": "code",
   "execution_count": null,
   "metadata": {},
   "outputs": [],
   "source": []
  },
  {
   "cell_type": "code",
   "execution_count": 18,
   "metadata": {
    "scrolled": true
   },
   "outputs": [
    {
     "name": "stdout",
     "output_type": "stream",
     "text": [
      "error: 0.13171836609336607\n",
      "kernel_type = poly\n",
      "gamma = scale\n",
      "C = 1\n"
     ]
    }
   ],
   "source": [
    "print(f\"error: {min_error}\");\n",
    "print(f\"kernel_type = {opt_j}\")\n",
    "print(f\"gamma = {opt_k}\")\n",
    "print(f\"C = {1}\")"
   ]
  },
  {
   "cell_type": "code",
   "execution_count": 19,
   "metadata": {},
   "outputs": [],
   "source": [
    "valid_s = []\n",
    "train_s = []\n",
    "\n",
    "option_kernel = ['linear', 'poly', 'rbf', 'sigmoid']\n",
    "option_gamma = ['auto']\n",
    "opt_i = 0\n",
    "opt_j = ''\n",
    "opt_k = ''\n",
    "min_error = 1.0\n",
    "\n",
    "for j in option_kernel:\n",
    "    for k in option_gamma:\n",
    "            \n",
    "        svc = svm.SVC(kernel = j, gamma=k)\n",
    "        \n",
    "        improved_training_error = 1-float(svc.fit(X_train, y_train).score(X_train, y_train))\n",
    "        if min_error > improved_training_error:\n",
    "            min_error= improved_training_error\n",
    "            #opt_i = i\n",
    "            opt_j = j\n",
    "            opt_k = k\n"
   ]
  },
  {
   "cell_type": "code",
   "execution_count": 20,
   "metadata": {
    "scrolled": true
   },
   "outputs": [
    {
     "name": "stdout",
     "output_type": "stream",
     "text": [
      "error: 0.1510672604422605\n",
      "kernel_type = linear\n",
      "gamma = auto\n",
      "C = 1\n"
     ]
    }
   ],
   "source": [
    "print(f\"error: {min_error}\");\n",
    "print(f\"kernel_type = {opt_j}\")\n",
    "print(f\"gamma = {opt_k}\")\n",
    "print(f\"C = {1}\")"
   ]
  },
  {
   "cell_type": "markdown",
   "metadata": {},
   "source": [
    "## Better Profermance: ploy scaler and C = 1"
   ]
  },
  {
   "cell_type": "code",
   "execution_count": 7,
   "metadata": {},
   "outputs": [],
   "source": [
    "option_kernel = ['linear', 'poly', 'rbf', 'sigmoid']\n",
    "option_gamma = ['auto']\n",
    "opt_i = 0\n",
    "opt_j = ''\n",
    "opt_k = ''\n",
    "min_error = 1.0\n",
    "train_s = []\n",
    "for i in range(1,10):\n",
    "            \n",
    "        improved_svc = svm.SVC(kernel = \"poly\", gamma=\"scale\", C=i/10)\n",
    "        \n",
    "        tr_s = cross_val_score(improved_svc, X_train, y_train,cv=3)\n",
    "        train_s.append(tr_s.mean())"
   ]
  },
  {
   "cell_type": "code",
   "execution_count": 9,
   "metadata": {},
   "outputs": [
    {
     "data": {
      "text/plain": [
       "<matplotlib.legend.Legend at 0x2670506eb08>"
      ]
     },
     "execution_count": 9,
     "metadata": {},
     "output_type": "execute_result"
    },
    {
     "data": {
      "image/png": "[encoded data removed]",
      "text/plain": [
       "<Figure size 432x288 with 1 Axes>"
      ]
     },
     "metadata": {
      "needs_background": "light"
     },
     "output_type": "display_data"
    }
   ],
   "source": [
    "fig, axs = plt.subplots()\n",
    "axs.set_title(\"result\")\n",
    "axs.set_ylabel(\"average accuracy\")\n",
    "axs.set_xlabel(\"C  / 10\")\n",
    "axs.plot(range(1, 10),train_s,label=\"train\")\n",
    "axs.legend()"
   ]
  },
  {
   "cell_type": "code",
   "execution_count": 10,
   "metadata": {},
   "outputs": [],
   "source": [
    "improved_svc = svm.SVC(kernel = \"poly\", gamma=\"scale\", C=1)"
   ]
  },
  {
   "cell_type": "code",
   "execution_count": 11,
   "metadata": {
    "scrolled": true
   },
   "outputs": [
    {
     "name": "stdout",
     "output_type": "stream",
     "text": [
      "improved_cross-validation errors: 0.15459948435621362\n"
     ]
    }
   ],
   "source": [
    "improved_cross_validation_errors = 1.0 - cross_val_score(improved_svc, X_train, y_train,cv=5).mean()\n",
    "print(f'improved_cross-validation errors: {improved_cross_validation_errors}')"
   ]
  },
  {
   "cell_type": "code",
   "execution_count": 12,
   "metadata": {},
   "outputs": [],
   "source": [
    "t = improved_svc.fit(X_train, y_train)"
   ]
  },
  {
   "cell_type": "code",
   "execution_count": 13,
   "metadata": {},
   "outputs": [
    {
     "name": "stdout",
     "output_type": "stream",
     "text": [
      "improved_training_error = 0.1317567567567568\n"
     ]
    }
   ],
   "source": [
    "improved_training_error = 1-float(t.score(X_train, y_train))\n",
    "print(f\"improved_training_error = {improved_training_error}\")"
   ]
  },
  {
   "cell_type": "code",
   "execution_count": 14,
   "metadata": {},
   "outputs": [
    {
     "name": "stdout",
     "output_type": "stream",
     "text": [
      "improved_test_error = 0.15078926355874944\n"
     ]
    }
   ],
   "source": [
    "improved_test_error = 1.0 - np.mean(improved_svc.predict(X_test) == y_test)\n",
    "print(f\"improved_test_error = {improved_test_error}\")"
   ]
  },
  {
   "cell_type": "markdown",
   "metadata": {},
   "source": [
    "# Reference"
   ]
  },
  {
   "cell_type": "markdown",
   "metadata": {},
   "source": [
    "## https://methods.sagepub.com/dataset/howtoguide/support-vector-machine-in-aci-1996-python"
   ]
  }
 ],
 "metadata": {
  "kernelspec": {
   "display_name": "Python 3",
   "language": "python",
   "name": "python3"
  },
  "language_info": {
   "codemirror_mode": {
    "name": "ipython",
    "version": 3
   },
   "file_extension": ".py",
   "mimetype": "text/x-python",
   "name": "python",
   "nbconvert_exporter": "python",
   "pygments_lexer": "ipython3",
   "version": "3.7.8"
  }
 },
 "nbformat": 4,
 "nbformat_minor": 4
}
