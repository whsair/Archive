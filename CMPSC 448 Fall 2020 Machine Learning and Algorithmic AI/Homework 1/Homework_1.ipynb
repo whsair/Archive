{
 "cells": [
  {
   "cell_type": "markdown",
   "metadata": {},
   "source": [
    "# CMPSC 448: Homewrok #1\n",
    "# Exploratory Data Analysis with `pandas`\n",
    "\n",
    "## Objectives\n",
    "\n",
    "In this assignment, you are asked to analyze the UCI Adult data set containing demographic information about the US residents. This data was extracted from the census bureau database found at\n",
    "\n",
    "http://www.census.gov/ftp/pub/DES/www/welcome.html\n",
    "\n",
    "The features of data with possible values of each feature are listed below:\n",
    "\n",
    "| Feature Name| Possible Values  |\n",
    "|------|------|\n",
    "| age | continuous|\n",
    "| workclass| Private, Self-emp-not-inc, Self-emp-inc, Federal-gov, Local-gov, State-gov, Without-pay, Never-worked|\n",
    "| fnlwgt| continuous|\n",
    "| education | Bachelors, Some-college, 11th, HS-grad, Prof-school, Assoc-acdm, Assoc-voc, 9th, 7th-8th, 12th, Masters, 1st-4th, 10th, Doctorate, 5th-6th, Preschool|\n",
    "|education_num | continuous|\n",
    "|marital_status | Married-civ-spouse, Divorced, Never-married, Separated, Widowed, Married-spouse-absent, Married-AF-spouse|\n",
    "|occupation | Tech-support, Craft-repair, Other-service, Sales, Exec-managerial, Prof-specialty, Handlers-cleaners, Machine-op-inspct, Adm-clerical, Farming-fishing, Transport-moving, Priv-house-serv, Protective-serv, Armed-Forces|\n",
    "|relationship | Wife, Own-child, Husband, Not-in-family, Other-relative, Unmarried |\n",
    "|race | White, Asian-Pac-Islander, Amer-Indian-Eskimo, Other, Black|\n",
    "|sex | Female, Male|\n",
    "|capital_gain| continuous|\n",
    "|capital_loss | continuous|\n",
    "|hours-per-week | continuous |\n",
    "|native-country | United-States, Cambodia, England, Puerto-Rico, Canada, Germany, Outlying-US(Guam-USVI-etc), India, Japan, Greece, South, China, Cuba, Iran, Honduras, Philippines, Italy, Poland, Jamaica, Vietnam, Mexico, Portugal, Ireland, France, Dominican-Republic, Laos, Ecuador, Taiwan, Haiti, Columbia, Hungary, Guatemala, Nicaragua, Scotland, Thailand, Yugoslavia, El-Salvador, Trinadad&Tobago, Peru, Hong, Holand-Netherlands |\n",
    "|salary | >50K,<=50K |\n",
    "\n",
    "\n",
    "Please  complete the tasks in the Jupyter notebook by answering following 8 questions."
   ]
  },
  {
   "cell_type": "code",
   "execution_count": 1,
   "metadata": {},
   "outputs": [],
   "source": [
    "import numpy as np\n",
    "import pandas as pd\n",
    "pd.set_option('display.max.columns', 100)\n",
    "# to draw pictures in jupyter notebook\n",
    "%matplotlib inline \n",
    "import matplotlib.pyplot as plt\n",
    "import seaborn as sns\n",
    "# we don't like warnings\n",
    "# you can comment the following 2 lines if you'd like to\n",
    "import warnings\n",
    "warnings.filterwarnings('ignore')\n"
   ]
  },
  {
   "cell_type": "code",
   "execution_count": 2,
   "metadata": {},
   "outputs": [
    {
     "name": "stdout",
     "output_type": "stream",
     "text": [
      "age\n",
      "workclass\n",
      "fnlwgt\n",
      "education\n",
      "education_num\n",
      "marital_status\n",
      "occupation\n",
      "relationship\n",
      "race\n",
      "sex\n",
      "capital_gain\n",
      "capital_loss\n",
      "hours_per_week\n",
      "native_country\n",
      "salary\n"
     ]
    }
   ],
   "source": [
    "data = pd.read_csv('adult.data.csv')\n",
    "print(\"\\n\".join(data.columns))"
   ]
  },
  {
   "cell_type": "code",
   "execution_count": 3,
   "metadata": {},
   "outputs": [
    {
     "data": {
      "text/plain": [
       "(32561, 15)"
      ]
     },
     "execution_count": 3,
     "metadata": {},
     "output_type": "execute_result"
    }
   ],
   "source": [
    "data.shape"
   ]
  },
  {
   "cell_type": "code",
   "execution_count": 4,
   "metadata": {
    "scrolled": false
   },
   "outputs": [
    {
     "data": {
      "text/html": [
       "<div>\n",
       "<style scoped>\n",
       "    .dataframe tbody tr th:only-of-type {\n",
       "        vertical-align: middle;\n",
       "    }\n",
       "\n",
       "    .dataframe tbody tr th {\n",
       "        vertical-align: top;\n",
       "    }\n",
       "\n",
       "    .dataframe thead th {\n",
       "        text-align: right;\n",
       "    }\n",
       "</style>\n",
       "<table border=\"1\" class=\"dataframe\">\n",
       "  <thead>\n",
       "    <tr style=\"text-align: right;\">\n",
       "      <th></th>\n",
       "      <th>age</th>\n",
       "      <th>workclass</th>\n",
       "      <th>fnlwgt</th>\n",
       "      <th>education</th>\n",
       "      <th>education_num</th>\n",
       "      <th>marital_status</th>\n",
       "      <th>occupation</th>\n",
       "      <th>relationship</th>\n",
       "      <th>race</th>\n",
       "      <th>sex</th>\n",
       "      <th>capital_gain</th>\n",
       "      <th>capital_loss</th>\n",
       "      <th>hours_per_week</th>\n",
       "      <th>native_country</th>\n",
       "      <th>salary</th>\n",
       "    </tr>\n",
       "  </thead>\n",
       "  <tbody>\n",
       "    <tr>\n",
       "      <th>0</th>\n",
       "      <td>39</td>\n",
       "      <td>State-gov</td>\n",
       "      <td>77516</td>\n",
       "      <td>Bachelors</td>\n",
       "      <td>13</td>\n",
       "      <td>Never-married</td>\n",
       "      <td>Adm-clerical</td>\n",
       "      <td>Not-in-family</td>\n",
       "      <td>White</td>\n",
       "      <td>Male</td>\n",
       "      <td>2174</td>\n",
       "      <td>0</td>\n",
       "      <td>40</td>\n",
       "      <td>United-States</td>\n",
       "      <td>&lt;=50K</td>\n",
       "    </tr>\n",
       "    <tr>\n",
       "      <th>1</th>\n",
       "      <td>50</td>\n",
       "      <td>Self-emp-not-inc</td>\n",
       "      <td>83311</td>\n",
       "      <td>Bachelors</td>\n",
       "      <td>13</td>\n",
       "      <td>Married-civ-spouse</td>\n",
       "      <td>Exec-managerial</td>\n",
       "      <td>Husband</td>\n",
       "      <td>White</td>\n",
       "      <td>Male</td>\n",
       "      <td>0</td>\n",
       "      <td>0</td>\n",
       "      <td>13</td>\n",
       "      <td>United-States</td>\n",
       "      <td>&lt;=50K</td>\n",
       "    </tr>\n",
       "    <tr>\n",
       "      <th>2</th>\n",
       "      <td>38</td>\n",
       "      <td>Private</td>\n",
       "      <td>215646</td>\n",
       "      <td>HS-grad</td>\n",
       "      <td>9</td>\n",
       "      <td>Divorced</td>\n",
       "      <td>Handlers-cleaners</td>\n",
       "      <td>Not-in-family</td>\n",
       "      <td>White</td>\n",
       "      <td>Male</td>\n",
       "      <td>0</td>\n",
       "      <td>0</td>\n",
       "      <td>40</td>\n",
       "      <td>United-States</td>\n",
       "      <td>&lt;=50K</td>\n",
       "    </tr>\n",
       "    <tr>\n",
       "      <th>3</th>\n",
       "      <td>53</td>\n",
       "      <td>Private</td>\n",
       "      <td>234721</td>\n",
       "      <td>11th</td>\n",
       "      <td>7</td>\n",
       "      <td>Married-civ-spouse</td>\n",
       "      <td>Handlers-cleaners</td>\n",
       "      <td>Husband</td>\n",
       "      <td>Black</td>\n",
       "      <td>Male</td>\n",
       "      <td>0</td>\n",
       "      <td>0</td>\n",
       "      <td>40</td>\n",
       "      <td>United-States</td>\n",
       "      <td>&lt;=50K</td>\n",
       "    </tr>\n",
       "    <tr>\n",
       "      <th>4</th>\n",
       "      <td>28</td>\n",
       "      <td>Private</td>\n",
       "      <td>338409</td>\n",
       "      <td>Bachelors</td>\n",
       "      <td>13</td>\n",
       "      <td>Married-civ-spouse</td>\n",
       "      <td>Prof-specialty</td>\n",
       "      <td>Wife</td>\n",
       "      <td>Black</td>\n",
       "      <td>Female</td>\n",
       "      <td>0</td>\n",
       "      <td>0</td>\n",
       "      <td>40</td>\n",
       "      <td>Cuba</td>\n",
       "      <td>&lt;=50K</td>\n",
       "    </tr>\n",
       "  </tbody>\n",
       "</table>\n",
       "</div>"
      ],
      "text/plain": [
       "   age          workclass  fnlwgt   education  education_num  \\\n",
       "0   39          State-gov   77516   Bachelors             13   \n",
       "1   50   Self-emp-not-inc   83311   Bachelors             13   \n",
       "2   38            Private  215646     HS-grad              9   \n",
       "3   53            Private  234721        11th              7   \n",
       "4   28            Private  338409   Bachelors             13   \n",
       "\n",
       "        marital_status          occupation    relationship    race      sex  \\\n",
       "0        Never-married        Adm-clerical   Not-in-family   White     Male   \n",
       "1   Married-civ-spouse     Exec-managerial         Husband   White     Male   \n",
       "2             Divorced   Handlers-cleaners   Not-in-family   White     Male   \n",
       "3   Married-civ-spouse   Handlers-cleaners         Husband   Black     Male   \n",
       "4   Married-civ-spouse      Prof-specialty            Wife   Black   Female   \n",
       "\n",
       "   capital_gain  capital_loss  hours_per_week  native_country  salary  \n",
       "0          2174             0              40   United-States   <=50K  \n",
       "1             0             0              13   United-States   <=50K  \n",
       "2             0             0              40   United-States   <=50K  \n",
       "3             0             0              40   United-States   <=50K  \n",
       "4             0             0              40            Cuba   <=50K  "
      ]
     },
     "execution_count": 4,
     "metadata": {},
     "output_type": "execute_result"
    }
   ],
   "source": [
    "data.head()"
   ]
  },
  {
   "cell_type": "code",
   "execution_count": 5,
   "metadata": {
    "scrolled": false
   },
   "outputs": [
    {
     "name": "stdout",
     "output_type": "stream",
     "text": [
      " Columns Information :\n",
      "<class 'pandas.core.frame.DataFrame'>\n",
      "RangeIndex: 32561 entries, 0 to 32560\n",
      "Data columns (total 15 columns):\n",
      " #   Column          Non-Null Count  Dtype \n",
      "---  ------          --------------  ----- \n",
      " 0   age             32561 non-null  int64 \n",
      " 1   workclass       32561 non-null  object\n",
      " 2   fnlwgt          32561 non-null  int64 \n",
      " 3   education       32561 non-null  object\n",
      " 4   education_num   32561 non-null  int64 \n",
      " 5   marital_status  32561 non-null  object\n",
      " 6   occupation      32561 non-null  object\n",
      " 7   relationship    32561 non-null  object\n",
      " 8   race            32561 non-null  object\n",
      " 9   sex             32561 non-null  object\n",
      " 10  capital_gain    32561 non-null  int64 \n",
      " 11  capital_loss    32561 non-null  int64 \n",
      " 12  hours_per_week  32561 non-null  int64 \n",
      " 13  native_country  32561 non-null  object\n",
      " 14  salary          32561 non-null  object\n",
      "dtypes: int64(6), object(9)\n",
      "memory usage: 3.7+ MB\n",
      "None\n",
      "\n",
      " Summary statistics of dataset :\n",
      "                age        fnlwgt  education_num  capital_gain  capital_loss  \\\n",
      "count  32561.000000  3.256100e+04   32561.000000  32561.000000  32561.000000   \n",
      "mean      38.581647  1.897784e+05      10.080679   1077.648844     87.303830   \n",
      "std       13.640433  1.055500e+05       2.572720   7385.292085    402.960219   \n",
      "min       17.000000  1.228500e+04       1.000000      0.000000      0.000000   \n",
      "25%       28.000000  1.178270e+05       9.000000      0.000000      0.000000   \n",
      "50%       37.000000  1.783560e+05      10.000000      0.000000      0.000000   \n",
      "75%       48.000000  2.370510e+05      12.000000      0.000000      0.000000   \n",
      "max       90.000000  1.484705e+06      16.000000  99999.000000   4356.000000   \n",
      "\n",
      "       hours_per_week  \n",
      "count    32561.000000  \n",
      "mean        40.437456  \n",
      "std         12.347429  \n",
      "min          1.000000  \n",
      "25%         40.000000  \n",
      "50%         40.000000  \n",
      "75%         45.000000  \n",
      "max         99.000000  \n",
      "\n"
     ]
    }
   ],
   "source": [
    "print (\" Columns Information :\")\n",
    "print (data.info ())\n",
    "print (\"\")\n",
    "print (\" Summary statistics of dataset :\")\n",
    "print (data.describe ())\n",
    "print (\"\")\n",
    "import os"
   ]
  },
  {
   "cell_type": "markdown",
   "metadata": {},
   "source": [
    "### 1. How many men and women (sex feature) are represented in this dataset?"
   ]
  },
  {
   "cell_type": "code",
   "execution_count": null,
   "metadata": {},
   "outputs": [],
   "source": []
  },
  {
   "cell_type": "code",
   "execution_count": 6,
   "metadata": {},
   "outputs": [
    {
     "name": "stdout",
     "output_type": "stream",
     "text": [
      "Number of women: 10771\n",
      "Number of Men: 21790\n"
     ]
    },
    {
     "data": {
      "text/plain": [
       " Male      21790\n",
       " Female    10771\n",
       "Name: sex, dtype: int64"
      ]
     },
     "execution_count": 6,
     "metadata": {},
     "output_type": "execute_result"
    }
   ],
   "source": [
    "# You answer (code + results)\n",
    "n_female = data[data.sex==' Female'].count()[0]\n",
    "n_male = data[data.sex==' Male'].count()[0]\n",
    "print(f'Number of women: {n_female}')\n",
    "print(f'Number of Men: {n_male}')\n",
    "\n",
    "assert np.shape(data)[0] == n_female + n_male\n",
    "\n",
    "data['sex'].value_counts()"
   ]
  },
  {
   "cell_type": "markdown",
   "metadata": {},
   "source": [
    "### 2. What is the average age (age feature) of women?"
   ]
  },
  {
   "cell_type": "code",
   "execution_count": 7,
   "metadata": {},
   "outputs": [
    {
     "name": "stdout",
     "output_type": "stream",
     "text": [
      "The average age of women: 36.85823043357163\n",
      "The average age of women(round): 36\n"
     ]
    }
   ],
   "source": [
    "# You answer (code + results)\n",
    "\n",
    "\n",
    "mean_women_age = data['age'][data.sex == ' Female'].mean()\n",
    "print(f'The average age of women: {mean_women_age}')\n",
    "print(f'The average age of women(round): {int(mean_women_age)}')"
   ]
  },
  {
   "cell_type": "markdown",
   "metadata": {},
   "source": [
    "### 3. What is the percentage of German citizens (native-country feature)?\n"
   ]
  },
  {
   "cell_type": "code",
   "execution_count": 8,
   "metadata": {},
   "outputs": [
    {
     "name": "stdout",
     "output_type": "stream",
     "text": [
      "Number of Gernam: 137\n",
      "Number of Total citizens: 32561\n",
      "Percentage of German: 0.42074874850281013%\n"
     ]
    }
   ],
   "source": [
    "# You answer (code + results)\n",
    "n_g = data[data.native_country == ' Germany'].count()[0]\n",
    "\n",
    "N = data['native_country'].count()\n",
    "\n",
    "print(f'Number of Gernam: {n_g}')\n",
    "print(f'Number of Total citizens: {N}')\n",
    "\n",
    "print(f\"Percentage of German: {float(n_g/N)*100}%\")\n",
    "\n"
   ]
  },
  {
   "cell_type": "markdown",
   "metadata": {},
   "source": [
    "###  4. What are the mean and standard deviation of age for those who earn more than 50K per year (salary feature) and those who earn less than 50K per year?"
   ]
  },
  {
   "cell_type": "code",
   "execution_count": 9,
   "metadata": {},
   "outputs": [
    {
     "name": "stdout",
     "output_type": "stream",
     "text": [
      "std of age (salary > 50k): 10.519027719851826 = 10\n",
      "mean of age (salary > 50k): 44.24984058155847 = 44\n"
     ]
    },
    {
     "data": {
      "text/plain": [
       "count    7841.000000\n",
       "mean       44.249841\n",
       "std        10.519028\n",
       "min        19.000000\n",
       "25%        36.000000\n",
       "50%        44.000000\n",
       "75%        51.000000\n",
       "max        90.000000\n",
       "Name: age, dtype: float64"
      ]
     },
     "execution_count": 9,
     "metadata": {},
     "output_type": "execute_result"
    }
   ],
   "source": [
    "# You answer (code + results)\n",
    "\n",
    "std = data['age'][data.salary == \" >50K\"].std()\n",
    "mean = data['age'][data.salary == \" >50K\"].mean()\n",
    "print(f'std of age (salary > 50k): {std} = {int(std)}')\n",
    "print(f'mean of age (salary > 50k): {mean} = {int(mean)}')\n",
    "data['age'][data.salary == \" >50K\"].describe()"
   ]
  },
  {
   "cell_type": "code",
   "execution_count": 10,
   "metadata": {},
   "outputs": [
    {
     "name": "stdout",
     "output_type": "stream",
     "text": [
      "std of age (salary <= 50k): 14.02008849082488 = 14\n",
      "mean of age (salary <= 50k): 36.78373786407767 = 36\n"
     ]
    },
    {
     "data": {
      "text/plain": [
       "count    24720.000000\n",
       "mean        36.783738\n",
       "std         14.020088\n",
       "min         17.000000\n",
       "25%         25.000000\n",
       "50%         34.000000\n",
       "75%         46.000000\n",
       "max         90.000000\n",
       "Name: age, dtype: float64"
      ]
     },
     "execution_count": 10,
     "metadata": {},
     "output_type": "execute_result"
    }
   ],
   "source": [
    "# You answer (code + results)\n",
    "\n",
    "std = data['age'][data.salary == \" <=50K\"].std()\n",
    "mean = data['age'][data.salary == \" <=50K\"].mean()\n",
    "\n",
    "print(f'std of age (salary <= 50k): {std} = {int(std)}')\n",
    "print(f'mean of age (salary <= 50k): {mean} = {int(mean)}')\n",
    "data['age'][data.salary == \" <=50K\"].describe()\n"
   ]
  },
  {
   "cell_type": "markdown",
   "metadata": {},
   "source": [
    "### 5. Is it true that people who earn more than 50K have at least high school education? (education – Bachelors, Prof-school, Assoc-acdm, Assoc-voc, Masters or Doctorate feature)"
   ]
  },
  {
   "cell_type": "code",
   "execution_count": 11,
   "metadata": {},
   "outputs": [
    {
     "name": "stdout",
     "output_type": "stream",
     "text": [
      "4535\n",
      "7841\n",
      "Answer is False\n"
     ]
    },
    {
     "data": {
      "text/plain": [
       "array([' HS-grad', ' Masters', ' Bachelors', ' Some-college',\n",
       "       ' Assoc-voc', ' Doctorate', ' Prof-school', ' Assoc-acdm',\n",
       "       ' 7th-8th', ' 12th', ' 10th', ' 11th', ' 9th', ' 5th-6th',\n",
       "       ' 1st-4th'], dtype=object)"
      ]
     },
     "execution_count": 11,
     "metadata": {},
     "output_type": "execute_result"
    }
   ],
   "source": [
    "# You answer (code + results)\n",
    "\n",
    "high = data[(data.salary == \" >50K\") & ((data.education==' Bachelors') |\n",
    "                                       (data.education==' Prof-school') |\n",
    "                                       (data.education==' Assoc-acdm') |\n",
    "                                       (data.education==' Assoc-voc') |\n",
    "                                       (data.education==' Masters') |\n",
    "                                       (data.education==' Doctorate'))].count()[0]\n",
    "print(high)\n",
    "total = data[(data.salary== ' >50K')].count()[0]\n",
    "print(total)\n",
    "print(f\"Answer is {high==total}\")\n",
    "\n",
    "\n",
    "# another way\n",
    "data['education'][data.salary == ' >50K'].unique()\n",
    "# reference https://stackoverflow.com/questions/16970982/find-unique-rows-in-numpy-array\n",
    "# The answer is still False"
   ]
  },
  {
   "cell_type": "markdown",
   "metadata": {},
   "source": [
    "### 6.  Display age statistics for each race (race feature) and each gender (sex feature). "
   ]
  },
  {
   "cell_type": "markdown",
   "metadata": {},
   "source": [
    "Hint: Use `groupby()` and `describe()` functions of DataFrame. Find the maximum age of men of Amer-Indian-Eskimo race."
   ]
  },
  {
   "cell_type": "code",
   "execution_count": 12,
   "metadata": {
    "scrolled": false
   },
   "outputs": [
    {
     "name": "stdout",
     "output_type": "stream",
     "text": [
      "Race:  Amer-Indian-Eskimo  Gender:  Female\n",
      "count    119.000000\n",
      "mean      37.117647\n",
      "std       13.114991\n",
      "min       17.000000\n",
      "25%       27.000000\n",
      "50%       36.000000\n",
      "75%       46.000000\n",
      "max       80.000000\n",
      "Name: age, dtype: float64\n",
      "\n",
      "\n",
      "\n",
      "Race:  Amer-Indian-Eskimo  Gender:  Male\n",
      "count    192.000000\n",
      "mean      37.208333\n",
      "std       12.049563\n",
      "min       17.000000\n",
      "25%       28.000000\n",
      "50%       35.000000\n",
      "75%       45.000000\n",
      "max       82.000000\n",
      "Name: age, dtype: float64\n",
      "\n",
      "\n",
      "\n",
      "Race:  Asian-Pac-Islander  Gender:  Female\n",
      "count    346.000000\n",
      "mean      35.089595\n",
      "std       12.300845\n",
      "min       17.000000\n",
      "25%       25.000000\n",
      "50%       33.000000\n",
      "75%       43.750000\n",
      "max       75.000000\n",
      "Name: age, dtype: float64\n",
      "\n",
      "\n",
      "\n",
      "Race:  Asian-Pac-Islander  Gender:  Male\n",
      "count    693.000000\n",
      "mean      39.073593\n",
      "std       12.883944\n",
      "min       18.000000\n",
      "25%       29.000000\n",
      "50%       37.000000\n",
      "75%       46.000000\n",
      "max       90.000000\n",
      "Name: age, dtype: float64\n",
      "\n",
      "\n",
      "\n",
      "Race:  Black  Gender:  Female\n",
      "count    1555.000000\n",
      "mean       37.854019\n",
      "std        12.637197\n",
      "min        17.000000\n",
      "25%        28.000000\n",
      "50%        37.000000\n",
      "75%        46.000000\n",
      "max        90.000000\n",
      "Name: age, dtype: float64\n",
      "\n",
      "\n",
      "\n",
      "Race:  Black  Gender:  Male\n",
      "count    1569.000000\n",
      "mean       37.682600\n",
      "std        12.882612\n",
      "min        17.000000\n",
      "25%        27.000000\n",
      "50%        36.000000\n",
      "75%        46.000000\n",
      "max        90.000000\n",
      "Name: age, dtype: float64\n",
      "\n",
      "\n",
      "\n",
      "Race:  Other  Gender:  Female\n",
      "count    109.000000\n",
      "mean      31.678899\n",
      "std       11.631599\n",
      "min       17.000000\n",
      "25%       23.000000\n",
      "50%       29.000000\n",
      "75%       39.000000\n",
      "max       74.000000\n",
      "Name: age, dtype: float64\n",
      "\n",
      "\n",
      "\n",
      "Race:  Other  Gender:  Male\n",
      "count    162.000000\n",
      "mean      34.654321\n",
      "std       11.355531\n",
      "min       17.000000\n",
      "25%       26.000000\n",
      "50%       32.000000\n",
      "75%       42.000000\n",
      "max       77.000000\n",
      "Name: age, dtype: float64\n",
      "\n",
      "\n",
      "\n",
      "Race:  White  Gender:  Female\n",
      "count    8642.000000\n",
      "mean       36.811618\n",
      "std        14.329093\n",
      "min        17.000000\n",
      "25%        25.000000\n",
      "50%        35.000000\n",
      "75%        46.000000\n",
      "max        90.000000\n",
      "Name: age, dtype: float64\n",
      "\n",
      "\n",
      "\n",
      "Race:  White  Gender:  Male\n",
      "count    19174.000000\n",
      "mean        39.652498\n",
      "std         13.436029\n",
      "min         17.000000\n",
      "25%         29.000000\n",
      "50%         38.000000\n",
      "75%         49.000000\n",
      "max         90.000000\n",
      "Name: age, dtype: float64\n",
      "\n",
      "\n",
      "\n"
     ]
    }
   ],
   "source": [
    "# You answer (code + results)\n",
    "\n",
    "\n",
    "\n",
    "for (r, s), sg in data.groupby(['race', 'sex']):\n",
    "    \n",
    "    print(f'Race: {r}  Gender: {s}')\n",
    "    print(sg['age'].describe())\n",
    "    print('\\n\\n')\n",
    "\n",
    "    \n",
    "# Reference https://pandas.pydata.org/pandas-docs/stable/reference/api/pandas.DataFrame.groupby.html"
   ]
  },
  {
   "cell_type": "markdown",
   "metadata": {},
   "source": [
    "### 7. What is the maximum number of hours a person works per week (hours-per-week feature)? How many people work such a number of hours, and what is the percentage of those who earn a lot (>50K) among them?\n"
   ]
  },
  {
   "cell_type": "code",
   "execution_count": 13,
   "metadata": {},
   "outputs": [
    {
     "name": "stdout",
     "output_type": "stream",
     "text": [
      "Maximum number of hours a person works per week: 99\n",
      "Hard worker: 85\n",
      "Percentage of hard workers who earn >50k: 29.411764705882355 %\n"
     ]
    }
   ],
   "source": [
    "# You answer (code + results)\n",
    "max_hour = data['hours_per_week'].max()\n",
    "print(f\"Maximum number of hours a person works per week: {max_hour}\")\n",
    "\n",
    "hard_worker = data[data.hours_per_week == max_hour].count()[0]\n",
    "print(f\"Hard worker: {hard_worker}\")\n",
    "\n",
    "p = float(data[(data.hours_per_week == max_hour) & (data.salary >= ' >50K')].count()[0] / hard_worker) * 100\n",
    "\n",
    "print(f'Percentage of hard workers who earn >50k: {p} %')"
   ]
  },
  {
   "cell_type": "markdown",
   "metadata": {},
   "source": [
    "### 8. Count the average time of work (hours-per-week) for those who earn a little and a lot (salary) for each country (native-country). What will these be for Japan?"
   ]
  },
  {
   "cell_type": "code",
   "execution_count": 14,
   "metadata": {},
   "outputs": [
    {
     "name": "stdout",
     "output_type": "stream",
     "text": [
      "country \t salary \t average_time\n",
      " ?\t  <=50K\t 40.16475972540046\n",
      " ?\t  >50K\t 45.54794520547945\n",
      " Cambodia\t  <=50K\t 41.416666666666664\n",
      " Cambodia\t  >50K\t 40.0\n",
      " Canada\t  <=50K\t 37.91463414634146\n",
      " Canada\t  >50K\t 45.64102564102564\n",
      " China\t  <=50K\t 37.38181818181818\n",
      " China\t  >50K\t 38.9\n",
      " Columbia\t  <=50K\t 38.68421052631579\n",
      " Columbia\t  >50K\t 50.0\n",
      " Cuba\t  <=50K\t 37.98571428571429\n",
      " Cuba\t  >50K\t 42.44\n",
      " Dominican-Republic\t  <=50K\t 42.338235294117645\n",
      " Dominican-Republic\t  >50K\t 47.0\n",
      " Ecuador\t  <=50K\t 38.041666666666664\n",
      " Ecuador\t  >50K\t 48.75\n",
      " El-Salvador\t  <=50K\t 36.03092783505155\n",
      " El-Salvador\t  >50K\t 45.0\n",
      " England\t  <=50K\t 40.483333333333334\n",
      " England\t  >50K\t 44.53333333333333\n",
      " France\t  <=50K\t 41.05882352941177\n",
      " France\t  >50K\t 50.75\n",
      " Germany\t  <=50K\t 39.13978494623656\n",
      " Germany\t  >50K\t 44.97727272727273\n",
      " Greece\t  <=50K\t 41.80952380952381\n",
      " Greece\t  >50K\t 50.625\n",
      " Guatemala\t  <=50K\t 39.36065573770492\n",
      " Guatemala\t  >50K\t 36.666666666666664\n",
      " Haiti\t  <=50K\t 36.325\n",
      " Haiti\t  >50K\t 42.75\n",
      " Holand-Netherlands\t  <=50K\t 40.0\n",
      " Honduras\t  <=50K\t 34.333333333333336\n",
      " Honduras\t  >50K\t 60.0\n",
      " Hong\t  <=50K\t 39.142857142857146\n",
      " Hong\t  >50K\t 45.0\n",
      " Hungary\t  <=50K\t 31.3\n",
      " Hungary\t  >50K\t 50.0\n",
      " India\t  <=50K\t 38.233333333333334\n",
      " India\t  >50K\t 46.475\n",
      " Iran\t  <=50K\t 41.44\n",
      " Iran\t  >50K\t 47.5\n",
      " Ireland\t  <=50K\t 40.94736842105263\n",
      " Ireland\t  >50K\t 48.0\n",
      " Italy\t  <=50K\t 39.625\n",
      " Italy\t  >50K\t 45.4\n",
      " Jamaica\t  <=50K\t 38.23943661971831\n",
      " Jamaica\t  >50K\t 41.1\n",
      " Japan\t  <=50K\t 41.0\n",
      " Japan\t  >50K\t 47.958333333333336\n",
      " Laos\t  <=50K\t 40.375\n",
      " Laos\t  >50K\t 40.0\n",
      " Mexico\t  <=50K\t 40.00327868852459\n",
      " Mexico\t  >50K\t 46.57575757575758\n",
      " Nicaragua\t  <=50K\t 36.09375\n",
      " Nicaragua\t  >50K\t 37.5\n",
      " Outlying-US(Guam-USVI-etc)\t  <=50K\t 41.857142857142854\n",
      " Peru\t  <=50K\t 35.06896551724138\n",
      " Peru\t  >50K\t 40.0\n",
      " Philippines\t  <=50K\t 38.065693430656935\n",
      " Philippines\t  >50K\t 43.032786885245905\n",
      " Poland\t  <=50K\t 38.166666666666664\n",
      " Poland\t  >50K\t 39.0\n",
      " Portugal\t  <=50K\t 41.93939393939394\n",
      " Portugal\t  >50K\t 41.5\n",
      " Puerto-Rico\t  <=50K\t 38.470588235294116\n",
      " Puerto-Rico\t  >50K\t 39.416666666666664\n",
      " Scotland\t  <=50K\t 39.44444444444444\n",
      " Scotland\t  >50K\t 46.666666666666664\n",
      " South\t  <=50K\t 40.15625\n",
      " South\t  >50K\t 51.4375\n",
      " Taiwan\t  <=50K\t 33.774193548387096\n",
      " Taiwan\t  >50K\t 46.8\n",
      " Thailand\t  <=50K\t 42.86666666666667\n",
      " Thailand\t  >50K\t 58.333333333333336\n",
      " Trinadad&Tobago\t  <=50K\t 37.05882352941177\n",
      " Trinadad&Tobago\t  >50K\t 40.0\n",
      " United-States\t  <=50K\t 38.79912723305605\n",
      " United-States\t  >50K\t 45.50536884674383\n",
      " Vietnam\t  <=50K\t 37.193548387096776\n",
      " Vietnam\t  >50K\t 39.2\n",
      " Yugoslavia\t  <=50K\t 41.6\n",
      " Yugoslavia\t  >50K\t 49.5\n",
      "\n",
      "\n",
      "\n",
      "Japan\t  >50K\t 47.958333333333336\n",
      "Japan\t  <=50K\t 41.0\n"
     ]
    }
   ],
   "source": [
    "# You answer (code + results)\n",
    "print(f'country \\t salary \\t average_time')\n",
    "j_s_dicts = []\n",
    "j_avg_dicts = []\n",
    "for (c, s), sg in data.groupby(['native_country', 'salary']):\n",
    "    mean = sg['hours_per_week'].mean()\n",
    "    print(f'{c}\\t {s}\\t {mean}')\n",
    "    if c == ' Japan':\n",
    "        j_s_dicts.append(s)\n",
    "        j_avg_dicts.append(mean)\n",
    "\n",
    "        \n",
    "print(\"\\n\\n\")\n",
    "for i in range(2):\n",
    "    print(f'Japan\\t {j_s_dicts.pop()}\\t {j_avg_dicts.pop()}')\n",
    "       \n",
    "\n"
   ]
  },
  {
   "cell_type": "code",
   "execution_count": null,
   "metadata": {},
   "outputs": [],
   "source": []
  },
  {
   "cell_type": "code",
   "execution_count": null,
   "metadata": {},
   "outputs": [],
   "source": []
  }
 ],
 "metadata": {
  "kernelspec": {
   "display_name": "Python 3",
   "language": "python",
   "name": "python3"
  },
  "language_info": {
   "codemirror_mode": {
    "name": "ipython",
    "version": 3
   },
   "file_extension": ".py",
   "mimetype": "text/x-python",
   "name": "python",
   "nbconvert_exporter": "python",
   "pygments_lexer": "ipython3",
   "version": "3.7.8"
  }
 },
 "nbformat": 4,
 "nbformat_minor": 2
}
